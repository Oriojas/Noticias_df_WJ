{
 "cells": [
  {
   "cell_type": "markdown",
   "metadata": {},
   "source": [
    "# Categorización de noticias"
   ]
  },
  {
   "cell_type": "markdown",
   "metadata": {},
   "source": [
    "## Preguntas a responder con el anális\n",
    "- ¿Se pueden catalogar las noticias con la descripción y los titulares? Compare su clasificación con las categorías incluidas en el set de datos.\n",
    "- ¿Existen estilos de escritura asociados a cada categoría?\n",
    "- ¿Qué se puede decir de los autores?\n",
    "- ¿Qué información útil se puede extraer de los datos?"
   ]
  },
  {
   "cell_type": "markdown",
   "metadata": {},
   "source": [
    "### Análisis exploratorio y carga de los datos"
   ]
  },
  {
   "cell_type": "code",
   "execution_count": 1,
   "metadata": {},
   "outputs": [],
   "source": [
    "import pandas as pd\n",
    "import matplotlib.pyplot as plt\n",
    "import numpy as np\n",
    "from tensorflow.contrib import learn\n",
    "import tensorflow as tf\n",
    "import string\n",
    "from sklearn.preprocessing import OneHotEncoder\n",
    "from sklearn.preprocessing import LabelEncoder\n",
    "session = tf.Session()"
   ]
  },
  {
   "cell_type": "code",
   "execution_count": 2,
   "metadata": {},
   "outputs": [],
   "source": [
    "df = pd.read_json(\"../Data/News_Category_Dataset_v2.json\", lines = True, convert_dates = True)"
   ]
  },
  {
   "cell_type": "code",
   "execution_count": 3,
   "metadata": {},
   "outputs": [
    {
     "data": {
      "text/html": [
       "<div>\n",
       "<style scoped>\n",
       "    .dataframe tbody tr th:only-of-type {\n",
       "        vertical-align: middle;\n",
       "    }\n",
       "\n",
       "    .dataframe tbody tr th {\n",
       "        vertical-align: top;\n",
       "    }\n",
       "\n",
       "    .dataframe thead th {\n",
       "        text-align: right;\n",
       "    }\n",
       "</style>\n",
       "<table border=\"1\" class=\"dataframe\">\n",
       "  <thead>\n",
       "    <tr style=\"text-align: right;\">\n",
       "      <th></th>\n",
       "      <th>authors</th>\n",
       "      <th>category</th>\n",
       "      <th>date</th>\n",
       "      <th>headline</th>\n",
       "      <th>link</th>\n",
       "      <th>short_description</th>\n",
       "    </tr>\n",
       "  </thead>\n",
       "  <tbody>\n",
       "    <tr>\n",
       "      <th>0</th>\n",
       "      <td>Melissa Jeltsen</td>\n",
       "      <td>CRIME</td>\n",
       "      <td>2018-05-26</td>\n",
       "      <td>There Were 2 Mass Shootings In Texas Last Week...</td>\n",
       "      <td>https://www.huffingtonpost.com/entry/texas-ama...</td>\n",
       "      <td>She left her husband. He killed their children...</td>\n",
       "    </tr>\n",
       "    <tr>\n",
       "      <th>1</th>\n",
       "      <td>Andy McDonald</td>\n",
       "      <td>ENTERTAINMENT</td>\n",
       "      <td>2018-05-26</td>\n",
       "      <td>Will Smith Joins Diplo And Nicky Jam For The 2...</td>\n",
       "      <td>https://www.huffingtonpost.com/entry/will-smit...</td>\n",
       "      <td>Of course it has a song.</td>\n",
       "    </tr>\n",
       "    <tr>\n",
       "      <th>2</th>\n",
       "      <td>Ron Dicker</td>\n",
       "      <td>ENTERTAINMENT</td>\n",
       "      <td>2018-05-26</td>\n",
       "      <td>Hugh Grant Marries For The First Time At Age 57</td>\n",
       "      <td>https://www.huffingtonpost.com/entry/hugh-gran...</td>\n",
       "      <td>The actor and his longtime girlfriend Anna Ebe...</td>\n",
       "    </tr>\n",
       "    <tr>\n",
       "      <th>3</th>\n",
       "      <td>Ron Dicker</td>\n",
       "      <td>ENTERTAINMENT</td>\n",
       "      <td>2018-05-26</td>\n",
       "      <td>Jim Carrey Blasts 'Castrato' Adam Schiff And D...</td>\n",
       "      <td>https://www.huffingtonpost.com/entry/jim-carre...</td>\n",
       "      <td>The actor gives Dems an ass-kicking for not fi...</td>\n",
       "    </tr>\n",
       "    <tr>\n",
       "      <th>4</th>\n",
       "      <td>Ron Dicker</td>\n",
       "      <td>ENTERTAINMENT</td>\n",
       "      <td>2018-05-26</td>\n",
       "      <td>Julianna Margulies Uses Donald Trump Poop Bags...</td>\n",
       "      <td>https://www.huffingtonpost.com/entry/julianna-...</td>\n",
       "      <td>The \"Dietland\" actress said using the bags is ...</td>\n",
       "    </tr>\n",
       "  </tbody>\n",
       "</table>\n",
       "</div>"
      ],
      "text/plain": [
       "           authors       category       date  \\\n",
       "0  Melissa Jeltsen          CRIME 2018-05-26   \n",
       "1    Andy McDonald  ENTERTAINMENT 2018-05-26   \n",
       "2       Ron Dicker  ENTERTAINMENT 2018-05-26   \n",
       "3       Ron Dicker  ENTERTAINMENT 2018-05-26   \n",
       "4       Ron Dicker  ENTERTAINMENT 2018-05-26   \n",
       "\n",
       "                                            headline  \\\n",
       "0  There Were 2 Mass Shootings In Texas Last Week...   \n",
       "1  Will Smith Joins Diplo And Nicky Jam For The 2...   \n",
       "2    Hugh Grant Marries For The First Time At Age 57   \n",
       "3  Jim Carrey Blasts 'Castrato' Adam Schiff And D...   \n",
       "4  Julianna Margulies Uses Donald Trump Poop Bags...   \n",
       "\n",
       "                                                link  \\\n",
       "0  https://www.huffingtonpost.com/entry/texas-ama...   \n",
       "1  https://www.huffingtonpost.com/entry/will-smit...   \n",
       "2  https://www.huffingtonpost.com/entry/hugh-gran...   \n",
       "3  https://www.huffingtonpost.com/entry/jim-carre...   \n",
       "4  https://www.huffingtonpost.com/entry/julianna-...   \n",
       "\n",
       "                                   short_description  \n",
       "0  She left her husband. He killed their children...  \n",
       "1                           Of course it has a song.  \n",
       "2  The actor and his longtime girlfriend Anna Ebe...  \n",
       "3  The actor gives Dems an ass-kicking for not fi...  \n",
       "4  The \"Dietland\" actress said using the bags is ...  "
      ]
     },
     "execution_count": 3,
     "metadata": {},
     "output_type": "execute_result"
    }
   ],
   "source": [
    "df.head()"
   ]
  },
  {
   "cell_type": "code",
   "execution_count": 4,
   "metadata": {},
   "outputs": [
    {
     "data": {
      "text/html": [
       "<div>\n",
       "<style scoped>\n",
       "    .dataframe tbody tr th:only-of-type {\n",
       "        vertical-align: middle;\n",
       "    }\n",
       "\n",
       "    .dataframe tbody tr th {\n",
       "        vertical-align: top;\n",
       "    }\n",
       "\n",
       "    .dataframe thead th {\n",
       "        text-align: right;\n",
       "    }\n",
       "</style>\n",
       "<table border=\"1\" class=\"dataframe\">\n",
       "  <thead>\n",
       "    <tr style=\"text-align: right;\">\n",
       "      <th></th>\n",
       "      <th>authors</th>\n",
       "      <th>category</th>\n",
       "      <th>date</th>\n",
       "      <th>headline</th>\n",
       "      <th>link</th>\n",
       "      <th>short_description</th>\n",
       "    </tr>\n",
       "  </thead>\n",
       "  <tbody>\n",
       "    <tr>\n",
       "      <th>count</th>\n",
       "      <td>200853</td>\n",
       "      <td>200853</td>\n",
       "      <td>200853</td>\n",
       "      <td>200853</td>\n",
       "      <td>200853</td>\n",
       "      <td>200853</td>\n",
       "    </tr>\n",
       "    <tr>\n",
       "      <th>unique</th>\n",
       "      <td>27993</td>\n",
       "      <td>41</td>\n",
       "      <td>2309</td>\n",
       "      <td>199344</td>\n",
       "      <td>200812</td>\n",
       "      <td>178353</td>\n",
       "    </tr>\n",
       "    <tr>\n",
       "      <th>top</th>\n",
       "      <td></td>\n",
       "      <td>POLITICS</td>\n",
       "      <td>2013-01-17 00:00:00</td>\n",
       "      <td>Sunday Roundup</td>\n",
       "      <td>https://www.huffingtonpost.comhttp://stylenews...</td>\n",
       "      <td></td>\n",
       "    </tr>\n",
       "    <tr>\n",
       "      <th>freq</th>\n",
       "      <td>36620</td>\n",
       "      <td>32739</td>\n",
       "      <td>100</td>\n",
       "      <td>90</td>\n",
       "      <td>2</td>\n",
       "      <td>19712</td>\n",
       "    </tr>\n",
       "    <tr>\n",
       "      <th>first</th>\n",
       "      <td>NaN</td>\n",
       "      <td>NaN</td>\n",
       "      <td>2012-01-28 00:00:00</td>\n",
       "      <td>NaN</td>\n",
       "      <td>NaN</td>\n",
       "      <td>NaN</td>\n",
       "    </tr>\n",
       "    <tr>\n",
       "      <th>last</th>\n",
       "      <td>NaN</td>\n",
       "      <td>NaN</td>\n",
       "      <td>2018-05-26 00:00:00</td>\n",
       "      <td>NaN</td>\n",
       "      <td>NaN</td>\n",
       "      <td>NaN</td>\n",
       "    </tr>\n",
       "  </tbody>\n",
       "</table>\n",
       "</div>"
      ],
      "text/plain": [
       "       authors  category                 date        headline  \\\n",
       "count   200853    200853               200853          200853   \n",
       "unique   27993        41                 2309          199344   \n",
       "top             POLITICS  2013-01-17 00:00:00  Sunday Roundup   \n",
       "freq     36620     32739                  100              90   \n",
       "first      NaN       NaN  2012-01-28 00:00:00             NaN   \n",
       "last       NaN       NaN  2018-05-26 00:00:00             NaN   \n",
       "\n",
       "                                                     link short_description  \n",
       "count                                              200853            200853  \n",
       "unique                                             200812            178353  \n",
       "top     https://www.huffingtonpost.comhttp://stylenews...                    \n",
       "freq                                                    2             19712  \n",
       "first                                                 NaN               NaN  \n",
       "last                                                  NaN               NaN  "
      ]
     },
     "execution_count": 4,
     "metadata": {},
     "output_type": "execute_result"
    }
   ],
   "source": [
    "df.describe()"
   ]
  },
  {
   "cell_type": "markdown",
   "metadata": {},
   "source": [
    "### Variable category"
   ]
  },
  {
   "cell_type": "code",
   "execution_count": 5,
   "metadata": {},
   "outputs": [
    {
     "data": {
      "image/png": "[encoded data removed]",
      "text/plain": [
       "<Figure size 1152x432 with 1 Axes>"
      ]
     },
     "metadata": {
      "needs_background": "light"
     },
     "output_type": "display_data"
    }
   ],
   "source": [
    "plt.figure(figsize=(16,6)) # tamaño del plot\n",
    "df.groupby('category').link.count().plot.bar(ylim=0)\n",
    "plt.xlabel(\"Categoria\")\n",
    "plt.ylabel(\"Cantidad de publicaciones\")\n",
    "plt.title(\"Distribución de categorias de las noticias\")\n",
    "plt.show()   "
   ]
  },
  {
   "cell_type": "code",
   "execution_count": 6,
   "metadata": {},
   "outputs": [
    {
     "name": "stdout",
     "output_type": "stream",
     "text": [
      "Se tienen 41 categorias, y no tienen datos faltantes 200853 observaciones\n"
     ]
    }
   ],
   "source": [
    "uni_c = df[\"category\"].nunique()\n",
    "len_c =len(df[\"category\"])\n",
    "len(df)\n",
    "print(\"Se tienen {} categorias, y no tienen datos faltantes {} observaciones\".format(uni_c, len_c))"
   ]
  },
  {
   "cell_type": "code",
   "execution_count": 7,
   "metadata": {},
   "outputs": [
    {
     "name": "stdout",
     "output_type": "stream",
     "text": [
      "ENTERTAINMENT = 16058 noticias, POLITICS = 32739 noticias, WORLDPOST = 2579\n"
     ]
    }
   ],
   "source": [
    "c1 = len(df[df['category'] == 'ENTERTAINMENT'])\n",
    "c2 = len(df[df['category'] == 'POLITICS'])\n",
    "c3 = len(df[df['category'] == 'WORLDPOST'])\n",
    "print(\"ENTERTAINMENT = {} noticias, POLITICS = {} noticias, WORLDPOST = {}\".format(c1, c2, c3))"
   ]
  },
  {
   "cell_type": "code",
   "execution_count": 8,
   "metadata": {},
   "outputs": [
    {
     "name": "stdout",
     "output_type": "stream",
     "text": [
      "Las categorias ENTERTAINMENT, POLITICS y WORLDPOST son el 25.58 % de las noticias,\n",
      "un total de 51376 noticias\n"
     ]
    }
   ],
   "source": [
    "p = (c1 + c2 + c3)/len(df)*100\n",
    "p = np.round(p, 2)\n",
    "print(\"Las categorias ENTERTAINMENT, POLITICS y WORLDPOST son el {} % de las noticias,\".format(p))\n",
    "print(\"un total de {} noticias\".format(c1 + c2 + c3))"
   ]
  },
  {
   "cell_type": "markdown",
   "metadata": {},
   "source": [
    "La variable **category** tiene 41 categorias pero nos estan distribuidas de manera uniforme *ENTERTAINMENT*, *POLITICS* y *WORLDPOST* tienen el 25.58% de todas las noticias"
   ]
  },
  {
   "cell_type": "code",
   "execution_count": 9,
   "metadata": {},
   "outputs": [
    {
     "data": {
      "text/html": [
       "<div>\n",
       "<style scoped>\n",
       "    .dataframe tbody tr th:only-of-type {\n",
       "        vertical-align: middle;\n",
       "    }\n",
       "\n",
       "    .dataframe tbody tr th {\n",
       "        vertical-align: top;\n",
       "    }\n",
       "\n",
       "    .dataframe thead th {\n",
       "        text-align: right;\n",
       "    }\n",
       "</style>\n",
       "<table border=\"1\" class=\"dataframe\">\n",
       "  <thead>\n",
       "    <tr style=\"text-align: right;\">\n",
       "      <th></th>\n",
       "      <th>Frecuencia</th>\n",
       "      <th>Categoria</th>\n",
       "    </tr>\n",
       "  </thead>\n",
       "  <tbody>\n",
       "    <tr>\n",
       "      <th>0</th>\n",
       "      <td>32739</td>\n",
       "      <td>POLITICS</td>\n",
       "    </tr>\n",
       "    <tr>\n",
       "      <th>1</th>\n",
       "      <td>17827</td>\n",
       "      <td>WELLNESS</td>\n",
       "    </tr>\n",
       "    <tr>\n",
       "      <th>2</th>\n",
       "      <td>16058</td>\n",
       "      <td>ENTERTAINMENT</td>\n",
       "    </tr>\n",
       "    <tr>\n",
       "      <th>3</th>\n",
       "      <td>9887</td>\n",
       "      <td>TRAVEL</td>\n",
       "    </tr>\n",
       "    <tr>\n",
       "      <th>4</th>\n",
       "      <td>9649</td>\n",
       "      <td>STYLE &amp; BEAUTY</td>\n",
       "    </tr>\n",
       "    <tr>\n",
       "      <th>5</th>\n",
       "      <td>8677</td>\n",
       "      <td>PARENTING</td>\n",
       "    </tr>\n",
       "    <tr>\n",
       "      <th>6</th>\n",
       "      <td>6694</td>\n",
       "      <td>HEALTHY LIVING</td>\n",
       "    </tr>\n",
       "    <tr>\n",
       "      <th>7</th>\n",
       "      <td>6314</td>\n",
       "      <td>QUEER VOICES</td>\n",
       "    </tr>\n",
       "    <tr>\n",
       "      <th>8</th>\n",
       "      <td>6226</td>\n",
       "      <td>FOOD &amp; DRINK</td>\n",
       "    </tr>\n",
       "  </tbody>\n",
       "</table>\n",
       "</div>"
      ],
      "text/plain": [
       "   Frecuencia       Categoria\n",
       "0       32739        POLITICS\n",
       "1       17827        WELLNESS\n",
       "2       16058   ENTERTAINMENT\n",
       "3        9887          TRAVEL\n",
       "4        9649  STYLE & BEAUTY\n",
       "5        8677       PARENTING\n",
       "6        6694  HEALTHY LIVING\n",
       "7        6314    QUEER VOICES\n",
       "8        6226    FOOD & DRINK"
      ]
     },
     "execution_count": 9,
     "metadata": {},
     "output_type": "execute_result"
    }
   ],
   "source": [
    "top_category = pd.DataFrame(pd.value_counts(df['category']))\n",
    "top_category['Cat'] = top_category.index # organizar top categorias\n",
    "top_category = top_category.reset_index(drop = True)\n",
    "top_category.columns = ['Frecuencia', 'Categoria']\n",
    "top_category = top_category.iloc[0:9]\n",
    "top_category"
   ]
  },
  {
   "cell_type": "code",
   "execution_count": 10,
   "metadata": {},
   "outputs": [
    {
     "data": {
      "image/png": "[encoded data removed]",
      "text/plain": [
       "<Figure size 1152x432 with 1 Axes>"
      ]
     },
     "metadata": {
      "needs_background": "light"
     },
     "output_type": "display_data"
    }
   ],
   "source": [
    "plt.figure(figsize=(16,6)) # tamaño del plot\n",
    "plt.bar(top_category.Categoria, top_category.Frecuencia)\n",
    "plt.xlabel('Categoria')\n",
    "plt.ylabel('Frecuencia')\n",
    "plt.title('Top 10 categorias de noticias mas registradas en el dataset')\n",
    "plt.show()"
   ]
  },
  {
   "cell_type": "markdown",
   "metadata": {},
   "source": [
    "### Variable  authors"
   ]
  },
  {
   "cell_type": "code",
   "execution_count": 11,
   "metadata": {},
   "outputs": [
    {
     "data": {
      "text/plain": [
       "27993"
      ]
     },
     "execution_count": 11,
     "metadata": {},
     "output_type": "execute_result"
    }
   ],
   "source": [
    "df[\"authors\"].nunique()"
   ]
  },
  {
   "cell_type": "code",
   "execution_count": 12,
   "metadata": {},
   "outputs": [
    {
     "data": {
      "text/plain": [
       "                                                                                                         36620\n",
       "Lee Moran                                                                                                 2423\n",
       "Ron Dicker                                                                                                1913\n",
       "Reuters, Reuters                                                                                          1562\n",
       "Ed Mazza                                                                                                  1322\n",
       "Cole Delbyck                                                                                              1140\n",
       "Andy McDonald                                                                                             1068\n",
       "Julia Brucculieri                                                                                         1059\n",
       "Carly Ledbetter                                                                                           1054\n",
       "Curtis M. Wong                                                                                            1020\n",
       "Mary Papenfuss                                                                                             974\n",
       "Bill Bradley                                                                                               965\n",
       "Dana Oliver                                                                                                936\n",
       "Sam Levine                                                                                                 893\n",
       "David Moye                                                                                                 893\n",
       "Michelle Manetti                                                                                           876\n",
       "Michelle Persad                                                                                            875\n",
       "Nina Golgowski                                                                                             868\n",
       "Igor Bobic                                                                                                 866\n",
       "Ellie Krupnick                                                                                             861\n",
       "Dominique Mosbergen                                                                                        784\n",
       "Jamie Feldman                                                                                              772\n",
       "James Michael Nichols                                                                                      764\n",
       "Caroline Bologna                                                                                           762\n",
       "Rebecca Adams                                                                                              753\n",
       "Jenna Amatulli                                                                                             711\n",
       "Matthew Jacobs                                                                                             702\n",
       "Ryan Grenoble                                                                                              698\n",
       "Daniel Marans                                                                                              669\n",
       "Julie R. Thomson                                                                                           650\n",
       "                                                                                                         ...  \n",
       "Ryan Grenoble and Alexander C. Kaufman                                                                       1\n",
       "Anthony C. Infanti, ContributorProfessor of Law, University of Pittsburgh School of Law.                     1\n",
       "Kathleen Massara, Contributor\\nSenior editor, Christies.com                                                  1\n",
       "Jennifer Hicks, ContributorWriter, RealLifeParentingBlog.com                                                 1\n",
       "Tim Ryan, Courthouse News                                                                                    1\n",
       "Yasamin Beitollahi, ContributorDigital Media Professional, Huffington Post Contributor, Publi...             1\n",
       "Ann Werner, ContributorAuthor of The People Next Door, Crazy, Dreams and Nightmares, ...                     1\n",
       "Joah Spearman, ContributorCo-Founder & CEO, Localeur                                                         1\n",
       "Erika Oppenheimer, ContributorSAT/ACT Prep and Mindset Coach, Author of \"Acing It! A Mindful...              1\n",
       "David T. Hill and Krishna Sen, Contributors                                                                  1\n",
       "Marc Lamont Hill, ContributorDistinguished Professor of Africana Studies at Morehouse College                1\n",
       "Wolfgang Danspeckgruber, ContributorFounding Director of the Liechtenstein Institute on Self-Deter...        1\n",
       "Nora Morgenstern, ContributorI'm a retired physician and unpaid political protester.                         1\n",
       "Gov. Chris Gregoire, Contributor\\nGovernor of Washington                                                     1\n",
       "Dr. Ellen Prager and Carl Safina, Contributors                                                               1\n",
       "Harold Anthony Lloyd, Contributor\\nWake Forest Law School Professor                                          1\n",
       "Sakshee Chawla, ContributorSmithie, writer, artist and avid reader                                           1\n",
       "Joshua Ebrahimi, ContributorStudent, Binghamton University                                                   1\n",
       "Rabbi Deborah R. Prinz, ContributorAuthor, 'On the Chocolate Trail: A Delicious Adventure Connect...         1\n",
       "Peter Brown Hoffmeister, Contributor\\nAuthor of the basketball novel This Is The Part Where You Laugh        1\n",
       "Oliver Noble and Chantelle DMello                                                                            1\n",
       "Craig Zamary, ContributorBoard Member, Artificial Intelligence, Innovation, Serial entr...                   1\n",
       "Belinda Parmar, Contributor\\nFounder, Lady Geek and Lady Geek TV                                             1\n",
       "Alison Harrington, ContributorPastor of Southside Presbyterian Church in Tucson, Arizona                     1\n",
       "Maxwell Strachan, Todd Van Luling, and Sara Boboltz                                                          1\n",
       "Remington A. Gregg and Maya Raghu, Contributors                                                              1\n",
       "Jake Coyle And Lindsey Bahr, AP                                                                              1\n",
       "David Brunnstrom and Linda Sieg, Reuters                                                                     1\n",
       "Julie Lauren, ContributorWriter - Wordsmith - Creator                                                        1\n",
       "Jess Kapp, ContributorGeologist at University of Arizona. Writer of memoir and ficti...                      1\n",
       "Name: authors, Length: 27993, dtype: int64"
      ]
     },
     "execution_count": 12,
     "metadata": {},
     "output_type": "execute_result"
    }
   ],
   "source": [
    "pd.value_counts(df['authors'])"
   ]
  },
  {
   "cell_type": "code",
   "execution_count": null,
   "metadata": {},
   "outputs": [],
   "source": []
  },
  {
   "cell_type": "code",
   "execution_count": 13,
   "metadata": {},
   "outputs": [
    {
     "data": {
      "text/html": [
       "<div>\n",
       "<style scoped>\n",
       "    .dataframe tbody tr th:only-of-type {\n",
       "        vertical-align: middle;\n",
       "    }\n",
       "\n",
       "    .dataframe tbody tr th {\n",
       "        vertical-align: top;\n",
       "    }\n",
       "\n",
       "    .dataframe thead th {\n",
       "        text-align: right;\n",
       "    }\n",
       "</style>\n",
       "<table border=\"1\" class=\"dataframe\">\n",
       "  <thead>\n",
       "    <tr style=\"text-align: right;\">\n",
       "      <th></th>\n",
       "      <th>Frecuencia</th>\n",
       "      <th>authors</th>\n",
       "    </tr>\n",
       "  </thead>\n",
       "  <tbody>\n",
       "    <tr>\n",
       "      <th>0</th>\n",
       "      <td>36620</td>\n",
       "      <td></td>\n",
       "    </tr>\n",
       "    <tr>\n",
       "      <th>1</th>\n",
       "      <td>2423</td>\n",
       "      <td>Lee Moran</td>\n",
       "    </tr>\n",
       "    <tr>\n",
       "      <th>2</th>\n",
       "      <td>1913</td>\n",
       "      <td>Ron Dicker</td>\n",
       "    </tr>\n",
       "    <tr>\n",
       "      <th>3</th>\n",
       "      <td>1562</td>\n",
       "      <td>Reuters, Reuters</td>\n",
       "    </tr>\n",
       "    <tr>\n",
       "      <th>4</th>\n",
       "      <td>1322</td>\n",
       "      <td>Ed Mazza</td>\n",
       "    </tr>\n",
       "    <tr>\n",
       "      <th>5</th>\n",
       "      <td>1140</td>\n",
       "      <td>Cole Delbyck</td>\n",
       "    </tr>\n",
       "    <tr>\n",
       "      <th>6</th>\n",
       "      <td>1068</td>\n",
       "      <td>Andy McDonald</td>\n",
       "    </tr>\n",
       "    <tr>\n",
       "      <th>7</th>\n",
       "      <td>1059</td>\n",
       "      <td>Julia Brucculieri</td>\n",
       "    </tr>\n",
       "    <tr>\n",
       "      <th>8</th>\n",
       "      <td>1054</td>\n",
       "      <td>Carly Ledbetter</td>\n",
       "    </tr>\n",
       "    <tr>\n",
       "      <th>9</th>\n",
       "      <td>1020</td>\n",
       "      <td>Curtis M. Wong</td>\n",
       "    </tr>\n",
       "    <tr>\n",
       "      <th>10</th>\n",
       "      <td>974</td>\n",
       "      <td>Mary Papenfuss</td>\n",
       "    </tr>\n",
       "  </tbody>\n",
       "</table>\n",
       "</div>"
      ],
      "text/plain": [
       "    Frecuencia            authors\n",
       "0        36620                   \n",
       "1         2423          Lee Moran\n",
       "2         1913         Ron Dicker\n",
       "3         1562   Reuters, Reuters\n",
       "4         1322           Ed Mazza\n",
       "5         1140       Cole Delbyck\n",
       "6         1068      Andy McDonald\n",
       "7         1059  Julia Brucculieri\n",
       "8         1054    Carly Ledbetter\n",
       "9         1020     Curtis M. Wong\n",
       "10         974     Mary Papenfuss"
      ]
     },
     "execution_count": 13,
     "metadata": {},
     "output_type": "execute_result"
    }
   ],
   "source": [
    "top_authors = pd.DataFrame(pd.value_counts(df['authors']))\n",
    "top_authors['Aut'] = top_authors.index # organizar top categorias\n",
    "top_authors = top_authors.reset_index(drop = True)\n",
    "top_authors.columns = ['Frecuencia', 'authors']\n",
    "top_authors = top_authors.iloc[0:11]\n",
    "top_authors"
   ]
  },
  {
   "cell_type": "code",
   "execution_count": 14,
   "metadata": {},
   "outputs": [
    {
     "data": {
      "image/png": "[encoded data removed]",
      "text/plain": [
       "<Figure size 1152x432 with 1 Axes>"
      ]
     },
     "metadata": {
      "needs_background": "light"
     },
     "output_type": "display_data"
    }
   ],
   "source": [
    "plt.figure(figsize=(16,6)) # tamaño del plot\n",
    "plt.bar(top_authors.authors, top_authors.Frecuencia)\n",
    "plt.xlabel('Autor')\n",
    "plt.ylabel('Frecuencia')\n",
    "plt.title('Top 10 autores de noticias registradas en el dataset')\n",
    "plt.show()"
   ]
  },
  {
   "cell_type": "code",
   "execution_count": 15,
   "metadata": {},
   "outputs": [
    {
     "data": {
      "text/plain": [
       "False    164233\n",
       "True      36620\n",
       "Name: authors, dtype: int64"
      ]
     },
     "execution_count": 15,
     "metadata": {},
     "output_type": "execute_result"
    }
   ],
   "source": [
    "pd.value_counts(df['authors'] == '')"
   ]
  },
  {
   "cell_type": "code",
   "execution_count": 16,
   "metadata": {},
   "outputs": [
    {
     "data": {
      "text/plain": [
       "0.18232239498538733"
      ]
     },
     "execution_count": 16,
     "metadata": {},
     "output_type": "execute_result"
    }
   ],
   "source": [
    "36620/ len(df)"
   ]
  },
  {
   "cell_type": "markdown",
   "metadata": {},
   "source": [
    "En el análisis se puede observar que se tienen **36620** registros sin el autor esto equivale al **18.23%** del total de los articulos por esta razón se procede a visualizar los datos sin tener en cuenta los valores que no tienen el autor"
   ]
  },
  {
   "cell_type": "code",
   "execution_count": 17,
   "metadata": {},
   "outputs": [
    {
     "data": {
      "image/png": "[encoded data removed]",
      "text/plain": [
       "<Figure size 1152x432 with 1 Axes>"
      ]
     },
     "metadata": {
      "needs_background": "light"
     },
     "output_type": "display_data"
    }
   ],
   "source": [
    "top_authors_nw = top_authors.iloc[1:12] # no se seleccionan los datos sin autor\n",
    "plt.figure(figsize=(16,6)) # tamaño del plot\n",
    "plt.bar(top_authors_nw.authors, top_authors_nw.Frecuencia)\n",
    "plt.xlabel('Autor')\n",
    "plt.ylabel('Frecuencia')\n",
    "plt.title('Top 10 autores de noticias registradas en el dataset, sin tener en cuenta faltantes')\n",
    "plt.show()"
   ]
  },
  {
   "cell_type": "markdown",
   "metadata": {},
   "source": [
    "### Variable date"
   ]
  },
  {
   "cell_type": "code",
   "execution_count": 18,
   "metadata": {},
   "outputs": [
    {
     "data": {
      "text/html": [
       "<div>\n",
       "<style scoped>\n",
       "    .dataframe tbody tr th:only-of-type {\n",
       "        vertical-align: middle;\n",
       "    }\n",
       "\n",
       "    .dataframe tbody tr th {\n",
       "        vertical-align: top;\n",
       "    }\n",
       "\n",
       "    .dataframe thead th {\n",
       "        text-align: right;\n",
       "    }\n",
       "</style>\n",
       "<table border=\"1\" class=\"dataframe\">\n",
       "  <thead>\n",
       "    <tr style=\"text-align: right;\">\n",
       "      <th></th>\n",
       "      <th>date</th>\n",
       "    </tr>\n",
       "  </thead>\n",
       "  <tbody>\n",
       "    <tr>\n",
       "      <th>0</th>\n",
       "      <td>2018-05-26</td>\n",
       "    </tr>\n",
       "    <tr>\n",
       "      <th>1</th>\n",
       "      <td>2018-05-26</td>\n",
       "    </tr>\n",
       "    <tr>\n",
       "      <th>2</th>\n",
       "      <td>2018-05-26</td>\n",
       "    </tr>\n",
       "    <tr>\n",
       "      <th>3</th>\n",
       "      <td>2018-05-26</td>\n",
       "    </tr>\n",
       "    <tr>\n",
       "      <th>4</th>\n",
       "      <td>2018-05-26</td>\n",
       "    </tr>\n",
       "  </tbody>\n",
       "</table>\n",
       "</div>"
      ],
      "text/plain": [
       "        date\n",
       "0 2018-05-26\n",
       "1 2018-05-26\n",
       "2 2018-05-26\n",
       "3 2018-05-26\n",
       "4 2018-05-26"
      ]
     },
     "execution_count": 18,
     "metadata": {},
     "output_type": "execute_result"
    }
   ],
   "source": [
    "date = pd.DataFrame(df['date'])\n",
    "date.head()"
   ]
  },
  {
   "cell_type": "code",
   "execution_count": 19,
   "metadata": {},
   "outputs": [
    {
     "data": {
      "text/plain": [
       "pandas.core.frame.DataFrame"
      ]
     },
     "execution_count": 19,
     "metadata": {},
     "output_type": "execute_result"
    }
   ],
   "source": [
    "type(date)"
   ]
  },
  {
   "cell_type": "code",
   "execution_count": 20,
   "metadata": {},
   "outputs": [
    {
     "data": {
      "text/html": [
       "<div>\n",
       "<style scoped>\n",
       "    .dataframe tbody tr th:only-of-type {\n",
       "        vertical-align: middle;\n",
       "    }\n",
       "\n",
       "    .dataframe tbody tr th {\n",
       "        vertical-align: top;\n",
       "    }\n",
       "\n",
       "    .dataframe thead th {\n",
       "        text-align: right;\n",
       "    }\n",
       "</style>\n",
       "<table border=\"1\" class=\"dataframe\">\n",
       "  <thead>\n",
       "    <tr style=\"text-align: right;\">\n",
       "      <th></th>\n",
       "      <th>Freq</th>\n",
       "    </tr>\n",
       "    <tr>\n",
       "      <th>date</th>\n",
       "      <th></th>\n",
       "    </tr>\n",
       "  </thead>\n",
       "  <tbody>\n",
       "    <tr>\n",
       "      <th>2018-05-26</th>\n",
       "      <td>1</td>\n",
       "    </tr>\n",
       "    <tr>\n",
       "      <th>2018-05-26</th>\n",
       "      <td>1</td>\n",
       "    </tr>\n",
       "    <tr>\n",
       "      <th>2018-05-26</th>\n",
       "      <td>1</td>\n",
       "    </tr>\n",
       "    <tr>\n",
       "      <th>2018-05-26</th>\n",
       "      <td>1</td>\n",
       "    </tr>\n",
       "    <tr>\n",
       "      <th>2018-05-26</th>\n",
       "      <td>1</td>\n",
       "    </tr>\n",
       "  </tbody>\n",
       "</table>\n",
       "</div>"
      ],
      "text/plain": [
       "            Freq\n",
       "date            \n",
       "2018-05-26     1\n",
       "2018-05-26     1\n",
       "2018-05-26     1\n",
       "2018-05-26     1\n",
       "2018-05-26     1"
      ]
     },
     "execution_count": 20,
     "metadata": {},
     "output_type": "execute_result"
    }
   ],
   "source": [
    "date['Freq'] = 1\n",
    "date.index = date['date'] \n",
    "date = date.drop(columns=['date'])\n",
    "date.head()"
   ]
  },
  {
   "cell_type": "code",
   "execution_count": 21,
   "metadata": {},
   "outputs": [
    {
     "data": {
      "text/html": [
       "<div>\n",
       "<style scoped>\n",
       "    .dataframe tbody tr th:only-of-type {\n",
       "        vertical-align: middle;\n",
       "    }\n",
       "\n",
       "    .dataframe tbody tr th {\n",
       "        vertical-align: top;\n",
       "    }\n",
       "\n",
       "    .dataframe thead th {\n",
       "        text-align: right;\n",
       "    }\n",
       "</style>\n",
       "<table border=\"1\" class=\"dataframe\">\n",
       "  <thead>\n",
       "    <tr style=\"text-align: right;\">\n",
       "      <th></th>\n",
       "      <th>Freq</th>\n",
       "    </tr>\n",
       "    <tr>\n",
       "      <th>date</th>\n",
       "      <th></th>\n",
       "    </tr>\n",
       "  </thead>\n",
       "  <tbody>\n",
       "    <tr>\n",
       "      <th>2012-01-28</th>\n",
       "      <td>66</td>\n",
       "    </tr>\n",
       "    <tr>\n",
       "      <th>2012-01-29</th>\n",
       "      <td>65</td>\n",
       "    </tr>\n",
       "    <tr>\n",
       "      <th>2012-01-30</th>\n",
       "      <td>100</td>\n",
       "    </tr>\n",
       "    <tr>\n",
       "      <th>2012-01-31</th>\n",
       "      <td>100</td>\n",
       "    </tr>\n",
       "    <tr>\n",
       "      <th>2012-02-01</th>\n",
       "      <td>100</td>\n",
       "    </tr>\n",
       "  </tbody>\n",
       "</table>\n",
       "</div>"
      ],
      "text/plain": [
       "            Freq\n",
       "date            \n",
       "2012-01-28    66\n",
       "2012-01-29    65\n",
       "2012-01-30   100\n",
       "2012-01-31   100\n",
       "2012-02-01   100"
      ]
     },
     "execution_count": 21,
     "metadata": {},
     "output_type": "execute_result"
    }
   ],
   "source": [
    "date_res_d = date.resample('D').count() # resample por día\n",
    "date_res_d.head()"
   ]
  },
  {
   "cell_type": "code",
   "execution_count": 22,
   "metadata": {},
   "outputs": [
    {
     "data": {
      "image/png": "[encoded data removed]",
      "text/plain": [
       "<Figure size 1152x432 with 1 Axes>"
      ]
     },
     "metadata": {
      "needs_background": "light"
     },
     "output_type": "display_data"
    }
   ],
   "source": [
    "plt.figure(figsize=(16,6)) # tamaño del plot\n",
    "plt.plot(date_res_d)\n",
    "plt.xlabel('Año')\n",
    "plt.ylabel('Cantidad publicaciones')\n",
    "plt.title('Cantidad de publicaciones por año remuestreo diario')\n",
    "plt.ylim([-5, 110])\n",
    "plt.show()"
   ]
  },
  {
   "cell_type": "code",
   "execution_count": 23,
   "metadata": {},
   "outputs": [
    {
     "data": {
      "text/html": [
       "<div>\n",
       "<style scoped>\n",
       "    .dataframe tbody tr th:only-of-type {\n",
       "        vertical-align: middle;\n",
       "    }\n",
       "\n",
       "    .dataframe tbody tr th {\n",
       "        vertical-align: top;\n",
       "    }\n",
       "\n",
       "    .dataframe thead th {\n",
       "        text-align: right;\n",
       "    }\n",
       "</style>\n",
       "<table border=\"1\" class=\"dataframe\">\n",
       "  <thead>\n",
       "    <tr style=\"text-align: right;\">\n",
       "      <th></th>\n",
       "      <th>Freq</th>\n",
       "    </tr>\n",
       "    <tr>\n",
       "      <th>date</th>\n",
       "      <th></th>\n",
       "    </tr>\n",
       "  </thead>\n",
       "  <tbody>\n",
       "    <tr>\n",
       "      <th>2012-01-01</th>\n",
       "      <td>331</td>\n",
       "    </tr>\n",
       "    <tr>\n",
       "      <th>2012-02-01</th>\n",
       "      <td>2693</td>\n",
       "    </tr>\n",
       "    <tr>\n",
       "      <th>2012-03-01</th>\n",
       "      <td>2880</td>\n",
       "    </tr>\n",
       "    <tr>\n",
       "      <th>2012-04-01</th>\n",
       "      <td>2769</td>\n",
       "    </tr>\n",
       "    <tr>\n",
       "      <th>2012-05-01</th>\n",
       "      <td>2899</td>\n",
       "    </tr>\n",
       "  </tbody>\n",
       "</table>\n",
       "</div>"
      ],
      "text/plain": [
       "            Freq\n",
       "date            \n",
       "2012-01-01   331\n",
       "2012-02-01  2693\n",
       "2012-03-01  2880\n",
       "2012-04-01  2769\n",
       "2012-05-01  2899"
      ]
     },
     "execution_count": 23,
     "metadata": {},
     "output_type": "execute_result"
    }
   ],
   "source": [
    "date_res_m = date.resample('MS').count() # resample por mes\n",
    "date_res_m.head()"
   ]
  },
  {
   "cell_type": "code",
   "execution_count": 24,
   "metadata": {},
   "outputs": [
    {
     "data": {
      "image/png": "[encoded data removed]",
      "text/plain": [
       "<Figure size 1152x432 with 1 Axes>"
      ]
     },
     "metadata": {
      "needs_background": "light"
     },
     "output_type": "display_data"
    }
   ],
   "source": [
    "plt.figure(figsize=(16,6)) # tamaño del plot\n",
    "plt.plot(date_res_m)\n",
    "plt.xlabel('Año')\n",
    "plt.ylabel('Cantidad publicaciones')\n",
    "plt.title('Cantidad de publicaciones por año remuestreo mensual')\n",
    "#plt.ylim([100, 700])\n",
    "plt.show()"
   ]
  },
  {
   "cell_type": "markdown",
   "metadata": {},
   "source": [
    "#### Frecuencias de la variable date por mes y por día"
   ]
  },
  {
   "cell_type": "code",
   "execution_count": 25,
   "metadata": {},
   "outputs": [],
   "source": [
    "# buscar frecuendia por mes y por día\n",
    "date_t = pd.DataFrame(df['date'])"
   ]
  },
  {
   "cell_type": "code",
   "execution_count": 26,
   "metadata": {},
   "outputs": [
    {
     "data": {
      "text/html": [
       "<div>\n",
       "<style scoped>\n",
       "    .dataframe tbody tr th:only-of-type {\n",
       "        vertical-align: middle;\n",
       "    }\n",
       "\n",
       "    .dataframe tbody tr th {\n",
       "        vertical-align: top;\n",
       "    }\n",
       "\n",
       "    .dataframe thead th {\n",
       "        text-align: right;\n",
       "    }\n",
       "</style>\n",
       "<table border=\"1\" class=\"dataframe\">\n",
       "  <thead>\n",
       "    <tr style=\"text-align: right;\">\n",
       "      <th></th>\n",
       "      <th>date</th>\n",
       "      <th>Mes</th>\n",
       "    </tr>\n",
       "  </thead>\n",
       "  <tbody>\n",
       "    <tr>\n",
       "      <th>0</th>\n",
       "      <td>2018-05-26</td>\n",
       "      <td>May</td>\n",
       "    </tr>\n",
       "    <tr>\n",
       "      <th>1</th>\n",
       "      <td>2018-05-26</td>\n",
       "      <td>May</td>\n",
       "    </tr>\n",
       "    <tr>\n",
       "      <th>2</th>\n",
       "      <td>2018-05-26</td>\n",
       "      <td>May</td>\n",
       "    </tr>\n",
       "    <tr>\n",
       "      <th>3</th>\n",
       "      <td>2018-05-26</td>\n",
       "      <td>May</td>\n",
       "    </tr>\n",
       "    <tr>\n",
       "      <th>4</th>\n",
       "      <td>2018-05-26</td>\n",
       "      <td>May</td>\n",
       "    </tr>\n",
       "  </tbody>\n",
       "</table>\n",
       "</div>"
      ],
      "text/plain": [
       "        date  Mes\n",
       "0 2018-05-26  May\n",
       "1 2018-05-26  May\n",
       "2 2018-05-26  May\n",
       "3 2018-05-26  May\n",
       "4 2018-05-26  May"
      ]
     },
     "execution_count": 26,
     "metadata": {},
     "output_type": "execute_result"
    }
   ],
   "source": [
    "date_t['Mes'] = pd.DatetimeIndex(date_t['date']).month_name()\n",
    "date_t.head()"
   ]
  },
  {
   "cell_type": "code",
   "execution_count": 27,
   "metadata": {},
   "outputs": [
    {
     "data": {
      "text/html": [
       "<div>\n",
       "<style scoped>\n",
       "    .dataframe tbody tr th:only-of-type {\n",
       "        vertical-align: middle;\n",
       "    }\n",
       "\n",
       "    .dataframe tbody tr th {\n",
       "        vertical-align: top;\n",
       "    }\n",
       "\n",
       "    .dataframe thead th {\n",
       "        text-align: right;\n",
       "    }\n",
       "</style>\n",
       "<table border=\"1\" class=\"dataframe\">\n",
       "  <thead>\n",
       "    <tr style=\"text-align: right;\">\n",
       "      <th></th>\n",
       "      <th>date</th>\n",
       "      <th>Meses</th>\n",
       "    </tr>\n",
       "  </thead>\n",
       "  <tbody>\n",
       "    <tr>\n",
       "      <th>0</th>\n",
       "      <td>17635</td>\n",
       "      <td>April</td>\n",
       "    </tr>\n",
       "    <tr>\n",
       "      <th>1</th>\n",
       "      <td>16576</td>\n",
       "      <td>August</td>\n",
       "    </tr>\n",
       "    <tr>\n",
       "      <th>2</th>\n",
       "      <td>15816</td>\n",
       "      <td>December</td>\n",
       "    </tr>\n",
       "    <tr>\n",
       "      <th>3</th>\n",
       "      <td>17286</td>\n",
       "      <td>February</td>\n",
       "    </tr>\n",
       "    <tr>\n",
       "      <th>4</th>\n",
       "      <td>16493</td>\n",
       "      <td>January</td>\n",
       "    </tr>\n",
       "    <tr>\n",
       "      <th>5</th>\n",
       "      <td>16470</td>\n",
       "      <td>July</td>\n",
       "    </tr>\n",
       "    <tr>\n",
       "      <th>6</th>\n",
       "      <td>16183</td>\n",
       "      <td>June</td>\n",
       "    </tr>\n",
       "    <tr>\n",
       "      <th>7</th>\n",
       "      <td>18418</td>\n",
       "      <td>March</td>\n",
       "    </tr>\n",
       "    <tr>\n",
       "      <th>8</th>\n",
       "      <td>17917</td>\n",
       "      <td>May</td>\n",
       "    </tr>\n",
       "    <tr>\n",
       "      <th>9</th>\n",
       "      <td>15756</td>\n",
       "      <td>November</td>\n",
       "    </tr>\n",
       "    <tr>\n",
       "      <th>10</th>\n",
       "      <td>16505</td>\n",
       "      <td>October</td>\n",
       "    </tr>\n",
       "    <tr>\n",
       "      <th>11</th>\n",
       "      <td>15798</td>\n",
       "      <td>September</td>\n",
       "    </tr>\n",
       "  </tbody>\n",
       "</table>\n",
       "</div>"
      ],
      "text/plain": [
       "     date      Meses\n",
       "0   17635      April\n",
       "1   16576     August\n",
       "2   15816   December\n",
       "3   17286   February\n",
       "4   16493    January\n",
       "5   16470       July\n",
       "6   16183       June\n",
       "7   18418      March\n",
       "8   17917        May\n",
       "9   15756   November\n",
       "10  16505    October\n",
       "11  15798  September"
      ]
     },
     "execution_count": 27,
     "metadata": {},
     "output_type": "execute_result"
    }
   ],
   "source": [
    "date_t_group = date_t\n",
    "date_t_group = date_t_group.groupby(['Mes']).count()\n",
    "date_t_group['Meses'] = date_t_group.index\n",
    "date_t_group = date_t_group.reset_index(drop = True)\n",
    "date_t_group"
   ]
  },
  {
   "cell_type": "code",
   "execution_count": 28,
   "metadata": {},
   "outputs": [
    {
     "data": {
      "image/png": "[encoded data removed]",
      "text/plain": [
       "<Figure size 1152x432 with 1 Axes>"
      ]
     },
     "metadata": {
      "needs_background": "light"
     },
     "output_type": "display_data"
    }
   ],
   "source": [
    "plt.figure(figsize=(16,6)) # tamaño del plot\n",
    "plt.bar(date_t_group.Meses, date_t_group.date)\n",
    "plt.xlabel('Meses')\n",
    "plt.ylabel('Cantidad')\n",
    "plt.title('Incidencia del mes en las publicaciones')\n",
    "plt.show()"
   ]
  },
  {
   "cell_type": "code",
   "execution_count": 29,
   "metadata": {},
   "outputs": [
    {
     "name": "stdout",
     "output_type": "stream",
     "text": [
      "El mayor valor de publicaciones sumando los meses es: 18418 y el menor es : 15756, para un rango de 2662\n"
     ]
    }
   ],
   "source": [
    "mayor = date_t_group.date.max() \n",
    "menor = date_t_group.date.min()\n",
    "rango = mayor - menor\n",
    "print(\"El mayor valor de publicaciones sumando los meses es: {} y el menor es : {}, para un rango de {}\".\n",
    "      format(mayor, menor, rango))"
   ]
  },
  {
   "cell_type": "markdown",
   "metadata": {},
   "source": [
    "Con respecto a esta variable no se puede ver una estacionalidad clara ni un mes en el que sea mayor la incidencia de publicaciones el rango es de 2662"
   ]
  },
  {
   "cell_type": "markdown",
   "metadata": {},
   "source": [
    "### Variables authors &\tcategory\t"
   ]
  },
  {
   "cell_type": "code",
   "execution_count": 30,
   "metadata": {},
   "outputs": [
    {
     "data": {
      "text/html": [
       "<div>\n",
       "<style scoped>\n",
       "    .dataframe tbody tr th:only-of-type {\n",
       "        vertical-align: middle;\n",
       "    }\n",
       "\n",
       "    .dataframe tbody tr th {\n",
       "        vertical-align: top;\n",
       "    }\n",
       "\n",
       "    .dataframe thead th {\n",
       "        text-align: right;\n",
       "    }\n",
       "</style>\n",
       "<table border=\"1\" class=\"dataframe\">\n",
       "  <thead>\n",
       "    <tr style=\"text-align: right;\">\n",
       "      <th></th>\n",
       "      <th>Frecuencia</th>\n",
       "      <th>authors</th>\n",
       "    </tr>\n",
       "  </thead>\n",
       "  <tbody>\n",
       "    <tr>\n",
       "      <th>1</th>\n",
       "      <td>2423</td>\n",
       "      <td>Lee Moran</td>\n",
       "    </tr>\n",
       "    <tr>\n",
       "      <th>2</th>\n",
       "      <td>1913</td>\n",
       "      <td>Ron Dicker</td>\n",
       "    </tr>\n",
       "    <tr>\n",
       "      <th>3</th>\n",
       "      <td>1562</td>\n",
       "      <td>Reuters, Reuters</td>\n",
       "    </tr>\n",
       "    <tr>\n",
       "      <th>4</th>\n",
       "      <td>1322</td>\n",
       "      <td>Ed Mazza</td>\n",
       "    </tr>\n",
       "    <tr>\n",
       "      <th>5</th>\n",
       "      <td>1140</td>\n",
       "      <td>Cole Delbyck</td>\n",
       "    </tr>\n",
       "  </tbody>\n",
       "</table>\n",
       "</div>"
      ],
      "text/plain": [
       "   Frecuencia           authors\n",
       "1        2423         Lee Moran\n",
       "2        1913        Ron Dicker\n",
       "3        1562  Reuters, Reuters\n",
       "4        1322          Ed Mazza\n",
       "5        1140      Cole Delbyck"
      ]
     },
     "execution_count": 30,
     "metadata": {},
     "output_type": "execute_result"
    }
   ],
   "source": [
    "top_authors_nw.head()"
   ]
  },
  {
   "cell_type": "code",
   "execution_count": 31,
   "metadata": {},
   "outputs": [],
   "source": [
    "aut_cat = pd.merge(top_authors_nw, df) # joint de los datos en funcion de el top 10 de los autores"
   ]
  },
  {
   "cell_type": "code",
   "execution_count": 32,
   "metadata": {},
   "outputs": [
    {
     "name": "stdout",
     "output_type": "stream",
     "text": [
      "El top 10 de autores producen el 6.74% del total de los articulos\n"
     ]
    }
   ],
   "source": [
    "top = len(aut_cat)\n",
    "all_pub = len(df)\n",
    "aut_porcent = np.round(((top/all_pub) * 100), 2)\n",
    "print(\"El top 10 de autores producen el {}% del total de los articulos\".format(aut_porcent))"
   ]
  },
  {
   "cell_type": "code",
   "execution_count": 33,
   "metadata": {},
   "outputs": [
    {
     "data": {
      "text/html": [
       "<div>\n",
       "<style scoped>\n",
       "    .dataframe tbody tr th:only-of-type {\n",
       "        vertical-align: middle;\n",
       "    }\n",
       "\n",
       "    .dataframe tbody tr th {\n",
       "        vertical-align: top;\n",
       "    }\n",
       "\n",
       "    .dataframe thead th {\n",
       "        text-align: right;\n",
       "    }\n",
       "</style>\n",
       "<table border=\"1\" class=\"dataframe\">\n",
       "  <thead>\n",
       "    <tr style=\"text-align: right;\">\n",
       "      <th></th>\n",
       "      <th>Frecuencia</th>\n",
       "      <th>authors</th>\n",
       "      <th>category</th>\n",
       "      <th>date</th>\n",
       "      <th>headline</th>\n",
       "      <th>link</th>\n",
       "      <th>short_description</th>\n",
       "    </tr>\n",
       "  </thead>\n",
       "  <tbody>\n",
       "    <tr>\n",
       "      <th>0</th>\n",
       "      <td>1</td>\n",
       "      <td>Lee Moran</td>\n",
       "      <td>COMEDY</td>\n",
       "      <td>2018-05-24</td>\n",
       "      <td>'Late Night' Writer's Breathless Royal Wedding...</td>\n",
       "      <td>https://www.huffingtonpost.com/entry/royal-wed...</td>\n",
       "      <td>“Then he bites his lip, like, ‘Hmm, girl.’”</td>\n",
       "    </tr>\n",
       "    <tr>\n",
       "      <th>1</th>\n",
       "      <td>1</td>\n",
       "      <td>Lee Moran</td>\n",
       "      <td>COMEDY</td>\n",
       "      <td>2018-05-24</td>\n",
       "      <td>Seth Meyers Gives Donald Trump Some Valuable M...</td>\n",
       "      <td>https://www.huffingtonpost.com/entry/seth-meye...</td>\n",
       "      <td>“Stop trying to make ‘Fetch’ happen.\"</td>\n",
       "    </tr>\n",
       "    <tr>\n",
       "      <th>2</th>\n",
       "      <td>1</td>\n",
       "      <td>Lee Moran</td>\n",
       "      <td>POLITICS</td>\n",
       "      <td>2018-05-24</td>\n",
       "      <td>Chrissy Teigen Taunts Donald Trump Over Twitte...</td>\n",
       "      <td>https://www.huffingtonpost.com/entry/chrissy-t...</td>\n",
       "      <td>Other tweeters, including Mexico's former pres...</td>\n",
       "    </tr>\n",
       "    <tr>\n",
       "      <th>3</th>\n",
       "      <td>1</td>\n",
       "      <td>Lee Moran</td>\n",
       "      <td>COMEDY</td>\n",
       "      <td>2018-05-24</td>\n",
       "      <td>Samantha Bee Torches ICE: 'Let's Shut It The F...</td>\n",
       "      <td>https://www.huffingtonpost.com/entry/samantha-...</td>\n",
       "      <td>\"I’m serious. It’s awful. And we don’t actuall...</td>\n",
       "    </tr>\n",
       "    <tr>\n",
       "      <th>4</th>\n",
       "      <td>1</td>\n",
       "      <td>Lee Moran</td>\n",
       "      <td>MEDIA</td>\n",
       "      <td>2018-05-24</td>\n",
       "      <td>Jake Tapper Shreds Donald Trump With A Long Li...</td>\n",
       "      <td>https://www.huffingtonpost.com/entry/jake-tapp...</td>\n",
       "      <td>\"I could go on, but this is just an hour show.\"</td>\n",
       "    </tr>\n",
       "  </tbody>\n",
       "</table>\n",
       "</div>"
      ],
      "text/plain": [
       "   Frecuencia    authors  category       date  \\\n",
       "0           1  Lee Moran    COMEDY 2018-05-24   \n",
       "1           1  Lee Moran    COMEDY 2018-05-24   \n",
       "2           1  Lee Moran  POLITICS 2018-05-24   \n",
       "3           1  Lee Moran    COMEDY 2018-05-24   \n",
       "4           1  Lee Moran     MEDIA 2018-05-24   \n",
       "\n",
       "                                            headline  \\\n",
       "0  'Late Night' Writer's Breathless Royal Wedding...   \n",
       "1  Seth Meyers Gives Donald Trump Some Valuable M...   \n",
       "2  Chrissy Teigen Taunts Donald Trump Over Twitte...   \n",
       "3  Samantha Bee Torches ICE: 'Let's Shut It The F...   \n",
       "4  Jake Tapper Shreds Donald Trump With A Long Li...   \n",
       "\n",
       "                                                link  \\\n",
       "0  https://www.huffingtonpost.com/entry/royal-wed...   \n",
       "1  https://www.huffingtonpost.com/entry/seth-meye...   \n",
       "2  https://www.huffingtonpost.com/entry/chrissy-t...   \n",
       "3  https://www.huffingtonpost.com/entry/samantha-...   \n",
       "4  https://www.huffingtonpost.com/entry/jake-tapp...   \n",
       "\n",
       "                                   short_description  \n",
       "0        “Then he bites his lip, like, ‘Hmm, girl.’”  \n",
       "1              “Stop trying to make ‘Fetch’ happen.\"  \n",
       "2  Other tweeters, including Mexico's former pres...  \n",
       "3  \"I’m serious. It’s awful. And we don’t actuall...  \n",
       "4    \"I could go on, but this is just an hour show.\"  "
      ]
     },
     "execution_count": 33,
     "metadata": {},
     "output_type": "execute_result"
    }
   ],
   "source": [
    "aut_cat.Frecuencia = 1\n",
    "aut_cat.head()"
   ]
  },
  {
   "cell_type": "markdown",
   "metadata": {},
   "source": [
    "Con respecto a estas dos variables se puede ver que el top de los 10 primeros autores en publicar artículos solo cubren el 6.74% de todas las publicaciones, el peso de las publicaciones que no tienen autores es del 18.23% con 36620 publicaciones con la observación de la variable authors en blanco, esto hace que el 75.03% de las publicaciones tengan una variabilidad muy alta en cuanto a autores lo cual dificulta analiza esta variable"
   ]
  },
  {
   "cell_type": "code",
   "execution_count": 34,
   "metadata": {},
   "outputs": [
    {
     "data": {
      "image/png": "[encoded data removed]",
      "text/plain": [
       "<Figure size 1152x432 with 1 Axes>"
      ]
     },
     "metadata": {
      "needs_background": "light"
     },
     "output_type": "display_data"
    }
   ],
   "source": [
    "plot = pd.crosstab(index = aut_cat['category'],\n",
    "            columns = aut_cat['authors'] # tabla de frecuencias por categoria \n",
    "                  ).apply(lambda r: r/r.sum() * 100, # promedio ponderado categorias\n",
    "                          axis=0).plot(kind='bar', stacked=True, \n",
    "                                       figsize = (16, 6),\n",
    "                                       title = \"Temas organizados por autores\"                                       \n",
    "                                      )"
   ]
  },
  {
   "cell_type": "markdown",
   "metadata": {},
   "source": [
    "Se puede observar en los datos que los temas donde se publican mas noticias no son los mismo de los autores que mas publican, el top 10 de autores en publicar publican en la categoria ENTRERTAINMENT, esto hace mas desvalanceados los datos y al publicar un articulo en con estos datos la mayor porbabilidad es que sea de politica pero no de un autor del top 10"
   ]
  },
  {
   "cell_type": "markdown",
   "metadata": {},
   "source": [
    "### Variables  authors, category & date"
   ]
  },
  {
   "cell_type": "code",
   "execution_count": 35,
   "metadata": {},
   "outputs": [],
   "source": [
    "aut_cat['Año'] = pd.DatetimeIndex(aut_cat['date']).year"
   ]
  },
  {
   "cell_type": "code",
   "execution_count": 36,
   "metadata": {},
   "outputs": [
    {
     "data": {
      "text/html": [
       "<div>\n",
       "<style scoped>\n",
       "    .dataframe tbody tr th:only-of-type {\n",
       "        vertical-align: middle;\n",
       "    }\n",
       "\n",
       "    .dataframe tbody tr th {\n",
       "        vertical-align: top;\n",
       "    }\n",
       "\n",
       "    .dataframe thead th {\n",
       "        text-align: right;\n",
       "    }\n",
       "</style>\n",
       "<table border=\"1\" class=\"dataframe\">\n",
       "  <thead>\n",
       "    <tr style=\"text-align: right;\">\n",
       "      <th></th>\n",
       "      <th>Frecuencia</th>\n",
       "      <th>authors</th>\n",
       "      <th>category</th>\n",
       "      <th>date</th>\n",
       "      <th>headline</th>\n",
       "      <th>link</th>\n",
       "      <th>short_description</th>\n",
       "      <th>Año</th>\n",
       "    </tr>\n",
       "  </thead>\n",
       "  <tbody>\n",
       "    <tr>\n",
       "      <th>0</th>\n",
       "      <td>1</td>\n",
       "      <td>Lee Moran</td>\n",
       "      <td>COMEDY</td>\n",
       "      <td>2018-05-24</td>\n",
       "      <td>'Late Night' Writer's Breathless Royal Wedding...</td>\n",
       "      <td>https://www.huffingtonpost.com/entry/royal-wed...</td>\n",
       "      <td>“Then he bites his lip, like, ‘Hmm, girl.’”</td>\n",
       "      <td>2018</td>\n",
       "    </tr>\n",
       "    <tr>\n",
       "      <th>1</th>\n",
       "      <td>1</td>\n",
       "      <td>Lee Moran</td>\n",
       "      <td>COMEDY</td>\n",
       "      <td>2018-05-24</td>\n",
       "      <td>Seth Meyers Gives Donald Trump Some Valuable M...</td>\n",
       "      <td>https://www.huffingtonpost.com/entry/seth-meye...</td>\n",
       "      <td>“Stop trying to make ‘Fetch’ happen.\"</td>\n",
       "      <td>2018</td>\n",
       "    </tr>\n",
       "    <tr>\n",
       "      <th>2</th>\n",
       "      <td>1</td>\n",
       "      <td>Lee Moran</td>\n",
       "      <td>POLITICS</td>\n",
       "      <td>2018-05-24</td>\n",
       "      <td>Chrissy Teigen Taunts Donald Trump Over Twitte...</td>\n",
       "      <td>https://www.huffingtonpost.com/entry/chrissy-t...</td>\n",
       "      <td>Other tweeters, including Mexico's former pres...</td>\n",
       "      <td>2018</td>\n",
       "    </tr>\n",
       "    <tr>\n",
       "      <th>3</th>\n",
       "      <td>1</td>\n",
       "      <td>Lee Moran</td>\n",
       "      <td>COMEDY</td>\n",
       "      <td>2018-05-24</td>\n",
       "      <td>Samantha Bee Torches ICE: 'Let's Shut It The F...</td>\n",
       "      <td>https://www.huffingtonpost.com/entry/samantha-...</td>\n",
       "      <td>\"I’m serious. It’s awful. And we don’t actuall...</td>\n",
       "      <td>2018</td>\n",
       "    </tr>\n",
       "    <tr>\n",
       "      <th>4</th>\n",
       "      <td>1</td>\n",
       "      <td>Lee Moran</td>\n",
       "      <td>MEDIA</td>\n",
       "      <td>2018-05-24</td>\n",
       "      <td>Jake Tapper Shreds Donald Trump With A Long Li...</td>\n",
       "      <td>https://www.huffingtonpost.com/entry/jake-tapp...</td>\n",
       "      <td>\"I could go on, but this is just an hour show.\"</td>\n",
       "      <td>2018</td>\n",
       "    </tr>\n",
       "  </tbody>\n",
       "</table>\n",
       "</div>"
      ],
      "text/plain": [
       "   Frecuencia    authors  category       date  \\\n",
       "0           1  Lee Moran    COMEDY 2018-05-24   \n",
       "1           1  Lee Moran    COMEDY 2018-05-24   \n",
       "2           1  Lee Moran  POLITICS 2018-05-24   \n",
       "3           1  Lee Moran    COMEDY 2018-05-24   \n",
       "4           1  Lee Moran     MEDIA 2018-05-24   \n",
       "\n",
       "                                            headline  \\\n",
       "0  'Late Night' Writer's Breathless Royal Wedding...   \n",
       "1  Seth Meyers Gives Donald Trump Some Valuable M...   \n",
       "2  Chrissy Teigen Taunts Donald Trump Over Twitte...   \n",
       "3  Samantha Bee Torches ICE: 'Let's Shut It The F...   \n",
       "4  Jake Tapper Shreds Donald Trump With A Long Li...   \n",
       "\n",
       "                                                link  \\\n",
       "0  https://www.huffingtonpost.com/entry/royal-wed...   \n",
       "1  https://www.huffingtonpost.com/entry/seth-meye...   \n",
       "2  https://www.huffingtonpost.com/entry/chrissy-t...   \n",
       "3  https://www.huffingtonpost.com/entry/samantha-...   \n",
       "4  https://www.huffingtonpost.com/entry/jake-tapp...   \n",
       "\n",
       "                                   short_description   Año  \n",
       "0        “Then he bites his lip, like, ‘Hmm, girl.’”  2018  \n",
       "1              “Stop trying to make ‘Fetch’ happen.\"  2018  \n",
       "2  Other tweeters, including Mexico's former pres...  2018  \n",
       "3  \"I’m serious. It’s awful. And we don’t actuall...  2018  \n",
       "4    \"I could go on, but this is just an hour show.\"  2018  "
      ]
     },
     "execution_count": 36,
     "metadata": {},
     "output_type": "execute_result"
    }
   ],
   "source": [
    "aut_cat.head()"
   ]
  },
  {
   "cell_type": "code",
   "execution_count": 37,
   "metadata": {},
   "outputs": [
    {
     "data": {
      "text/plain": [
       "array([2018, 2017, 2016, 2015, 2014, 2013, 2012])"
      ]
     },
     "execution_count": 37,
     "metadata": {},
     "output_type": "execute_result"
    }
   ],
   "source": [
    "Años_pub = aut_cat.Año.unique()\n",
    "Años_pub"
   ]
  },
  {
   "cell_type": "code",
   "execution_count": 38,
   "metadata": {},
   "outputs": [
    {
     "data": {
      "image/png": "[encoded data removed]",
      "text/plain": [
       "<Figure size 1152x576 with 1 Axes>"
      ]
     },
     "metadata": {
      "needs_background": "light"
     },
     "output_type": "display_data"
    }
   ],
   "source": [
    "plt.figure(figsize=(16,8)) # tamaño del plot\n",
    "for i in Años_pub:\n",
    "    f = aut_cat[aut_cat['Año'] == i]\n",
    "    plt.scatter(f.authors, f.category, label = i, s = 100)\n",
    "    plt.legend(loc = 'upper left')\n",
    "    plt.title(\"Publicaciones por autor y por año\")\n",
    "    plt.xlabel(\"Año\")\n",
    "    plt.ylabel(\"Categoria\")    "
   ]
  },
  {
   "cell_type": "markdown",
   "metadata": {},
   "source": [
    "Con respecto a estas tres variables se puede observar como los autores que mas publican no son tan especializados y algunos no son tan activos en los diferentes años"
   ]
  },
  {
   "cell_type": "markdown",
   "metadata": {},
   "source": [
    "## Procesaminto de lenguaje natural de los datos"
   ]
  },
  {
   "cell_type": "markdown",
   "metadata": {},
   "source": [
    "### Alistamiento de los datos para determinar categoría según descripción y los titulares"
   ]
  },
  {
   "cell_type": "code",
   "execution_count": 39,
   "metadata": {},
   "outputs": [
    {
     "data": {
      "text/html": [
       "<div>\n",
       "<style scoped>\n",
       "    .dataframe tbody tr th:only-of-type {\n",
       "        vertical-align: middle;\n",
       "    }\n",
       "\n",
       "    .dataframe tbody tr th {\n",
       "        vertical-align: top;\n",
       "    }\n",
       "\n",
       "    .dataframe thead th {\n",
       "        text-align: right;\n",
       "    }\n",
       "</style>\n",
       "<table border=\"1\" class=\"dataframe\">\n",
       "  <thead>\n",
       "    <tr style=\"text-align: right;\">\n",
       "      <th></th>\n",
       "      <th>category</th>\n",
       "      <th>headline</th>\n",
       "      <th>short_description</th>\n",
       "    </tr>\n",
       "  </thead>\n",
       "  <tbody>\n",
       "    <tr>\n",
       "      <th>0</th>\n",
       "      <td>CRIME</td>\n",
       "      <td>There Were 2 Mass Shootings In Texas Last Week...</td>\n",
       "      <td>She left her husband. He killed their children...</td>\n",
       "    </tr>\n",
       "    <tr>\n",
       "      <th>1</th>\n",
       "      <td>ENTERTAINMENT</td>\n",
       "      <td>Will Smith Joins Diplo And Nicky Jam For The 2...</td>\n",
       "      <td>Of course it has a song.</td>\n",
       "    </tr>\n",
       "    <tr>\n",
       "      <th>2</th>\n",
       "      <td>ENTERTAINMENT</td>\n",
       "      <td>Hugh Grant Marries For The First Time At Age 57</td>\n",
       "      <td>The actor and his longtime girlfriend Anna Ebe...</td>\n",
       "    </tr>\n",
       "    <tr>\n",
       "      <th>3</th>\n",
       "      <td>ENTERTAINMENT</td>\n",
       "      <td>Jim Carrey Blasts 'Castrato' Adam Schiff And D...</td>\n",
       "      <td>The actor gives Dems an ass-kicking for not fi...</td>\n",
       "    </tr>\n",
       "    <tr>\n",
       "      <th>4</th>\n",
       "      <td>ENTERTAINMENT</td>\n",
       "      <td>Julianna Margulies Uses Donald Trump Poop Bags...</td>\n",
       "      <td>The \"Dietland\" actress said using the bags is ...</td>\n",
       "    </tr>\n",
       "  </tbody>\n",
       "</table>\n",
       "</div>"
      ],
      "text/plain": [
       "        category                                           headline  \\\n",
       "0          CRIME  There Were 2 Mass Shootings In Texas Last Week...   \n",
       "1  ENTERTAINMENT  Will Smith Joins Diplo And Nicky Jam For The 2...   \n",
       "2  ENTERTAINMENT    Hugh Grant Marries For The First Time At Age 57   \n",
       "3  ENTERTAINMENT  Jim Carrey Blasts 'Castrato' Adam Schiff And D...   \n",
       "4  ENTERTAINMENT  Julianna Margulies Uses Donald Trump Poop Bags...   \n",
       "\n",
       "                                   short_description  \n",
       "0  She left her husband. He killed their children...  \n",
       "1                           Of course it has a song.  \n",
       "2  The actor and his longtime girlfriend Anna Ebe...  \n",
       "3  The actor gives Dems an ass-kicking for not fi...  \n",
       "4  The \"Dietland\" actress said using the bags is ...  "
      ]
     },
     "execution_count": 39,
     "metadata": {},
     "output_type": "execute_result"
    }
   ],
   "source": [
    "df_class = df[['category', 'headline', 'short_description']]\n",
    "df_class.head()"
   ]
  },
  {
   "cell_type": "code",
   "execution_count": 40,
   "metadata": {},
   "outputs": [],
   "source": [
    "df_class_joint = df_class"
   ]
  },
  {
   "cell_type": "code",
   "execution_count": 41,
   "metadata": {},
   "outputs": [
    {
     "name": "stderr",
     "output_type": "stream",
     "text": [
      "/home/oscar/anaconda3/lib/python3.7/site-packages/ipykernel_launcher.py:2: SettingWithCopyWarning: \n",
      "A value is trying to be set on a copy of a slice from a DataFrame.\n",
      "Try using .loc[row_indexer,col_indexer] = value instead\n",
      "\n",
      "See the caveats in the documentation: http://pandas.pydata.org/pandas-docs/stable/indexing.html#indexing-view-versus-copy\n",
      "  \n"
     ]
    },
    {
     "data": {
      "text/html": [
       "<div>\n",
       "<style scoped>\n",
       "    .dataframe tbody tr th:only-of-type {\n",
       "        vertical-align: middle;\n",
       "    }\n",
       "\n",
       "    .dataframe tbody tr th {\n",
       "        vertical-align: top;\n",
       "    }\n",
       "\n",
       "    .dataframe thead th {\n",
       "        text-align: right;\n",
       "    }\n",
       "</style>\n",
       "<table border=\"1\" class=\"dataframe\">\n",
       "  <thead>\n",
       "    <tr style=\"text-align: right;\">\n",
       "      <th></th>\n",
       "      <th>category</th>\n",
       "      <th>Texto</th>\n",
       "    </tr>\n",
       "  </thead>\n",
       "  <tbody>\n",
       "    <tr>\n",
       "      <th>0</th>\n",
       "      <td>CRIME</td>\n",
       "      <td>There Were 2 Mass Shootings In Texas Last Week...</td>\n",
       "    </tr>\n",
       "    <tr>\n",
       "      <th>1</th>\n",
       "      <td>ENTERTAINMENT</td>\n",
       "      <td>Will Smith Joins Diplo And Nicky Jam For The 2...</td>\n",
       "    </tr>\n",
       "    <tr>\n",
       "      <th>2</th>\n",
       "      <td>ENTERTAINMENT</td>\n",
       "      <td>Hugh Grant Marries For The First Time At Age 5...</td>\n",
       "    </tr>\n",
       "    <tr>\n",
       "      <th>3</th>\n",
       "      <td>ENTERTAINMENT</td>\n",
       "      <td>Jim Carrey Blasts 'Castrato' Adam Schiff And D...</td>\n",
       "    </tr>\n",
       "    <tr>\n",
       "      <th>4</th>\n",
       "      <td>ENTERTAINMENT</td>\n",
       "      <td>Julianna Margulies Uses Donald Trump Poop Bags...</td>\n",
       "    </tr>\n",
       "  </tbody>\n",
       "</table>\n",
       "</div>"
      ],
      "text/plain": [
       "        category                                              Texto\n",
       "0          CRIME  There Were 2 Mass Shootings In Texas Last Week...\n",
       "1  ENTERTAINMENT  Will Smith Joins Diplo And Nicky Jam For The 2...\n",
       "2  ENTERTAINMENT  Hugh Grant Marries For The First Time At Age 5...\n",
       "3  ENTERTAINMENT  Jim Carrey Blasts 'Castrato' Adam Schiff And D...\n",
       "4  ENTERTAINMENT  Julianna Margulies Uses Donald Trump Poop Bags..."
      ]
     },
     "execution_count": 41,
     "metadata": {},
     "output_type": "execute_result"
    }
   ],
   "source": [
    "p = df_class.headline + df_class.short_description\n",
    "df_class_joint['Texto'] = p\n",
    "df_class_joint = df_class_joint.drop(columns=['headline','short_description'])\n",
    "df_class_joint.head()"
   ]
  },
  {
   "cell_type": "code",
   "execution_count": 42,
   "metadata": {},
   "outputs": [
    {
     "data": {
      "text/plain": [
       "200853"
      ]
     },
     "execution_count": 42,
     "metadata": {},
     "output_type": "execute_result"
    }
   ],
   "source": [
    "len(df_class_joint)"
   ]
  },
  {
   "cell_type": "code",
   "execution_count": 43,
   "metadata": {},
   "outputs": [
    {
     "data": {
      "text/plain": [
       "0         There Were 2 Mass Shootings In Texas Last Week...\n",
       "1         Will Smith Joins Diplo And Nicky Jam For The 2...\n",
       "2         Hugh Grant Marries For The First Time At Age 5...\n",
       "3         Jim Carrey Blasts 'Castrato' Adam Schiff And D...\n",
       "4         Julianna Margulies Uses Donald Trump Poop Bags...\n",
       "5         Morgan Freeman 'Devastated' That Sexual Harass...\n",
       "6         Donald Trump Is Lovin' New McDonald's Jingle I...\n",
       "7         What To Watch On Amazon Prime That’s New This ...\n",
       "8         Mike Myers Reveals He'd 'Like To' Do A Fourth ...\n",
       "9         What To Watch On Hulu That’s New This WeekYou'...\n",
       "10        Justin Timberlake Visits Texas School Shooting...\n",
       "11        South Korean President Meets North Korea's Kim...\n",
       "12        With Its Way Of Life At Risk, This Remote Oyst...\n",
       "13        Trump's Crackdown On Immigrant Parents Puts Mo...\n",
       "14        'Trump's Son Should Be Concerned': FBI Obtaine...\n",
       "15        Edward Snowden: There's No One Trump Loves Mor...\n",
       "16        Booyah: Obama Photographer Hilariously Trolls ...\n",
       "17        Ireland Votes To Repeal Abortion Amendment In ...\n",
       "18        Ryan Zinke Looks To Reel Back Some Critics Wit...\n",
       "19        Trump's Scottish Golf Resort Pays Women Signif...\n",
       "20        Weird Father's Day Gifts Your Dad Doesn't Know...\n",
       "21        Twitter #PutStarWarsInOtherFilms And It Was Un...\n",
       "22        Mystery 'Wolf-Like' Animal Reportedly Shot In ...\n",
       "23        North Korea Still Open To Talks After Trump Ca...\n",
       "24        2 Men Detonate Bomb Inside Indian Restaurant N...\n",
       "25        Thousands Travel Home To Ireland To Vote On Ab...\n",
       "26        Irish Voters Set To Liberalize Abortion Laws I...\n",
       "27        Warriors Coach Steve Kerr Calls NFL Ban On Pro...\n",
       "28        In Historic Victory, Barbados Elects First Fem...\n",
       "29        Police Killed At Least 378 Black Americans Fro...\n",
       "                                ...                        \n",
       "200823    Chris Gregoire, Washington State Governor, Dis...\n",
       "200824    Glenn Close On 'Albert Nobbs', Gender Bending ...\n",
       "200825    Tinker and Change the WorldTinkering -- that h...\n",
       "200826    Pregnant and Displaced: Double the DangerIt's ...\n",
       "200827    Tom Brady Helps Mentor, Tom Martinez, Find A K...\n",
       "200828    Boxer Puppy And Cows Make Friends During Walk ...\n",
       "200829    'Black Smoker' Vents: New Species Discovered N...\n",
       "200830    Green Activists: 50 And OlderIf you look at so...\n",
       "200831    Winter Weather Photo Contest: Submit Your Own ...\n",
       "200832    Insects Top Newly Discovered Species ListSpeci...\n",
       "200833    Four More Bank Closures Mark the Week of Janua...\n",
       "200834    Everything You Need To Know About Overdraft Fe...\n",
       "200835    Walmart Waving Goodbye To Some GreetersAfter 3...\n",
       "200836    At World Economic Forum, Fear of Global Contag...\n",
       "200837    Positive Customer Experience: What's the Retur...\n",
       "200838    Sundance, Ice-T, and Shades of the American Ra...\n",
       "200839    'Girl With the Dragon Tattoo' India Release Ca...\n",
       "200840    'Don't Think': A Look At The Chemical Brothers...\n",
       "200841    Matthew Marks Discusses His New LA GalleryWas ...\n",
       "200842    Allard Van Hoorn's 'Urban Songline' Explores R...\n",
       "200843    Good Games -- Is It possible?I don't think peo...\n",
       "200844    Google+ Now Open for Teens With Some Safeguard...\n",
       "200845    Web WarsThese \"Web Wars\" threaten to rage on f...\n",
       "200846    First White House Chief Technology Officer, An...\n",
       "200847    Watch The Top 9 YouTube Videos Of The WeekIf y...\n",
       "200848    RIM CEO Thorsten Heins' 'Significant' Plans Fo...\n",
       "200849    Maria Sharapova Stunned By Victoria Azarenka I...\n",
       "200850    Giants Over Patriots, Jets Over Colts Among  M...\n",
       "200851    Aldon Smith Arrested: 49ers Linebacker Busted ...\n",
       "200852    Dwight Howard Rips Teammates After Magic Loss ...\n",
       "Name: Texto, Length: 200853, dtype: object"
      ]
     },
     "execution_count": 43,
     "metadata": {},
     "output_type": "execute_result"
    }
   ],
   "source": [
    "texts = df_class_joint['Texto']\n",
    "texts"
   ]
  },
  {
   "cell_type": "code",
   "execution_count": 44,
   "metadata": {},
   "outputs": [],
   "source": [
    "texts = [x.lower() for x in texts] # Convertir los textos a minúscula\n",
    "texts = [''.join(c for c in x if c not in string.punctuation) for x in texts] # Eliminamos signos de puntuación\n",
    "texts = [''.join(c for c in x if c not in '0123456789') for x in texts] # Eliminamos los números\n",
    "texts = [' '.join(x.split()) for x in texts] # Eliminar espacios en blanco y separadores extras"
   ]
  },
  {
   "cell_type": "code",
   "execution_count": 45,
   "metadata": {},
   "outputs": [
    {
     "data": {
      "text/plain": [
       "['there were mass shootings in texas last week but only on tvshe left her husband he killed their children just another day in america',\n",
       " 'will smith joins diplo and nicky jam for the world cups official songof course it has a song',\n",
       " 'hugh grant marries for the first time at age the actor and his longtime girlfriend anna eberstein tied the knot in a civil ceremony',\n",
       " 'jim carrey blasts castrato adam schiff and democrats in new artworkthe actor gives dems an asskicking for not fighting hard enough against donald trump',\n",
       " 'julianna margulies uses donald trump poop bags to pick up after her dogthe dietland actress said using the bags is a really cathartic therapeutic moment',\n",
       " 'morgan freeman devastated that sexual harassment claims could undermine legacyit is not right to equate horrific incidents of sexual assault with misplaced compliments or humor he said in a statement',\n",
       " 'donald trump is lovin new mcdonalds jingle in tonight show bitits catchy all right',\n",
       " 'what to watch on amazon prime that’s new this weektheres a great miniseries joining this week',\n",
       " 'mike myers reveals hed like to do a fourth austin powers filmmyers kids may be pushing for a new powers film more than anyone',\n",
       " 'what to watch on hulu that’s new this weekyoure getting a recent academy awardwinning movie',\n",
       " 'justin timberlake visits texas school shooting victimsthe pop star also wore a santa fe strong shirt at his show in houston',\n",
       " 'south korean president meets north koreas kim jong un to talk trump summitthe two met to pave the way for a summit between north korean and the us',\n",
       " 'with its way of life at risk this remote oystergrowing region called in robotsthe revolution is coming to rural new brunswick',\n",
       " 'trumps crackdown on immigrant parents puts more kids in an already strained systemlast month a health and human services official revealed the government was unable to locate nearly children who had been released from its custody',\n",
       " 'trumps son should be concerned fbi obtained wiretaps of putin ally who met with trump jrthe wiretaps feature conversations between alexander torshin and alexander romanov a convicted russian money launderer',\n",
       " 'edward snowden theres no one trump loves more than vladimir putinbut dont count on robert mueller to nail him the nsa whistleblower warns',\n",
       " 'booyah obama photographer hilariously trolls trumps spy claimjust a peeping minute',\n",
       " 'ireland votes to repeal abortion amendment in landslide referendumirish women will no longer have to travel to the united kingdom to end their pregnancies',\n",
       " 'ryan zinke looks to reel back some critics with grand pivot to conservationthe interior secretary attempts damage control with hunting and fishing groups that didn’t like his fossil fuel focus',\n",
       " 'trumps scottish golf resort pays women significantly less than men reportand there are four times as many male as female executives',\n",
       " 'weird fathers day gifts your dad doesnt know he wants but he doeswhy buy a boring tie when you can give him testicle plush toys',\n",
       " 'twitter putstarwarsinotherfilms and it was universally entertainingtheres no such thing as too much star wars',\n",
       " 'mystery wolflike animal reportedly shot in montana baffles wildlife officials“we have no idea what this was until we get a dna report back',\n",
       " 'north korea still open to talks after trump cancels summittrump’s announcement came after repeated threats by north korea to pull out of the summit over what it saw as confrontational remarks by us officials',\n",
       " 'men detonate bomb inside indian restaurant near toronto authorities sayfifteen people were taken to the hospital three of them with critical injuries',\n",
       " 'thousands travel home to ireland to vote on abortion accessjust try to read these hometovote tweets without crying',\n",
       " 'irish voters set to liberalize abortion laws in landslide exit poll signalsvote counting will begin saturday',\n",
       " 'warriors coach steve kerr calls nfl ban on protests fake patriotismforbidding players to take a knee during the national anthem is “idiotic” the coach said',\n",
       " 'in historic victory barbados elects first female prime ministermia amor mottley even earned the backing of the countrys most recognizable national rihanna',\n",
       " 'police killed at least black americans from the moment colin kaepernick protestedthese americans deserve to be more than another statistic',\n",
       " 'jack johnson was pardoned but taboo sex is still being criminalizeda new law to fight sex trafficking targets some of the people it ostensibly aims to protect',\n",
       " 'bet chairman and ceo debra lee is stepping downlee brought more original shows to the black entertainment network and focused on family programming',\n",
       " 'rachel dolezal faces felony charges for welfare fraudstate prosecutors say almost had been deposited into her bank account while she was receiving public assistance',\n",
       " 'bishop michael curry joins christian march to white house to reclaim jesusfor curry and others being christian means rejecting white nationalism and misogyny while protecting immigrants refugees and the poor',\n",
       " 'kanye west spent on photo of whitney houstons bathroom for album coverpusha ts album produced by west features a photo of the late singers bathroom',\n",
       " 'morgan freeman dropped from marketing campaigns after harassment accusationsboth visa and vancouvers public transit system have suspended work with him',\n",
       " 'how the chinese exclusion act can help us understand immigration politics todaythe chinese exclusion act barely gets mentioned in us history classes a new pbs documentary from directors ric burns and lishin yu could change that',\n",
       " 'trumps new magathemed swimwear sinks on twitterdoes this swimsuit make me look racist',\n",
       " 'seth meyers has funny regret after trump cancels north korea summitthere goes the one token of his appreciation',\n",
       " 'colbert wants to turn nyc subway rides into a new and terrible punishmentthe late show host takes on michael cohen and his taxi king business partner',\n",
       " 'man faces charges after pulling knife stun gun on muslim students at mcdonalds“we thought we were going to die one of the students said',\n",
       " 'jimmy kimmel knows why irans supreme leader watches tom and jerrythe host reimagined the cartoon after ayatollah ali khamenei brought up the cat and mouse in defiance of us threats',\n",
       " 'people injured in indiana school shootinga male student believed to be the suspect has been detained according to police',\n",
       " 'people are rattled by how much this nigerian man looks like chadwick bosemansuleiman abdulfatai looks like he could be the actors longlost brother',\n",
       " 'david cross proves yet again that he’s terrible at apologizingthe comedian suggested jessica walter was also abusive on set after saying he’d apologize for defending jeffrey tambor',\n",
       " 'sesame street creators sue makers of upcoming adultthemed puppet film“the happytime murders” refers to the classic show in its tagline',\n",
       " 'what you missed about the saddest death in avengers infinity wardirectors joe and anthony russo answer our most pressing questions',\n",
       " 'george takei accuser walks back story of drugging and sexual assaultthe star trek actor was accused of groping a model years ago',\n",
       " 'samantha bees parents think america is basically a war zoneher dad even sent her a kevlar vest',\n",
       " 'pete davidson says his mental illness doesnt ruin romancethe snl star reacted to criticism that he shouldnt date ariana grande because of his borderline personality disorder',\n",
       " 'james corden and adam levine get pulled over during carpool karaokeit was bound to happen',\n",
       " 'emilia clarke dishes on her final game of thrones scenenow were really curious about the farewell season',\n",
       " 'hollywood doesnt need difficult men to make great tvcrazy exgirlfriends vella lovell pushes back on what oldschool male actors see as the norm',\n",
       " 'harvey weinstein accusers say they never thought he would be arrestedsome of the actresses who came forward with sexual assault claims against the once powerful hollywood mogul responded with both surprise and relief',\n",
       " 'harvey weinstein turns himself in to police for alleged sex crimesthe bombshell sexual harassment accusations against weinstein sparked the me too movement',\n",
       " 'john mayers weird new lowbudget video is a memeworthy masterpiecemayers hilariously strange new light video even spells his name wrong',\n",
       " 'now boba fett is getting his own star wars moviean obiwan kenobi film is also reportedly in development',\n",
       " 'trump suggests north korea summit could still happenhe had canceled the planned june summit less than a day earlier',\n",
       " 'roger stone pressed for damaging emails about hillary clinton from wikileaks reportstones contact with julian assange reportedly told him he couldnt ask wikileaks favors every other day',\n",
       " 'publix suspends contributions to nrabacked politician amid protestspublix knows were not going away one guncontrol activist said',\n",
       " 'twitter bots may have delivered donald trumps victory research paper says“our results suggest that given narrow margins of victories in each vote bots’ effect was likely marginal but possibly large enough to affect the outcomes',\n",
       " 'a bag of wet socks is apparently living in the white house press briefing roomthe formerly wet bag of socks has become crusty tweeted a reporter who thrice spotted the socks',\n",
       " 'a member of the farright proud boys menaced a twitter user on his doorstepa videographer made fun of the farright extremist group online so they showed up at his house',\n",
       " 'all the things the nra has blamed for the texas school shootinggodlessness too many doors in schools ritalin guess whats not on the list',\n",
       " 'heres what happens when a catholic hospital wont try to save youcatholic hospital systems are pushing trump to expand “conscience rights” – even though faithbased medicine has nearly killed some of their patients',\n",
       " 'trumps new executive orders make it easier to fire federal workersunions denounced the presidents actions an “assault on democracy”',\n",
       " 'monsanto and bayer are set to merge heres why you should care“together they will influence markets all over the world on a scale we’ve never seen before”',\n",
       " 'the joy of watching harvey weinstein’s perp walktheres a delicious schadenfreude in seeing a powerful abuser finally held accountable',\n",
       " 'the funniest tweets from women this weekwelcome to adulthood you have a favorite spatula now',\n",
       " 'queer eye star bobby berk gave me a desk makeover and it was incrediblecan you believe',\n",
       " 'older gay men try out new gay slang in this hilarious video“you guys are watching too much rupaul”',\n",
       " 'how rupaul’s drag race is teaching straight people about queer culturemainstream pop culture isn’t the only thing to potentially benefit from the show’s continued prominence',\n",
       " 'fish market buys freedom for fred the pound octopusthe market owner wont sell octopus products after playing hideandseek with a friendly cephalopod',\n",
       " 'north korea threatens again to call off trump summit warns of ‘nuclear showdown’a top pyongyang official lambasted political dummy mike pence and cautioned the us against making ignorant remarks',\n",
       " 'investigation finds russian missile shot down flight mhits not clear who was operating the missile that hit the plane over eastern ukraine in killing people',\n",
       " 'north korea demolishes tunnels at nuclear test site reports saynorth korea has conducted all six of its nuclear tests at the punggyeri site',\n",
       " 'how kim jong un ‘baited’ trump into canceling the north korea summittrump’s slapdash attempt at negotiations has left the us isolated from its asian allies',\n",
       " 'michelle obama reveals cover for upcoming memoir becomingthe process of writing this book has been so personally meaningful and illuminating for me',\n",
       " 'late night writers breathless royal wedding recap is the only one you need“then he bites his lip like ‘hmm girl’”',\n",
       " 'morgan freeman accused of inappropriate behavior and sexual harassmenteight people told cnn that they were victims of harassment and inappropriate behavior by the actor',\n",
       " 'jets chairman christopher johnson wont fine players for anthem protests“i never want to put restrictions on the speech of our players',\n",
       " 'andy cohen and taylor swift are over their katy perry dramano bad blood here',\n",
       " 'infinity war writers try to clear up marvels problematic timelinestephen mcfeely and christopher markus clarify when thanos may have acquired the infinity gauntlet',\n",
       " 'david blaine chews glass and lets james corden puncture his cheeksure its gross but youre still here',\n",
       " 'amy poehler a parks and recreation revival would be amazingcostar nick offerman also seemed on board under one incredible condition',\n",
       " 'colbert exposes the biggest flaw in trump’s latest conspiracy theorycolbert follows trump down the rabbit hole',\n",
       " 'seth meyers gives donald trump some valuable marketing advice“stop trying to make ‘fetch’ happen',\n",
       " 'us launches auto import probe china vows to defend its intereststhe investigation could lead to new us tariffs similar to those imposed on imported steel and aluminum in march',\n",
       " 'this women pulled out all the stops to land her dream jobjessica bain scored the black history and culture fellowship at spotify',\n",
       " 'wife asked husband for fenty highlighter and got a pack of highlighters hairbrushcharlema webbs husband thought she meant actual pentopaper highlighters',\n",
       " 'trump roasted for rushing to defend tomi lahren while ignoring real victimstrumps more concerned about tomi lahren being splashed with water than flint still being entirely without safe water',\n",
       " 'trump abruptly cancels north korea summit with kim jong untrump cited north korea’s “tremendous anger and open hostility” in calling off the june singapore meeting',\n",
       " 'devin nuneslinked winery faced suit over alleged coke and prostitute yacht partythe lawmaker is reportedly one of at least investors in the winery though the company said they were not involved in the party',\n",
       " 'immigrant children accuse border patrol of abuse and neglect report showsone yearold filed a complaint alleging that a border patrol agent threw him down and smashed his head into the ground with his boot',\n",
       " 'irelands historic vote on legalizing abortion is haunted by trump and brexitamerican influence could tip the referendum',\n",
       " 'trump lawyer attended doj meeting on confidential fbi informantemmet flood the white house attorney dealing with the russia probe was present at a controversial doj meeting about the investigation',\n",
       " 'senate advances court pick who said planned parenthood kills over females a year’every republican on the judiciary committee voted for wendy vitter',\n",
       " 'rudy giuliani trump wont interview with mueller until we get ‘spygate’ reportthe canceled north korea summit doesn’t mean the president will be talking to the special counsel anytime soon',\n",
       " 'kentucky attorney running for judge dies day after primary windanny alvarez a married of father of three was vying for jefferson county district court judge in louisville',\n",
       " 'chrissy teigen taunts donald trump over twitter blocking rulingother tweeters including mexicos former president vicente fox also poked fun at trump over the news',\n",
       " 'the koch network is going after one of trump’s favorite congressmenthe billionaire koch brothers’ political network wants to show it will punish republicans who don’t support its agenda',\n",
       " 'trump posthumously pardons boxer jack johnsonthe pardoning of the black heavyweight boxer is only the third posthumous pardon in us history',\n",
       " 'ellen tears up when ashton kutcher donates million to her wildlife fundshe even got to personally push the button to transfer the funds',\n",
       " 'ariana grande reveals bee tattoo in honor of the manchester attackthe bee is the symbol of the city and is incorporated into the manchester coat of arms',\n",
       " 'kim kardashian wished kanye west a happy anniversary and fine its pretty cute years down and forever to go',\n",
       " 'chris hemsworth dances wrecking ball with his kids in the living roomwhat a god',\n",
       " 'moses farrow defends woody allen and accuses mia farrow of abusedylan farrow called her brothers essay beyond hurtful and easily disproven',\n",
       " 'gwyneth paltrow says brad pitt threatened to kill harvey weinsteinthe film producer allegedly made advances on her years ago but her thenboyfriend made sure it didnt happen again',\n",
       " 'stephen king reveals why donald trump blocked him on twitterthe horror master also took on creepy mike pence he has that look',\n",
       " 'fans back jessica walter after she addressed verbal harassment by jeffrey tamborwe should be grieving with jessica walter that shouldnt have happened to her',\n",
       " 'jessica walter discusses jeffrey tambors alleged harassment while male costars brush it offin like almost years of working i’ve never had anybody yell at me like that on a set the actress said',\n",
       " 'harvey weinstein expected to turn himself in to the nypd for sex crimesauthorities in new york have been investigating the former producer for alleged sexual abuse and harassment',\n",
       " 'samantha bee torches ice lets shut it the fk downi’m serious it’s awful and we don’t actually need it',\n",
       " 'scott pruitt twice introduced antiabortion bills giving men ‘property rights’ over fetusesbefore he was trumps embattled epa chief pruitt was a state politician who backed draconian abortion restrictions',\n",
       " 'twitter critics mercilessly mock trump for canceling summit with kimpot meet kettle',\n",
       " 'civil rights groups rip senate bill revising its own sexual harassment policythe bill would let lawmakers hide past offenses and only be punished for severe or pervasive harassment the aclu said',\n",
       " 'alabama sues to exclude undocumented immigrants from census countlegal experts say the suit has some big flaws',\n",
       " 'cynthia nixon vows to keep fighting after predictably losing party endorsementshe plans to get the required number of petition signatures to make it onto the ballot',\n",
       " 'white house officials reportedly considered just ignoring new climate researchan internal memo obtained by the washington post offers a glimpse into the challenges faced by the trump administration on the issue of climate change',\n",
       " 'read trumps letter to kim jong un canceling north korea summitbasically its not me its you',\n",
       " 'south korea responds to trumps sudden cancellation of kim jong un summitwe are attempting to make sense of what precisely president trump means',\n",
       " 'facebooks new ad rules prove its basically in charge of regulating elections nowsure this seems like the kind of thing a private company should be in charge of welcome to the facebook election commission',\n",
       " 'border agent fatally shoots migrant woman in texas“why did you shoot at the girl you killed her” a bystander asks in viral video that shows the aftermath of the shooting',\n",
       " 'trump opens door for us gun industry to sell more firearms abroadsenators and human rights groups worry the proposed rule changes will export the us gun violence epidemic',\n",
       " 'stormy daniels day declared in west hollywood as adult star gets key to citythe california city recognized her as a “national figure in the resistance to the trump administration',\n",
       " 'youre going to use that selfcheckout machine whether you like it or notwe may not realize it but retailers are conditioning us to be our own cashiers',\n",
       " 'ways to make family road trips easier from parents whove been therehaving waterproof covers on the seats is kind of brilliant',\n",
       " 'jake tapper shreds donald trump with a long list of his conspiracy theoriesi could go on but this is just an hour show',\n",
       " 'new york daily news rips nfl over anthem kneeling bannfl dishonors the flag',\n",
       " 'a judge ruled one immigrant had a right to a hearing what about all the othersthe supreme court will likely have to determine whether indefinite detention without a bond hearing violates the constitution',\n",
       " 'house democrats offer internships for students affected by gun violence“it’s important that we learn from their experience',\n",
       " 'tig notaro tells ellen degeneres about her sons passion for trashthe comedian also cant wait to play jennifer anistons wife on first ladies',\n",
       " 'stormy daniels thanks ‘wonderful gay dads’ as west hollywood hands her keys to citywest hollywood has also reaffirmed its commitment to being a sanctuary city opposing the administration’s enforcement of extreme immigration laws',\n",
       " 'can you believe queer eye season drops next monthits slated to hit netflix on june th',\n",
       " 'gay man denied marriage license by kim davis loses bid to unseat herdespite support from amy schumer and susan sarandon david ermold wont challenge davis this fall',\n",
       " 'anna kournikova dancing with her bouncing baby is the cutest thingthe score is lovelove',\n",
       " 'trump says nfl players unwilling to stand for anthem maybe shouldnt be in the countryi don’t think people should be staying in locker rooms trump told fox news you have to stand proudly for the national anthem or you shouldn’t be playing',\n",
       " 'facebook accused of reading texts and accessing microphones in lawsuita failed startup suggested that facebook mounted what could be described as mass surveillance',\n",
       " 'selfdriving uber in fatal accident had seconds to react before crashthe ntsb published a preliminary report on the incident thursday',\n",
       " 'amazon admits alexa device eavesdropped on portland family“unplug your alexa devices right now you’re being hacked”',\n",
       " 'man discovers handgun impaled in front bumper of carthe driver kept going after a mysterious object struck his car',\n",
       " 'rescue cat has hilarious wideeyed expression after scan confirms she is pregnant😻😻😻',\n",
       " 'weirdest promposals of include teen who faked his own birththe things people do for love or at least for prom',\n",
       " 'trump and the american far right stoke hate in canadahate crimes have increased extremist groups are growing and two mass killings shocked the country',\n",
       " 'farright and antiestablishment parties set to form italys new governmentitaly is on track to have one of the most radical and populist governments in all of europe',\n",
       " 'sarah silverman sees no reason why louis ck cant continue being an artisthe’s my brother so it’s hard i may not have a very clear perspective on it but i’m trying to”',\n",
       " 'southern baptist leader who said abused women should just pray is removed from postpaige patterson was demoted to president emeritus after thousands of evangelical women signed a petition calling for his ouster',\n",
       " 'more americans than ever support samesex marriageit seems the current administration doesnt speak for most americans when it comes to lgbtq rights',\n",
       " 'brynn cartelli becomes youngestever winner of the voicethe tv singing competitions new champion just turned',\n",
       " 'betsy devos stirs uproar by saying schools can call ice on undocumented kidsthe education secretary said its a local decision but she didnt argue against it',\n",
       " 'sandy hook families fbi agent sue alex jones for defamationthe lawsuit is the latest of several targeting the infowars conspiracy theorist',\n",
       " 'high school teacher defeats kentucky house majority leader in gop primarythe upset comes after widespread teacher protests over pension and education budget cuts',\n",
       " 'lupe valdez makes history in texas by winning democratic nod for governorthe former sheriff ― the first latina nominated for texas governor by a major party ― now faces gop gov greg abbott',\n",
       " 'report michael cohens business partner cooperating with prosecutorsevgeny freidman has been cohen’s partner in the taxi business for years',\n",
       " 'brandi chastain totally agrees her hall of fame plaque looks nothing like herwas it supposed to be gary busey or mickey rooney',\n",
       " 'scientists turn to dna technology to search for loch ness monsterthe researchers plan to scour the loch ness next month for evidence of its supposed inhabitant',\n",
       " 'late night writer vows to take red hats back from trump supporterswhen people see me a portly softchinned white male wearing a red hat from a distance they assume the worst',\n",
       " 'julia louisdreyfus to receive mark twain prize for american humorwell this is insanely exciting the actress said about the news',\n",
       " 'michelle obama shares intimate wedding photo in tribute to husband barackshe’s paying tribute to barack obama and their year marriage with a sweet photo from their wedding',\n",
       " 'did you spot trevor noah in black panther the daily show hosts stealth cameo revealedthere’s a reason the voice of shuri’s artificial intelligence computer system sounded so familiar — at least to those who routinely watch comedy central',\n",
       " 'donald glover fans execute stunning coup on donald trumpthemed reddit forumthe one true donald',\n",
       " 'ti calls for boycott of restaurant after offduty cop allegedly assaults black womenthe officer working as a security guard is accused of punching one woman in the head then holding her and another woman to the ground',\n",
       " 'survivor of rwandan genocide to be countrys first female neurosurgeondr claire karekezi says the genocide is what made her understand that we cannot count on anyone but ourselves',\n",
       " 'stacey abrams wins democratic primary for georgia governorif elected the former party leader in the state legislature would be the nation’s first black female governor',\n",
       " 'trevor noah reveals the question he’d ask donald trump that no else has dared tounder million',\n",
       " 'michelle obama reflects on ‘scary’ time at princeton with sweet throwback snapi was black and from a workingclass neighborhood in chicago while princeton’s student body was generally white and welltodo',\n",
       " '‘ reasons why’ started a conversation who’s responsible for finishing ittwo stomachchurning events featured backtoback in the last episode have divided viewers',\n",
       " 'lourdes leon gives us major madonna vibes in moody new ad campaign picswe will always think of madonna‘s daughter lourdes “lola” leon as this bigeyed little beauty',\n",
       " 'ways netflix tricks you into watching more shows and moviesits both impressive and kind of scary',\n",
       " 'brad pitt made ryan reynolds do one demeaning thing in exchange for deadpool cameoit wasn’t a prank per se that’s pittclooney ground',\n",
       " 'robert de niro bans trump from every nobu restaurantif he walked into a restaurant i was in i’d walk out',\n",
       " 'ariana grande shuts down fan blaming her for ‘heartbreaking’ mac miller splitthe singer called their twoyear relationship toxic and scary',\n",
       " 'parents slam show dogs scenes as grooming children for sexual abusemultiple scenes in which a dog’s genitals are groped have sparked criticism',\n",
       " 'dave grohl wants to apologize to the world for ‘massive jerk’ trumpthe foo fighters star said hes ashamed of the president',\n",
       " 'emilia clarke introduced herself to prince william in a pretty embarrassing wayoops',\n",
       " 'sarah paulson takes impressions to next level on tonight showthe oceans star delivered in imitating drew barrymore and a dolphin',\n",
       " 'the bs are still ready to party and be taken seriouslylove shack became a hit nearly years ago singer kate pierson reveals how the song came to be',\n",
       " 'gina ortiz jones wins democratic runoff in texas congressional racethe iraq war veteran will now face gop rep will hurd in november shell make history if she wins',\n",
       " 'fighter pilot amy mcgrath wins democratic primary in kentucky swing districtmcgraths victory continues the success women and political newcomers have found in democratic primaries',\n",
       " 'trump rallies conservatives with promise of more abortion curbsthe president who just unveiled new restrictions on abortion services sought the support of antiabortion activists at susan b anthony lists annual gala',\n",
       " 'the aclu is suing to strike down ohios congressional mapthe civil liberties group says ohios map is so heavily gerrymandered it violates the constitution',\n",
       " 'the latest school shooting hasnt really stirred the gun debatesanta fe unlike parkland doesnt seem to be significantly driving new calls for gun control',\n",
       " 'donald trump tweet rescues roseanne and family in season finale“the president spelled ‘illinois’ wrong in his tweet but it still counts right”',\n",
       " 'ellen grills mark wahlberg about his shirtless instagram selfies“i get ‘dad put a shirt on’ all the time” the actor explained',\n",
       " 'idris elba to star as the new hunchback of notre dame for netflixthe classic story is getting a modern retelling with original music',\n",
       " 'maryland police charge church leaders with past abuse of atrisk teen girlsthe victims who are now adults were enrolled in a churchrun program designed to give troubled teens a safe place to live',\n",
       " 'nfl bans kneeling during the national anthemteams can set their own policies for punishing players',\n",
       " 'conan obrien muscles in on the royal wedding with his own spoof adsnotice anything different about this royal wedding',\n",
       " 'house republicans report progress on an immigration dealbut they might need a reality check',\n",
       " 'democrats werent invited to review classified documents on fbi informantrepublicans have been demanding a look at documents about whether obama planted a spy in the trump campaign',\n",
       " 'gop candidate who pointed gun at teenager advances to georgia governor primary runoffin an ad brian kemp said he would round up undocumented immigrants and take them home myself',\n",
       " 'walking definition of an entitled millennial swears hes not an entitled millennialmichael rotondo was courtordered to move out of his parents’ home',\n",
       " 'democrats push to be included in classified briefing on fbi informantthe top democratic leaders warned a republicansonly meeting would set a bad precedent for the justice department',\n",
       " 'machines dont always steal our jobs increasingly they rob our work of humanityyour next boss could be an algorithm',\n",
       " 'trump praises tomi lahren after restaurant crowd tosses water insultsthe president hailed the fox news pundit as a “respected young woman”',\n",
       " 'sarah sanders it bothers me being called a liarexcept the white house press secretary gives false and misleading information all the time',\n",
       " 'trump blocking people on twitter is unconstitutional judge rulesthe presidents twitter feed is a public forum the judge found',\n",
       " 'a mostly nonchristian militia won of iraqi christians parliamentary seats now christians want trump to intervenethe babylon brigade is led by a christian but is tied to the brutal iranianbacked muslim paramilitary badr organization',\n",
       " 'tulsi gabbards syria views cost her support of hawaii teachers unionthe states fourthlargest union had backed the democratic congresswoman two years ago',\n",
       " 'jared kushner received his security clearance reportsthe presidents soninlaw had been using a temporary security clearance while the fbi performed a background check',\n",
       " 'arizona gop congressional candidate compares abortion to holocaust“the callousness that our country has for life is very disturbing gop candidate wendy rogers said',\n",
       " 'gun reform advocate lucy mcbath heads to runoff for georgia house seatmcbath whose son was shot dead in will be facing businessman kevin abel in a democratic primary runoff on july',\n",
       " 'star wars burlesque show storms west coast with sexy stormtroopersfinding a guy tall enough to play chewbacca who could dance was a challenge according to the director',\n",
       " 'establishmentbacked moderate wins heated democratic house primary in texaslawyer lizzie fletcher beat progressive activist laura moser in a district democrats hope to take from the gop',\n",
       " 'senators unveil bill to crack down on their sexual harassmentit would require lawmakers to pay out of pocket for their misconduct which some republicans fought for months',\n",
       " 'trips to take from new york city on a long weekendcharming towns relaxing beaches and top hiking destinations await',\n",
       " 'disney reveals opening seasons for star wars theme park landsstar wars galaxys edge will open at disneyland before disney world',\n",
       " 'the latest entries from the comedy wildlife photo awards will cheer you upthese goofy animals are just like us',\n",
       " 'bad lip reading reveals what was really said at the royal weddingi have a surprise for you it’s a golden unicycle',\n",
       " 'australian archbishop convicted of covering up child sex abusearchbishop philip wilson knew about the abuse of four boys dating back to the s and did nothing',\n",
       " 'commander says iran’s people will respond to pompeos threats with a punch in the moutha senior iranian military commander poured scorn on us threats to tighten sanctions',\n",
       " 'mark zuckerberg extends facebook apology tour with european gighe was warned he might be the genius that created a digital monster that is destroying our democracies',\n",
       " 'ariana grande tweets message of support on manchester bombing anniversarythinking of you all today and every day',\n",
       " 'katy perry says shes not single on american idolso that means she and orlando bloom are definitely on again right',\n",
       " 'before you call the cops on him watch his powerful monologue on racismi hate that anyone at all might possibly be afraid of me',\n",
       " 'amazon is selling cops its facial recognition tool that’s a bad potentially racist movefacial recognition software often does not properly identify darkerskinned people',\n",
       " 'miley cyrus comes in like a wrecking ball to prank a sleeping jimmy kimmelyeah she wrecked him in the balls',\n",
       " 'vanessa bayer feared doing the porn stars skit with donald trump on snltrump is accused of having an affair with former porn star stormy daniels in',\n",
       " 'adam rippon wins dancing with the stars because it was destinedskills and showmanship people',\n",
       " 'emilia clarke should never try to imitate chewbacca ever againthe solo stars wookiee mistake is pretty hilarious',\n",
       " 'maddie poppe wins american idol after runnerup reveals theyre datingi win either way secondplace finisher caleb lee hutchinson said',\n",
       " 'colbert just can’t resist turning trump’s nickname into a pee tape jokehe tried not to he really did',\n",
       " 'seth meyers is forced to tweak donald trumps latest twitter rant for timeit’s not fair that a president who won’t read a twopage press briefing makes us read a sixpart twitter rant',\n",
       " 'boy says teacher told him it will be his fault when police shoot him at age malachi pearsons story resonated with people of color on twitter who shared their own heartbreaking experiences of racism at school',\n",
       " 'cops accused of racism after detaining black man over vegetationif you want to see a video of racial profiling this is the poster child right here an attorney said',\n",
       " 'white cop shouts at black suspect pretend like were going to shoot youthere is no excuse for such threatening statements an aclu attorney said',\n",
       " 'florida police report dead after standoff at panama city apartment complexthe gunman was found dead after soaking his apartment in gasoline',\n",
       " 'donald glover is on board with lando calrissians pansexuality in solohow can you not be pansexual in space he said',\n",
       " 'charlize theron to play megyn kelly in film about roger ailesthe film has reportedly been in the works since before the former network ceos death last year',\n",
       " 'shoppers boycott publix over stores donations to nrabacked candidateadam putnam a selfdescribed nra sellout running for florida governor received from the company',\n",
       " 'bill de blasio tells nypd to stop arresting people for smoking pot on the streetthe recommendation comes days after the manhattan district attorney pledged to stop prosecuting lowlevel marijuana cases',\n",
       " 'dhs head says she’s still somehow unaware of intel on russia interference to boost trumpa publicly available assessment from the intelligence community concluded that russia meddled in the election with a preference for donald trump',\n",
       " 'lawmaker introduces crowdfunding bill to pay for trumps border wallso mexicos not paying for it',\n",
       " 'gop lawmakers will soon be allowed to review classified info on russia investigationtrump wants to know whether an fbi informant infiltrated his campaign for political purposes',\n",
       " 'james corden reveals the worst part of the royal wedding ceremonyand how he almost embarrassed himself on a global scale',\n",
       " 'ariana grande reportedly dating snl star pete davidsonboth recently broke it off with their longterm partners',\n",
       " 'jim carrey pens new pledge of allegiance for students in bulletriddled schoolswith butchery and injustice for the most innocent of all',\n",
       " 'ellen gets david spade to open up about dating younger womenthe comedian had a few thoughts on the royal wedding too',\n",
       " 'ceasefire over jimmy kimmel shreds sean hannity and ‘those dummies on fox friends’the jimmy kimmel live host says theyd believe in lizard people if trump said it first',\n",
       " 'spoof royal wedding video sees ceremony taking a very different turnthis is royally funny',\n",
       " 'the georgia gop governors primary focuses on guns and immigrationand heres a look at other key races in tuesdays voting in four states',\n",
       " 'glaads movie report finds troubling drop in lgbtq representation had the lowest percentage of queer movie characters in five years',\n",
       " 'sephora now offers instore beauty classes for trans nonbinary communitythis inclusivity is glamorous',\n",
       " 'georgia governor’s primary highlights competing visions for the democratic partythe contest between stacey abrams and stacey evans is a battle of divergent political strategies',\n",
       " 'california moves to let schools coworkers red flag dangerous gun ownersthe bill would expand the list of those who can petition to take away firearms beyond family roommates and police',\n",
       " 'talking grievance and health care an outsider kentucky dem found the inside trackretired fighter pilot amy mcgrath’s upstart primary campaign thinks its found a way to talk to disaffected voters',\n",
       " 'there are some problems with this commemorative trumpkim jong un cointhe coin’s depiction of trump with the north korean dictator has been called inappropriate and unamerican',\n",
       " 'giuliani’s new stance on russian collusion so what it’s not illegal“it was sort of like a gift giuliani said of the clinton campaign material stolen by russia and you’re not involved in the illegality of getting it”',\n",
       " 'the onion hilariously trolls michael cohen with his own ceaseanddesist notethe article is an absolutely disgusting piece that lacks any place in journalism even in your onion”',\n",
       " 'democrats want to boost school funding to address teacher walkoutstheir agenda would steer billion toward schools and salaries and guarantee teachers right to join unions',\n",
       " 'but her emails lawmakers shrug off trump’s lax cellphone security“i suspect the president of the united states is sophisticated enough to know what he should or shouldn’t be talking about on an unsecured line” sen jim risch said',\n",
       " 'we try stink bugflavored jelly bellys so you dont have totastes as good as it sounds unfortunately',\n",
       " 'power outage triggers extreme zombie activity alert in florida citythey have a warning prepped for this',\n",
       " 'congress does wall street a favor as banks post record profitslawmakers have passed a bill to roll back regulations adopted after the financial crisis',\n",
       " 'white house sinkhole probably metaphor for somethingone person wondered if the hole was melanias escape tunnel',\n",
       " 'reporter shoved others barred from epa meeting on water contaminantsadd this to the long evergrowing list of scandals for the epa chief',\n",
       " 'garry kasparov donald trump has more russian connections than aeroflotthe chess champ and dissident sounds the gong again on vladimir putins manipulation of us democracy',\n",
       " 'lonely planets top european destinations of take aim at overtourismthese underrated travel destinations in europe wont be full of tourists',\n",
       " 'attorney aaron schlossberg insists antispanish rant is not the person i amin the apology aaron schlossberg claims he moved to new york because of all the diversity',\n",
       " 'minutes reporter reveals trumps chilling reason for slamming the presslesley stahl said trump admitted that he attacks journalists so no one will believe them',\n",
       " 'trump reportedly rejects phone security measures as too inconvenientthe president is said to use a cellphone that lacks top security features and ignores advice to regularly swap his twitter phone',\n",
       " 'federal court sides with transgender teen gavin grimm in bathroom fightthe court denied a motion to dismiss grimms lawsuit against the gloucester county school board',\n",
       " 'extrump adviser calls presidents claims that informant spied on campaign embarrassingtrump has asked the justice department to look into whether an fbi informant infiltrated his campaign for political purposes',\n",
       " 'vietnam is a test for what happens when the us abandons climate diplomacythe asian country’s energy needs are growing and coal power is a tempting solution',\n",
       " 'just onethird of americans think trump is successfully draining the swampthat percentage has barely budged since last year',\n",
       " 'msnbc host hugh hewitt suggests trench coat control not gun controlforget restricting guns as a way to curb school shootings its a second amendment right not a second amendment suggestion',\n",
       " 'bishop michael curry harry and meghans love brought different worlds togetherfor a moment we were actually together organized around love” curry said',\n",
       " 'sarah paulson is unapologetic about year age gap with girlfriend holland taylorand her justification is pretty romantic 💕',\n",
       " 'texans on both sides of gun debate agree on safe storage but not on how to support itthe state has a child access prevention law but it doesnt appear to be working as intended',\n",
       " 'family of gay man found critically injured near amtrak route wants answersaaron salazars family said authorities have been looking into the possibility of attempted suicide but they dont believe he would take his own life',\n",
       " 'caitlyn jenner trump is the worst president we have ever had on lgbtq rightsshe and mike pence had a great conversation however',\n",
       " 'boy scout allegedly booted from store because company wont support homos“your organization is not the boy scouts anymore” the employee reportedly said',\n",
       " 'instagram is adding a mute button for the sake of your sanityand no one will know when you use it',\n",
       " 'publix censors teens summa cum laude graduation cakei can’t believe i’m the first one to ever write ‘summa cum laude’ on a cake”',\n",
       " 'what do you say to sexist passengers this female pilot has the perfect responsefact is i can fly an £m jet you can’t',\n",
       " 'times up takes aim at mcdonalds walmart over sexual harassment complaintslowwage workers are fighting back with the help of hollywood donors',\n",
       " 'venezuelas socialist leader nicolas maduro reelected amid allegations of irregularitiesthe state department has already announced that the us will not recognize the election result',\n",
       " 'iran says europes support for nuclear deal isnt enough after americas withdrawal“we have to preserve this agreement so we don’t have to negotiate a new agreement” the eus energy chief said',\n",
       " 'farright mob attacks yearold liberal greek mayorit was organized fascists who attacked me as a person and as a mayor yannis boutaris said',\n",
       " 'shawn mendes and khalid perform with parkland survivors at billboard music awardsthis was not the first moment addressing gun violence at the awards show',\n",
       " 'tamir rices mother is opening a youth center to honor her sons memorythe tamir rice afrocentric cultural center will help usher children into the future her son will never have',\n",
       " 'judge orders texas to make voter registration easier when updating dmv infoplaintiffs complained that the state violated the national voter registration act',\n",
       " 'kelly clarkson calls for moments of action in honor of texas shooting victims at billboard awardswhy dont we change whats happening',\n",
       " 'kendrick lamar stops white fan rapping nword onstagethe pulitzer prizewinning artist gave her another shot',\n",
       " 'gay man says pope francis told him ‘god made you like that and loves you like thathis words reportedly uttered in private have been described as the most progressive remarks ever made by a modern pontiff about homosexuality',\n",
       " 'unusual asteroid could be an interstellar guest to our solar systemthe supposed interstellar immigrant is located near jupiter but has an atypical orbit',\n",
       " 'she started a suicide prevention site at age its still going strong“people didn’t view me seriously because i was a yearold girl”',\n",
       " 'roger stone says hes prepared for conjured up mueller indictmentany action is an effort to silence me the controversial political operative said',\n",
       " 'hillary clinton to endorse andrew cuomos reelectionthe new york governor faces former sex and the city star cynthia nixon in the democratic primary',\n",
       " 'the supreme court just made it a lot harder for you to sue your employera new ruling allows employers to force workers into classaction waivers as one justice put it the case cuts to the entire heart of the new deal',\n",
       " 'blake farenthold may have been hired illegally at his new lobbyist joba texas newspaper filed a lawsuit alleging the calhoun port authority hired the disgraced former lawmaker without public notice in violation of state law',\n",
       " 'bill konigsberg explores a new side of the gay experience in his latest bookthe author hopes the music of what happens will inspire readers to fall in love and think twice about gender roles',\n",
       " 'alone in the game shows biggest hurdles for lgbtq athletes exist off the fielda new documentary examines the culture of exclusion bigotry and discrimination in pro sports',\n",
       " 'chrissy teigen somehow gets even more real about life after childbirththis is postpartum life unfiltered',\n",
       " 'suits creator pens heartfelt open letter about attending royal weddingit felt like the world was becoming a better place aaron korsh wrote of the ceremony involving his friend meghan markle',\n",
       " 'here are the movies coming to netflix this weekyou have a few options this week including a new gillian jacobs movie',\n",
       " 'the obamas are coming to your netflix queuenetflix announced a deal with barack and michelle obama to produce a variety of films and series',\n",
       " 'sorry ben affleck make way for justin therouxs giant rat tattootherohmygod',\n",
       " 'hillary clinton tips a russian hat at trump during yale commencement speechif you cant beat em join em clinton said in a pretty obvious nod to the russians',\n",
       " 'giuliani says mueller cant talk to trump until trump hears more about fbi source“we can’t let our guy go in and be questioned without knowing this” the presidents lawyer said',\n",
       " 'democrats plan big anticorruption theme for midtermsits a revival of a successful tactic dems used in when they took control of both chambers of congress',\n",
       " 'kelly clarkson rejects moment of silence calls for change at billboard music awardsthe star veered from the traditional script refusing to give the customary “moment of silence” and tearfully calling for action instead',\n",
       " 'we asked the american public to settle of the internets dumbest debatesour poll showed some surprising generational divides',\n",
       " 'fox news viewers really don’t like lifelong republican robert muellermost of those following the trumprussia investigation via the cable news outlet say they strongly disapprove of the special counsels job performance',\n",
       " 'trump team moves to lift ban on extreme hunting tactics in alaskathe proposal would allow hunters to kill bear cubs and wolf pups in their dens and shoot swimming caribou from motorboats',\n",
       " 'howard stern tells how trump sexualized ivanka and makes david letterman cringetrump told stern you know who’s a great beauty my daughter ivanka now she’s a',\n",
       " 'the supreme court is helping companies get away with sexual harassmentthe me too movement takes a massive hit from a new decision written by justice neil gorsuch',\n",
       " 'deadpool steals no spot at the box office from avengers infinity wardeadpool was the thirdbiggest debut of the year behind marvel blockbusters “avengers infinity war” and “black panther”',\n",
       " 'did westworld subtly tease that baby theoryforget shogun world did you catch that scene between dolores and teddy',\n",
       " 'donald glover tells ellen about his full circle star wars moment with his sonthe experience was weird but beautiful glover said',\n",
       " 'a marvel exec tried to stop the most jarring infinity war deathin an interview with huffpost nate moore said he asked the russo brothers to reconsider the death',\n",
       " 'jake gyllenhaal set to star as villain in spiderman sequelsends giftbasket to marvel',\n",
       " 'janet jackson becomes first black woman to receive billboard icon awardshe delivered an iconic performance and speech too',\n",
       " 'this isn’t pakistan bitch video captures driver’s racist ranta case of road rage in texas quickly escalated into a hateful and xenophobic diatribe',\n",
       " 'the grey gardens ladies were the unwitting godmothers of reality tv archetypesthe new documentary “that summer” a de facto prequel brings the eccentric edies back to life in an era dominated by attentionstarved minicelebrities',\n",
       " 'yearold boy is a superhero to alabamas homeless population“feeding the homeless is the highlight of my life” austin perine said',\n",
       " 'john oliver has the best time mocking the royal weddingmonarchy love and fast food',\n",
       " 'john oliver needles the dangerously unregulated rehab industrywatch him try to rehabilitate the rehab biz',\n",
       " 'jemele hill honored as nabjs journalist of the year“this is the biggest accomplishment of my career”',\n",
       " 'french digital minister comes out as gay to fight homophobiamounir mahjoubi hopes his experience will inspire other lgbtq people',\n",
       " 'belgian transgender ballet drama wins big at cannes film festivalgirl was deemed a stunning debut for its director and star',\n",
       " 'yearold gay man proves youre never too old to attend your first pridemartin hopes his journey will inspire young lgbtq people',\n",
       " 'super pacs that meddled in west virginia’s senate primary didn’t receive a penny from west virginiansthe outside groups can spend big to alter election outcomes but dont have to disclose donors until after the voting',\n",
       " 'airline passenger arrested after allegedly harassing woman and peeing on seatalcohol may have been involved',\n",
       " 'mike pompeo promises to crush iran and achieve a better dealthe secretary of state avoided specifics on how he would convince the rest of the world to abandon the existing nuclear accord',\n",
       " 'majestic islands in europe that most tourists don’t know about yetif you’re dreaming about a romantic european getaway that doesn’t involve a gazillion tourists then consider these beautiful isles',\n",
       " 'cuba confirms killed in countrys deadliest plane crash since the three cuban women who survived the crash were in critical condition a hospital official said',\n",
       " 'us china putting trade war on hold treasurys steve mnuchin saysright now we have agreed to put the tariffs on hold while we try to execute the framework',\n",
       " 'trump’s top economic adviser says amazon threats are ‘not in my lane’larry kudlow dodges when asked about the president’s attacks on the retail giant',\n",
       " 'dems trump admin find common ground helping victims of myanmars genocidebut they dont yet have the public support of the president and mitch mcconnell is delaying a vote on proposed sanctions for perpetrators of the crisis',\n",
       " 'giuliani says mueller will wrap up trump obstruction probe by september reporttrumps lawyer told the new york times he got the timeline from the special counsels office two weeks ago',\n",
       " 'german broadcaster criticized for racist coverage of royal weddingannouncers said the gospel choir sang beautifully black and described black guests as exotic',\n",
       " 'kathryn newton the boldest teen on tv is ready to grow upshes famous for playing soandsos teenage daughter but years into her career newton is anxious for a change',\n",
       " 'stephanie kelton has the biggest idea in washingtononce an outsider her radical economic thinking won over wall street now shes changing the democratic party',\n",
       " 'texas govs campaign cancels shotgun giveaway after santa fe school shootinggov greg abbott was dragged on social media over the seemingly tonedeaf contest',\n",
       " 'tina feys sarah palin leads snl chorus lamenting what i did for trumpjohn goodmans tillerson croons dont forget i regret what i did for trump',\n",
       " 'after day of american gushing snl goes smart aleck on the royal weddingkates tipsy',\n",
       " 'starbucks says anyone can now sit in its cafes even without buying anythingthe new policy was unveiled weeks after the controversial arrest of two black men at a philadelphia starbucks',\n",
       " 'alec baldwins trump faces ominous sopranos scenario in snl finalethings look black',\n",
       " 'asia argentos fiery speech closes cannes ‘i was raped by harvey weinstein here’the festival was weinstein’s “hunting ground” she said',\n",
       " 'tina fey tries out for mean girls the musical on snlthis weeks host did not fare well',\n",
       " 'parents of school shooting victims decry moronic gop platitudesfor texas lt gov dan patrick to be making those moronic comments unacceptable”',\n",
       " 'trump real americans should get tough on russia probethe president tried to smear the credibility of special counsel robert muellers investigation yet again',\n",
       " 'chrissy teigen john legend announce name of baby boy with adorable photomeet miles theodore',\n",
       " 'texas lt gov dan patrick touts need to arm teachersour teachers are part of that wellrun militia mentioned in the second amendment he said',\n",
       " 'david hogg calls on media to stop naming santa fe school shooterwe make these sick people known worldwide for their horrifying acts let’s stop that',\n",
       " 'trump sets up showdown with doj over claims of campaign surveillancethe justice department responded by asking its inspector general to look into trumps charge',\n",
       " 'jim carreys latest painting slams kent state goldilocks and her arthe student who posted the photo called carreys depiction disgusting',\n",
       " 'oliver north blames school shootings on ritalinthe incoming nra president who once promoted a violent video game also cited a culture of violence',\n",
       " 'jimmy kimmel tricks royal fans into reviewing the wedding before the big dayi thought it would be more extravagant',\n",
       " 'jimmy fallon reveals his viewers biggest wedding failswe sat there confused as the bride smacked the groom in the face',\n",
       " 'protesters throw a fiesta to razz lawyer who ranted at spanish speakersaaron schlossberg was treated to outrage mariachi music and español outside his home',\n",
       " 'what to watch on amazon prime that’s new this weektheres a new natalie dormer show',\n",
       " 'will ferrell and molly shannon cover the royal wedding as cord and tishthey should cover everything',\n",
       " 'the artist formerly known as cedric the entertainer has arrivedhell always be a king of comedy but what cedric kyles really wants to be is a dramatic actor',\n",
       " 'mark kelly trump rolled over for nra did nothing about guns after parkland“to see our elected leaders do nothing over and over again it’s just an incredibly sad situation”',\n",
       " 'gop candidate set up trust that pays his kids for marrying white peopleeven his own mom calls him a bigot but former judge vickers cunningham insists his opposition to interracial and samesex marriage didnt affect his rulings',\n",
       " 'houston police chief says hes sick of inaction on gun controli’ve hit rock bottom and i am not interested in your views as it pertains to this issue he said',\n",
       " 'the history of the national anthem in sportshow the starspangled banner became a part of american sports culture',\n",
       " 'bbc trolls president trump with bigly huge royal wedding crowdthe inauguration crowd continues to be a wellspring of humor',\n",
       " 'these are the victims of the santa fe high school shootingauthorities confirmed the deaths of people in the mass shooting here are their stories',\n",
       " 'this ceo took a pay cut to give employees a year now he’s battling amazontech entrepreneur dan price is working to curb the dangers of unbridled capitalism',\n",
       " 'trump jr met with emissary for gulf princes offering help with campaign in reportthe crown princes of the uae and saudi arabia offered help to the trump presidential campaign the new york times reports',\n",
       " 'trump misspells melanias name in welcome home tweet twitter roarshas melanie signed an nda',\n",
       " 'jimmy kimmel shreds cowardly trump lawmakers after texas school shootingthey sit there with their hands in their pockets pockets that are full of gun money and they do nothing',\n",
       " 'bill maher reveals things you dont know about michael cohenmy kids use air quotes when they call me a lawyer',\n",
       " 'what to watch on hulu that’s new this weektheres a wellreviewed documentary about bourbon',\n",
       " 'students stage sitin for gun control outside paul ryans office get arrestedthe teens organized the protest in response to the texas school shooting earlier that day',\n",
       " 'trump knew a scary amount about the appearance of bill gates daughternope nope nope nope nope nope nope',\n",
       " 'exrussian spy sergei skripal discharged from uk hospital after poisoning incidentbritain has accused russia of being behind the nerve agent attack but russia has denied any involvement',\n",
       " 'cuba plane crash reportedly kills over the plane went down shortly after takeoff from havanas jose marti airport',\n",
       " 'trump reassures north korea but threatens total decimation without a dealthe president assured kim jong un he can stay in power if he gives up his nuclear arsenal',\n",
       " 'ariana grande gives fans singing one last time the surprise of their livesomg',\n",
       " 'cambridge analytica files for chapter bankruptcy after facebook privacy rowthe firm at the center of the facebook data hack made the decision after suffering a sharp drop in business',\n",
       " 'santa fe high schoolers held gun violence protest month before shootinga small group took part in the national protest on april',\n",
       " 'michelle wolfs netflix trailer gives us a closer look at her new showthe break with michelle wolf starts may',\n",
       " 'jeff sessions uses exceptional power over immigration courts to limit judges authoritythe attorney general ordered judges to stop administratively closing cases whether they think its best or not',\n",
       " 'gop rep introduces bill that would demand white house apologize to mccainmany in congress are furious over a white house aide joking that mccain is dying anyway',\n",
       " 'colbert has a super graphic way of describing how deep muellers probe goes nowsounds painful',\n",
       " 'jack osbournes wife files for divorcethe two have been married since and have three girls',\n",
       " 'meek mill backs out of trump event on prison reformthe rapper said he and the president had become the focus of the summit',\n",
       " 'new trump rule would cut federal funds from clinics providing abortionsproviders like planned parenthood would lose funding for essential health checks like breast cancer screenings',\n",
       " 'twitter users joke trump wants prison reform because thats where hes headedwe’ll try and keep that in mind when your parole hearings come up one twitter user told the president',\n",
       " 'every single chilean bishop offers to resign over countrys sex abuse scandalits the first time all the bishops in one country have offered to step down over the churchs sex abuse scandal',\n",
       " 'ariana grande calls manchester attack the worst of humanity one year later“i wish there was more that i could fix',\n",
       " 'chrissy teigen spills first details about new baby boy we are in lovepatiently waits for first photo',\n",
       " 'alec baldwin and wife hilaria welcome another baby boybaldwinitoseverywhere the actor wrote',\n",
       " 'kate mckinnon breaks out another impression of rudy giulianiit wasnt as hard as i thought',\n",
       " 'how did smallvilles allison mack get involved with a sex cult in the first placeit started in late when she attended a twoday introduction to jness in vancouver',\n",
       " 'trump white house kills off yannylaurel debate with ridiculous clipits over',\n",
       " 'jennifer aniston to play lesbian president in netflixs first ladiestig notaro is set to star as her wife as well as write the script',\n",
       " 'break out the book of shadows the charmed reboot trailer is heres cast is much more diverse',\n",
       " 'former dave matthews band violinist boyd tinsley accused of sexual misconducti will defend myself against these false accusations tinsley said in a statement',\n",
       " 'so many people cant name a single book on jimmy kimmelwelcome to the next chapter in the decline of civilization',\n",
       " 'ellen degeneres hilariously explains how she saved meghan markle’s lifeand she didnt even get invited to the royal wedding',\n",
       " 'lawyer who ranted against spanishspeakers faces office eviction disciplinary complainthes been hounded by reporters and may get a surprise serenade from a mariachi band',\n",
       " 'hannity flips out mueller probe is a direct threat to this american republicmueller is causing irreparable damage to the rule of law in this country”',\n",
       " 'top democrats want answers on global health security heads sudden departure“the threat of a pandemic is serious and it’s important families know we have a vigilant and experienced team in place”',\n",
       " 'gun owners and nongun owners actually agree on a lot of gun reformsa recently released survey of the two groups finds minimal gaps in support for many key policies',\n",
       " 'twitter users pan ted cruz after he tweets prayers to santa fe school shooting victimswere tired of paying you in exchange for your useless prayers one twitter user told the senator',\n",
       " 'so states ban bump stocks now how do they enforce the lawanother concern for some gun rights activists is that the state bans do not give enough notice to residents that possessing a bump stock is in most cases a felony',\n",
       " 'for liberal billionaire tom steyer it’s all about that basehe’s betting that a campaign to impeach donald trump will turn out infrequent voters in november what could go wrong',\n",
       " 'sen dean heller’s campaign paid his social media influencer son more than the republican senators campaign gave the cash to his son to run its instagram page and make facebook and youtube videos',\n",
       " 'interior dept dodges watchdog’s questions about zinke’s call to alaska senatorsthe agency took six months to even respond to a federal probe into zinkes apparent effort to bully sen lisa murkowski over her health care vote',\n",
       " 'blake lively teases ryan reynolds and hugh jackmans bromancethe actress makes an intriguing observation',\n",
       " 'the happytime murders is a very adultthemed movie with puppetsmelissa mccarthy and a puppet join forces to solve murders in los angeles',\n",
       " 'photo of daniel radcliffe holding guns in crazy slippers becomes a magical memeas the actor filmed a scene for an upcoming movie all twitter could see was harry potter',\n",
       " 'bill gates says trump didnt know the difference between hpv and hiv“so i was able to explain that those are rarely confused with each other” the tech mogul said',\n",
       " 'the bachelorette bios are here and they are terriblewhy do you insist on ruining our snarky fun abc',\n",
       " 'steven tyler admits to hitting on daughter livs famous pal while she watchedi got a lot of sh for it the aerosmith rocker confessed to james corden',\n",
       " 'hospice overdosed patients to hasten their deaths former health care executive admitsfederal prosecutors allege melanie murphey and others at novus health services in texas were trying to maximize profits',\n",
       " 'kimmel brings down the house by giving trump’s latest tweet a new ending“well congrats to you too old pal',\n",
       " 'former wwf wrestler severely beaten outside california homehes really lucky to be alive a neighbor said',\n",
       " 'robert wilkie picked as new va secretary in surprise announcementhe doesnt know this yet trump admitted',\n",
       " 'trumps new domestic gag rule would strip funds from planned parenthoodthe president reportedly doesn’t know the difference between hiv and hpv but he still wants to penalize family planning providers',\n",
       " 'rudy giuliani reverses trump teams position says president can obstruct justiceobstruction of justice charges are reportedly central to the special counsels russia investigation',\n",
       " 'social anxiety doesn’t get the attention it deservesfifteen million people have it yet it remains in the shadows',\n",
       " 'deadpool is already breaking box office recordsits made nearly million before even officially opening',\n",
       " 'obamacare premiums will be way higher next year they didnt have to bethe messy health insurance exchange market was starting to settle down before trump came along',\n",
       " 'a comprehensive list of everything don jr doesnt know about that infamous meetingall things',\n",
       " 'report manaforts former soninlaw cuts plea deal to cooperate with governmentthe guilty plea agreement could add to the legal pressure on manafort',\n",
       " 'trump briefly responds to santa fe school shooting before pivoting“on another note a very positive note im honored to be here',\n",
       " 'late night writer shreds roseanne its better than ever at being racist“now let me tell you one of the bajillion reasons why this episode was poison',\n",
       " 'trumps nasa chief has apparently changed his tune on climate changehe said humans are contributing in a major way to climate change after years of refusing to acknowledge that fact',\n",
       " 'freedom caucus sinks key part of paul ryans welfare reform agendaa fight over immigration ended up tanking the farm bill',\n",
       " 'transphobic congressional hopeful berates person inside public restrooma republican running in a district that includes part of los angeles county documented her restroom confrontation in a shocking viral video',\n",
       " 'singer ryan amador says loverboy is his second coming outhe looked to call me by your name to visually inspire the sthemed video',\n",
       " 'newest head cracker do you hear brainstorm or green needlethis time you can change what you hear with your mind',\n",
       " 'meditation is like a humans way of clearing browser cachethe most profound “shower thoughts” on reddit from the last week',\n",
       " 'the funniest tweets from women this weekcoffee mugs do a lot of heavy lifting when it comes to personality in the workplace',\n",
       " 'italy looks to befriend russia as populist parties try to form governmenthuffpost italia obtained a document that shows what italys next government could look like',\n",
       " 'business groups might be quietly killing a bill that would bring sexual abuse claims to lightcongress could make all companies allow workplace sexual harassment victims to go to court but the bipartisan legislation seems to have stalled',\n",
       " 'kushner family reportedly close to getting bailout for flagship towerthe fifth avenue property may have found its savior',\n",
       " 'trump says hell give to charity for royal wedding but well seethe president has a history of claiming to donate to charities without providing proof',\n",
       " 'federal prosecutors still trying to turn trump inauguration protesters into felonsthough jurors acquitted the first defendants the government is pursuing multiple felony charges against four more',\n",
       " 'republican immigration fight derails food stamp billthe freedom caucus comes out against the farm bill until republicans work out an immigration plan',\n",
       " 'retiring lawmakers have added million to campaign treasuries since last electionby frank bass maplight more than five dozen congressmen who have retired or plan to retire next year have raised at least',\n",
       " 'facing farm bill vote problems gop leaders may have to make a dealsomehow the farm bill may hinge on immigration',\n",
       " 'methodists surprise gay minister with worlds best pastor certificates after theft of diplomasomeone stole the rev david meredith’s ordination certificate so his congregation plastered his office door with their own certificates of love',\n",
       " 'china marks another milestone in quest to become space superpowerits the first time a rocket designed by a chinese private company has successfully entered orbit',\n",
       " 'stephen colbert wants mueller to give trump a special anniversary giftthe special counsel investigation began one year ago on thursday',\n",
       " 'trump’s stormy daniels disclosure still leaves questions about payments to cohenaccording to rudy giuliani trump paid michael cohen – but cohen only paid daniels what happened to the rest of it',\n",
       " 'please enjoy this animated history of tina fey for her snl returnand its narrated by the comedian too',\n",
       " 'the controversial way some california schools are handling students misbehaviorby david washburn the two thgrade girls heard the laughing the minute they walked into their thirdperiod class that december',\n",
       " 'deaf activist points out that marvel’s diversity problem isn’t just about race“people think diversity has to do with race and gender but there’s so much more to it”',\n",
       " 'magnum pi trailer has lots of close shaves and no big mustachethe tv reboots hero now lives on the razors edge',\n",
       " 'gina haspel confirmed as cia director with aid of democratsdemocrats had the power to block her nomination but they couldnt stick together',\n",
       " 'boulder city council unanimously votes to ban assault weapons highcapacity magazinesopponents to the measure have vowed to challenge the ban in court',\n",
       " 'chrissy teigen and john legend welcome baby boysomebody’s herrrrrrre',\n",
       " 'terrifying clip shows why you should never run under a tree during thunderstormsyikes',\n",
       " 'mitch mcconnell taps antilgbtq bigot for religious freedom paneltony perkins who has warned of gay people waging an antichristian holocaust is now on the commission on international religious freedom',\n",
       " 'seth meyers gives donald trump some very unexpected advice about north koreai never thought i’d say this',\n",
       " 'devin nunes fundraising off fbi attacks tells potential donors that trump says hes a herothe house intelligence committee chairman whos attacked the probe of russian interference in the election says hes standing strong with trump',\n",
       " 'former mexican president warns donald trump youve got to get your st togetheryou must show compassion and humanity vicente fox admonished after trump called immigrants animals',\n",
       " 'fox news first female ceo was named in sexual harassment complaintssuzanne scott a fox news lifer has been accused of helping foster a toxic workplace for women at the cable network',\n",
       " 'the battle to save our dying soilthis camp in southern spain is finding ways to restore degraded land',\n",
       " 'latino man insulted when starbucks barista writes slur on cupthe coffee giant tried to apologize with a gift card which was refused',\n",
       " 'snl cast member claims trump faked a bizarre phone call during rehearsalspete davidson said the future president answered a phone that didnt ring',\n",
       " 'jimmy kimmel comes clean i may owe donald trump an apologythe jimmy kimmel live host offers a rare mea culpa to the president',\n",
       " 'trevor noah skewers betsy devos with fake forprofit university ad“are you looking to spend you don’t have to get a degree that won’t help you find a job”',\n",
       " 'serena williams explains why her father didnt walk her down the aisle“maybe a lot of daughters wouldn’t react the same way but i know the struggles he’s had these last few years',\n",
       " 'star wars writer confirms donald glovers character is pansexual in soloa “solo” writer opened up about lando calrissian’s fluid sexuality and his desire for “a more explicitly lgbt character”',\n",
       " 'medical professionals factcheck greys anatomy sex sceneshow farfetched are the racy bits in medical dramas some reallife doctors and nurses educate us',\n",
       " 'amy schumer nails why meghan markles fairytale wedding actually suckscan you imagine having a worse wedding',\n",
       " 'michael keaton ends kent state commencement speech with im batman“i’ve got two words that i want you all to remember im batman',\n",
       " 'while black have you been profiled share your storyblack people in america have had to justify our existence in places we’ve had the right to be simply because others rejected us',\n",
       " 'black actresses at cannes protest against racism in french film industrythe french actresses recently collaborated on a book titled “black is not my job”',\n",
       " 'michael b jordan denies rumors he doesnt date black womenits so funny to everybody because it couldnt be further from the truth the actor said my dad and my mom both said if they only knew',\n",
       " 'scam pacs ripped off conservatives with propolice antiabortion messages prosecutorsthe scam allegedly raised million from donors from to',\n",
       " 'mtv suspends catfish while it probes nev schulman sexual misconduct claims“we take these allegations very seriously” an mtv spokesperson said',\n",
       " 'trumps ice is increasingly arresting immigrants without criminal convictionsthe president often talks about criminals that his administration finds and deports but a lot of noncriminals are being swept up too',\n",
       " 'special counsel hits roger stones social media advisor with subpoenasstone is president donald trumps longtime friend and former campaign consultant',\n",
       " 'whitney houston was sexually abused by dee dee warwick cannes documentarythe revelation in whitney adds another sad chapter to the late singers turbulent life',\n",
       " 'patton oswalts joker theory will change how you watch the dark knightthe comedian elaborates on an existing theory',\n",
       " 'josh holt american captive in venezuela begs for help in prison videosthe yearolds plea comes amid rioting at the prison where he has been held without trial since',\n",
       " 'obama photographer taunts donald trump for calling immigrants animalsdear sir these are animals',\n",
       " 'backstreet boys release new song dont go breaking my hearttheyre back alright even though they never really left',\n",
       " 'prince knight puts a gayinclusive twist on traditional fairy talesdaniel haacks picture book is the first release in a major glaad effort for kids',\n",
       " 'gay conversion therapy survivor recalls month nightmare in a powerful videoalex cooper says she endured physical pain and emotional pain during her ordeal',\n",
       " 'gq expertly spoofs vanity fair with their annual comedy issue coverkate mckinnon issa rae and sarah silverman make this hands down the best cover ever',\n",
       " 'rudy giuliani offers a headspinning new defense of trumpgiuliani provided a circuitous explanation of why trump couldnt have colluded with the russians',\n",
       " 'cynthia nixons fix our subway ads shred cuomos mta commuters rejoicedoes n e c a train reads one of the subwaythemed campaign ads',\n",
       " 'the farm bill could be a huge blow to animalsan amendment threatens farm animal protections food safety laws and rules on invasive species',\n",
       " 'emails show interior expected to learn nothing from public input on bears ears review“essentially barring a surprise there is no new information that’s going to be submitted” an agency official said',\n",
       " 'whistleblower leaked michael cohens financials over potential coverup reportthe whistleblower said two files about cohens business dealings are missing from a government database',\n",
       " 'kidnapper accused of using alligator to hold man captivethe suspect allegedly sent a ransom photo of the victim with a live reptile on his back',\n",
       " 'the miss america pageant is now headed by women after email scandalthe appointments of former pageant winners follow male board members abruptly resigning in december',\n",
       " 'north korea threatens to reconsider trump summit cancels south korea talkspyongyang condemned recent joint military exercises conducted by the united states and south korea calling the drills an intentional provocation',\n",
       " 'chemical weapons likely used in syria watchdog findsthe attack in february left people in need of emergency treatment',\n",
       " 'hundreds in israel and beyond protest killings of palestinians on gaza borderisraeli military forces killed some palestinian demonstrators on monday',\n",
       " 'researchers uncover secret pages in diary of anne frankthe entry concealed by pasted brown paper mentions dirty jokes sex and puberty',\n",
       " 'stephen piscotty returns from bereavement to hit momtribute home runthe oakland as player patted his heart and looked skyward as he touched home plate it was pure joy he said later',\n",
       " 'senate intelligence committee backs gina haspel to lead the ciahaspel looks all but assured to win confirmation in a vote before the full senate',\n",
       " 'pennsylvanias congressional delegation will no longer be all menit looks like at least one woman will be heading to washington from the state',\n",
       " 'a lando calrissian star wars’ spinoff starring donald glover isnt happeningthe talk was fun while it lasted',\n",
       " 'fake donald trump and sean hannity pillow talk on the late showive been watching you',\n",
       " 'rapper ti arrested for disorderly conduct public drunkennesshe reportedly went back to keep arguing with the guard at his gated community',\n",
       " 'conservatives cook up farm bill gambit to get vote on hardline immigration billthis is getting very house of cardsy',\n",
       " 'top novartis lawyer resigns over michael cohen dealus lawmakers demand details from novartis and att about their payments to cohens firm',\n",
       " 'why isnt there a birth control emojitwo women decided it was time to have one',\n",
       " 'white house eliminates cyber czar post after first appointee leaves“i don’t see how getting rid of the top cyber official in the white house does anything to make our country safer from cyber threats” mark warner the top democrat on the senate intelligence committee said',\n",
       " 'emily’s listbacked lawyer wins democratic primary in pennsylvania swing districtsusan wild would be the first woman to represent the lehigh valley in congress',\n",
       " 'robin williams biographer tells sweet story of their comic store visithe was like a kid in a candy store robin author dave itzkoff told jimmy fallon',\n",
       " 'republicans are attacking nancy pelosi even in nonhouse racesthe house minority leader is turning up in gop attack ads for senate and state legislative races',\n",
       " 'an empire of nothing at all the us military takes us through the gates of hellthis article originally appeared at tomdispatchcom to receive tomdispatch in your inbox three times a week click here',\n",
       " 'longtime trump lawyer slams giuliani as polarizing figure who shouldnt deal with muellergiuliani may also be trying to aggrandize himself jay goldberg said',\n",
       " 'the bet awards nominations are here and dj khaled must be screamingthe wild thoughts artist received six nominations',\n",
       " 'beirut pride canceled after organizer is detained by authoritiesthe news comes just one year after lebanons first pride celebration',\n",
       " 'manhattan district attorney vows to stop prosecuting minor marijuana cases“the dual mission of the manhattan da’s office is a safer new york and a more equal justice system” said district attorney cyrus vance jr',\n",
       " 'larry nassar victims to receive million in michigan state settlementin the event of future lawsuits million will be set aside',\n",
       " 'trump jr left open possibility that dad knew of trump tower meeting at the timesenate transcripts reveal the presidents son only partly backed white house claims that the president didnt know',\n",
       " 'tom cruise anklebreak scene goes for laughs in mission impossible traileran actionpacked preview for mission impossible fallout features the stunt that sidelined the star',\n",
       " 'the many lives of steven tylerthe aerosmith frontman who recently turned is ready for the next big thing',\n",
       " 'louisiana lawmakers approve restoring voting rights to people on probation and parolethe measure’s passage is a significant victory for voting rights advocates',\n",
       " 'thandie newtons cannes dress is a celebration of black star wars characterslook closely and youll see some stunning details',\n",
       " 'trump paid more than to cohen financial disclosure confirmsa reason for the payment was not specified in the financial disclosure which has caused concern over its timing',\n",
       " 'american citizen freed from egypt jailadvocates for ahmed etiwy said the white house had never made the case a priority despite president donald trumps america first policy',\n",
       " 'fox news said to settle group of discrimination lawsuits for about milliona new york times report detailed the agreement the network reached with multiple plaintiffs including anchor kelly wright',\n",
       " 'tweeters take hard pass at rncs dinner and photo with donald trump prizeseriously youre pushing raffle tickets to get a picture with an elected official',\n",
       " 'facebook removed more than million fake accounts in first quarter of facebooks first community standards enforcement report shows the company is trying to be as open as we can” an executive said',\n",
       " 'pink had a badass response to a troll who said she looked old“i’ve earned every fking minute of my years”',\n",
       " 'san francisco to adopt software app to help automatically clear old marijuana convictions“when the government uses thcentury tools to tackle stcentury problems it’s the public that pays the price',\n",
       " 'younger star sutton foster returns to her broadway roots for new albumtake me to the world showcases fosters latest role as a new mom',\n",
       " 'in senate hot seat scott pruitt dodges questions over mounting scandalsthe epa chiefs ego and lavish spending have made him and the agency “a laughingstock said sen patrick leahy dvt',\n",
       " 'idaho inches closer to electing the nations first native american governorpaulette jordan won the democratic primary in the idaho governors race',\n",
       " 'proabortion rights progressive wins nebraska democratic house primarykara eastman prevailed against an establishment favorite in challenging territory',\n",
       " 'ryan reynolds crashes colbert as deadpool to crack some xrated trump jokesthe merc with a mouth takes over the late show monologue',\n",
       " 'ryan reynolds is genuinely hurt trading playground insults with josh brolindeadpool stars unload on each other for laughs',\n",
       " 'terry crews me too movement is the emancipation proclamationthe brooklyn ninenine star recalled his childhood terrors in an emotional speech',\n",
       " 'christopher wylie warns senators cambridge analytica steve bannon want culture war“we’re seeing a resegregation of society that’s catalyzed by algorithms” wylie said wednesday',\n",
       " 'san francisco may ban singleuse plastic strawsmany local food and beverage merchants are already on board',\n",
       " 'john travolta sure isnt greased lightning on cannes dance floorsure hes stayin alive with cent rapping but one outlet called his moves classic dad bopping',\n",
       " 'senate panel releases details from its trump tower meeting probeamong the information released was an interview with donald trump jr',\n",
       " 'us report contradicts michigan governor candidate over test animal treatmentthe agriculture department found animal welfare violations in democrat shri thanedar’s chemical testing facility',\n",
       " 'the republican welfare plan is about keeping wages downbut they might be overestimating what their legislation would do',\n",
       " 'years ago today michael jackson moonwalked on tv for the first timethirtyfive years ago today michael jackson took the stage and made an indelible impact on pop culture with his solo performance',\n",
       " 'hilary duff publicly drags neighbor who keeps her up ‘all night’what nightmares are made of',\n",
       " 'jim carrey jabs stooge donald trump over north korea in new artworkwhen democracy is dead we’ll give you a seat at the grownup’s table',\n",
       " 'trump’s failure to report stormy daniels payoff referred to prosecutorsthe office of government ethics said the president should have disclosed he repaid his lawyer for the in hush money',\n",
       " 'bohemian rhapsody trailer slammed for ignoring freddie mercurys sexualitywriterproducer bryan fuller accused the filmmakers of hetwashing their legendary subject',\n",
       " 'fergie rides the new york city subway and it will never be the sameno one has ever been happier to take the subway in an allwhite suit',\n",
       " 'pauley perrette responds to cbs statement about her multiple assaults claimthe ncis actress said earlier that a publicity machine was keeping her silent about the assaults',\n",
       " 'trump refers to immigrants as animals againthe president also asked the attorney general to charge the mayor of oakland with obstruction of justice for warning residents about planned immigration arrests',\n",
       " 'angry white dudes rant about people speaking spanish in nyc goes viralthe man tells an employee “your staff is speaking spanish to customers when they should be speaking english”',\n",
       " 'democratic lawmaker gives scott pruitt brutal reality check during senate hearingburn',\n",
       " 'trump picks mitch mcconnells brotherinlaw gordon hartogensis to lead pension agencyexperts say the choice to lead the pension benefit guaranty corp wasnt based on qualifications',\n",
       " 'fbi search of cia leak suspect turned up photos of sex assault on unconscious friendthe government suspects that joshua adam schulte gave documents to wikileaks but theyre holding him on child pornography charges',\n",
       " 'former trump pick for top census role says citizenship question was politicalthey have made a political decision and they have every right to do that because they won the election” thomas brunell said',\n",
       " 'jared kushner was agitated infuriated at meeting with russians focused on adoptionsthousands of pages of transcripts detail the meeting at trump tower with russians',\n",
       " 'sarah huckabee sanders is unusually honest in seth meyers’ spoof briefing“the president does not have a lot of respect for people whose sole job is to carry out the law',\n",
       " 'here’s how to become kris jenner’s assistant according to kris jennerkeeping up with the kardashians is an obvious requirement',\n",
       " 'chris pratt and bryce dallas howard really need a service raptor on their flightits an emotional support dinosaur',\n",
       " 'here are the surprise shows coming to netflix in mayhere are the shows you wouldnt have known were debuting if youd only read netflixs monthly list',\n",
       " 'rex tillerson warns grads of living in ‘alternative realities’gee wonder who hes talking about',\n",
       " 'democrats force vote to keep net neutrality rulesits only a temporary victory however',\n",
       " 'larry nassar blames his victims says he was victimized in newly released videos“that’s my selftorture i guess you could say yes she was victimized yes i was victimized to myself”',\n",
       " 'video shows yearold with autism taunted abused by bus driverits clearly despicable said an attorney for the girls family',\n",
       " 'yanny or laurel here’s the real answerdrumroll',\n",
       " 'populist cleric muqtada alsadr likely to win iraqs parliamentary electionsadr has led two uprisings against us forces in iraq and is one of the few shi’ite leaders to distance himself from iran',\n",
       " 'palestinian family says monthold died from israeli tear gas in gaza protest crackdown graphicsixty people were killed during mondays clashes which took place during the opening of the us embassy in jerusalem',\n",
       " 'sichuan airlines copilot sucked halfway out of broken windshielda cockpit windshield detached at feet the next thing i know my copilot had been sucked halfway out of the window”',\n",
       " 'retail group spoofs ferris bueller in ad bashing donald trumps tariffstariffs are bad says a deadpan ben stein in front of a chalkboard',\n",
       " 'washington officials say state will cover postage for mailin ballots this year“more voter participation makes for a stronger democracy gov jay inslee said',\n",
       " 'most people think theyre being civil about politics their opponents disagreeeveryone agrees that the national discourse is currently less than genteel and that the other side is to blame',\n",
       " 'cambridge analytica being investigated by justice department fbi reportnews of the investigation comes two months after the company was accused of harvesting million facebook users’ personal data',\n",
       " 'adorable video for kids shows that activism is literally as easy as pieit’s about how you want to make change and what you to change',\n",
       " 'white house blames deadly gaza violence on hamas ‘propaganda’israeli forces opened fire on palestinian protesters on monday killing more than and injuring thousands more',\n",
       " 'gina haspel now says cia shouldnt have conducted its interrogation programshe repeatedly refused to weigh in on its morality at her confirmation hearing',\n",
       " 'tesla autopilot was engaged during horrific mph crash driver tells policetesla ceo elon musk tweeted that its amazing the driver wasnt more seriously injured',\n",
       " 'selling planes to iran could have saved lives exiting the nuclear deal will make that harderafter the nuclear deal iran hoped to replace more than of its planes it has only received',\n",
       " 'in speech for fallen officers trump touts policies and rails against sanctuary citiesat an event attended by officers families the president denounced ms and called for the death penalty for those who kill police officers',\n",
       " 'eric greitens’ team pushes for inquiry into prosecutor who charged himthe missouri governor’s lawyers accuse st louis circuit attorney kim gardner of misconduct in the felony case',\n",
       " 'elizabeth warren pledges big money to ‘turn up the heat on gerrymandering’the massachusetts senator announced a contribution to state legislature campaigns and gerrymandering reform groups',\n",
       " 'gay conversion therapy is now illegal in marylanda growing number of states have adopted similar legislation to protect lgbtq youth',\n",
       " 'fox news judicial analyst defends timeline of muellers probe“bob mueller has no duty to tip his hand and show his cards until the end of his investigation andrew napolitano said',\n",
       " 'stephen colbert uses oprah analogy to ridicule trumphannity bedtime chatssean what are you wearing',\n",
       " 'the first trailer for the queen biopic bohemian rhapsody is heremamma mia',\n",
       " 'seth meyers shreds trump over scandals drain the swamp is now devoid of all meaningtrump didn’t drain the swamp he bottled it and sold it as dr trump’s miracle healing elixir',\n",
       " 'jim carreys new blooddripping portrait takes aim at national disgrace nrathe venom of greed is killing america',\n",
       " 'scott pruitt got security from day at epa new documents showthe epa had justified pruitts expensive security as a response to threats new emails appear to cast further doubt on the claim',\n",
       " 'rabid antimuslim exfbi agent is training texas policeconspiracy theorist john guandolo who says islam is barbaric and evil conducted a stateapproved training session this month',\n",
       " 'khloé kardashian explains how she chose true as her daughters namekhloé kardashian is opening up about why she decided to name her daughter true the “keeping up with the kardashians” star',\n",
       " 'game over gina haspel on track to be confirmed as cia directordemocrats have lost the debate over torture after two democratic senators said they plan to back haspels confirmation',\n",
       " 'topher grace really hated preparing to play david duke in spike lees blackkklansman“it was just the worst month of my life”',\n",
       " 'sarah paulson was ‘deeply nerdy’ around rihanna while filming ‘ocean’s ’sandra bullock apparently wanted her to dial it down',\n",
       " 'blake farenthold says he wont repay sexual harassment settlementthe former representative from texas says hes balking on the advice of his lawyer',\n",
       " 'spike lee gets major love for blackkklansman at cannes rips trumpa minute ovation and lee’s takedown of the motherfker president made it a festival day to remember',\n",
       " 'twitter users hilariously skewered these terrible stock photos of their jobsaccording to my latest science there is space',\n",
       " 'ivanka and jareds jerusalem visit slammed on twitterdaddys little diplomat gets called out over israel trip',\n",
       " 'adam rippon honors his mom with stunning dancing with the stars performancethe skater impressed with an emotional contemporary routine set to a familiar song',\n",
       " 'tomi lahren hits back at genealogist who researched her family misses the pointthe former fox news host ignored the lesson that immigrants past and present are alike including the ones in her own family',\n",
       " 'georgia gop gov candidate wants to round up immigrants in deportation buswe’re going to put them on this bus and send them home boasts state sen michael williams',\n",
       " 'daddys little ghoul new york daily news rips ivanka trump over embassy openingthe tabloid said the first daughter was all smiles as protesters died in gaza',\n",
       " 'death of keeven robinson black louisiana man in police custody ruled homicidethe officers who took robinson into custody have been reassigned pending an investigation',\n",
       " 'colbert savages peacetreaty barbie and collusion ken over embassy openingthe late show host took aim at ivanka trump and jared kushners presence in jerusalem',\n",
       " 'twitter users roast experts who say ‘you should have twice your salary saved’ by i think you meant to say by you should have debt twice your salary',\n",
       " 'this woman is challenging the white maledominated tech industry from the insidegoogles annie jeanbaptiste says diversity should be core to how everyone does business not just a nice to have',\n",
       " 'keith richards explains how he got rid of trump nearly years ago“now america has to get rid of him don’t say i didn’t warn you”',\n",
       " 'damon wayans completely rips clayne crawford in twitter outburstthe feud between wayans and his fired lethal weapon costar just got real public',\n",
       " 'you like han solo because he’s a scoundrel solo a star wars story forgot thatron howards dramaaddled spinoff doesnt get han quite right but the movie is entertaining in a witless way',\n",
       " 'pauley perrette reveals multiple physical assaults after ncis exitcbs confirmed that perrette came to us with a workplace concern',\n",
       " 'ariana grande and jimmy fallon make sweet music with cardboard instrumentsit was totally bizarre and such a gamble',\n",
       " 'trevor noah i don’t watch fox news and neither should youi encourage my audience to not watch fox news',\n",
       " 'seattle passes controversial new tax on citys biggest companies to combat housing crisisfollowing the council vote amazon’s vice president drew herdener said the company has resumed construction planning for its socalled block project in downtown seattle',\n",
       " 'uber ends forced arbitration in individual cases of sexual assault harassmentvictims will be free to go to court but a few caveats remain',\n",
       " 'meet the first openly trans man to graduate from spelman college“people still have their own opinions of me attending spelman but it’s because of spelman why i am who i am”',\n",
       " 'here are the canceled and renewed tv shows for or both if youre brooklyn ninenine',\n",
       " 'teen claims he visited heaven during near death experiencetrenton mckinley is recovering from severe brain trauma after an accident',\n",
       " 'willow smith tells a shocked jada pinkett smith she selfharmed as a preteenthe singer said she lost my sanity after the success of her single whip my hair in',\n",
       " 'a new farming technique using drastically less water is catching onbut not everyone is on board',\n",
       " 'kristen stewart ditches heels on cannes red carpet defying no flats rulegoing going gone',\n",
       " 'david duchovny addresses the nuttiest fan theories about the xfilesdid aliens really influence fashion choices in the xfiles universe',\n",
       " 'judge overturns californias righttodie lawthe state attorney general has five days to file an emergency appeal challenging the ruling',\n",
       " 'debbie wasserman schultz the nra is just shy of a terrorist organizationthe gun group has worked to perpetuate the culture of violence that we have in our country the congresswoman said',\n",
       " 'cardi b responds to girls song controversy apologizes to lgbtq communitythe rapper wrote on twitter that she thought the song was a good song',\n",
       " 'your emotional support spider and goat are now banned on american airlinesthe airline released a list of prohibited animals after seeing a percent rise in onboard companions',\n",
       " 'people cant agree on whether this voice is saying yanny or laurelthe voice is creating division on the internet not seen since that infamous dress',\n",
       " 'even the bottom of the worlds deepest ocean trench is not safe from plastic bagsa plastic bag was found at a depth of almost feet in the mariana trench scientists say its the worlds deepest known piece of plastic trash',\n",
       " 'us to open new embassy in jerusalem but other nations prefer to wait for peace dealmajor powers worry that the us move could inflame palestinian unrest in the occupied west bank and on the gaza strip border',\n",
       " 'israeli forces kill dozens of palestinians as protests intensify over us embassy in jerusalemin gaza palestinian protests quickly turned into bloodshed',\n",
       " 'facebook suspends apps amid data misuse investigationthe investigation was launched in response to the cambridge analytica scandal',\n",
       " 'former senator harry reid diagnosed with pancreatic cancerreid underwent surgery monday to remove a tumor according to his family',\n",
       " 'new federal regulator takes aim at facebookrohit chopra a trump appointee to the federal trade commission took a notsosubtle jab at the tech giant',\n",
       " 'still no apology from the white house over dying mccain digthe white house appeared to be more upset that kelly sadler’s comment was leaked than by her ugly remark',\n",
       " 'south dakota congressional candidate said terrorist attack would help him win primarystate sen neal tapio was the state director for donald trump’s campaign',\n",
       " 'ryan coogler would love to see a women of wakanda spinoffthe director said the black panther women may be more important than the male characters',\n",
       " 'coffee shop refuses to serve man after racist rant against woman in niqabthe man turns to the counter and the server appears to ask him to leave a male voice can be heard in the background yelling',\n",
       " 'supreme court invalidates federal ban on sports gamblingthe ruling paves the way for states to legalize sports betting but could have implications far beyond sports',\n",
       " 'huge congrats to fox news on getting guest journos to peddle bret baier’s bookwhos falling in line for fox news',\n",
       " 'here are the movies coming to netflix this weeksurprise netflix adds a pretty good scifi movie',\n",
       " 'prosecutor drops felony invasion of privacy charge against missouri gov eric greitensst louis circuit attorney kim gardner took the action after the defense requested to put her on the stand',\n",
       " 'israeli soccer team beitar jerusalem to add trump to its namebeitar jerusalem said its making the move to honor the us embassys relocation',\n",
       " 'vermont lawmakers pass genderneutral bathroom bill to ‘send powerful message’in a time where lbgtqia rights are being rolled back on the federal level when the trump administration isnt protecting children it is our duty to step in',\n",
       " 'rita oras girls deemed tonedeaf harmful by lgbtq pop artiststhe pop stars new song was called out for exploiting bisexuality',\n",
       " 'us embassy in jerusalem opens its doors as protests rage nearbyin one of his most controversial decisions to date trump declared jerusalem the capital of israel in december',\n",
       " 'john oliver reveals the secret to figuring out what’s going on in trump’s mindouch',\n",
       " 'this is what super mario looks like without hair and people are freaked outhe’s missing his sideburns iconic mustache and eyebrows',\n",
       " 'channing tatums mothers day message to ex jenna dewan is full of lovefrom couplegoals to exgoals',\n",
       " 'this is us star justin hartley says he was sexually harassed by fanthe actor claims a woman started kissing him without asking in public',\n",
       " 'lois lanes pay tribute to the late margot kidder she led the wayactresses teri hatcher and erica durance remembered kidder on social media',\n",
       " 'not an onion story blake farenthold gets a new job lobbying congressits only been a month since he quit his house seat amid an ethics committee probe into sexual harassment allegations',\n",
       " 'iowa gov says were not slowing down after signing countrys strictest abortion ban“we are no in the country when it comes to protecting life” republican gov kim reynolds said',\n",
       " 'cannes film festival promises greater gender equality after times up activismin the cannes festivals seven decades only movies directed by women have competed in the main slate compared with directed by men',\n",
       " 'childish gambinos this is america hits no spot in first weekjust a week after its release its already his biggest hit ever',\n",
       " 'jon stewart and dave chappelle to perform standup tour togetherthe two comic legends are joining forces for a limited tour in june',\n",
       " 'coach tells hurt ufc fighter to continue after she says im doneraquel pennington took even more of a beating in a bloody loss to champion amanda nunes',\n",
       " 'melania trump is recovering from kidney surgeryher condition was benign her office said but she will remain hospitalized this week',\n",
       " 'jon tester vulnerable senate democrat isn’t voting like onethe montanan is up for reelection in a state trump won in a romp that hasnt stopped him from opposing trump nominees',\n",
       " 'taraji p henson and kelvin hayden get engaged on mothers daythe “empire” star’s nfl boo took a knee and popped the question 💕',\n",
       " 'young dolph gives to baristas fired for playing his song get paidthe shop on duke universitys campus apologized for booting the workers and said its cutting ties with the school',\n",
       " 'come back to bed explores intimacy after experiencing sexual assaultin robert tennent experienced a sexual assault that led to a period of celibacy during that time he attended counseling to be able to introduce sex to his life again',\n",
       " 'trump changed his burger order to make it a little healthiernow rudy giulianis spilling the beans on the presidents diet efforts too',\n",
       " 'michael avenatti posts photos of cohen with qatari investor accused of briberywarning ignored so here it goes stormy daniels attorney tweeted',\n",
       " 'donald trump lashes out at socalled leaks and twitter users pounceas one paraphrased trump “the food here is awful and the portions are too small”',\n",
       " 'trump orders help for chinese phonemaker after china approves money for trump projecttrump will profit from indonesian resort project that will get million in chinese loans in a deal sealed days before before his tweet ordering help for zte',\n",
       " 'hundreds protest in cities across us for poor peoples campaignthe movement demands lawmakers do more to help americans in poverty from supporting a minimum wage to ending systemic racism',\n",
       " 'rihanna had the best response to being asked if she was attending the royal weddingher answer is better than just a “yes” or “no”',\n",
       " 'lifetimes harry and meghan a royal romance was… goodi think im so confused',\n",
       " 'gamechanging westworld brain capsule reveal is only the beginningactors jimmi simpson and clifton collins jr say season is just getting started',\n",
       " 'margot kidder actress who played lois lane in superman dead at the cause of death has not been made public',\n",
       " 'tomi lahren gets owned by genealogist after her remarks on lowskilled immigrantslahren’s greatgreatgrandmother spoke no english after living in the united states for a decade',\n",
       " 'harrison ford crashes new han solo actors interview get out of my lifea meeting of the hans',\n",
       " 'kylie jenners exbodyguard tim chung denies hes actually stormis fathercease and desist social media sleuths',\n",
       " 'seann william scott replaces clayne crawford on renewed lethal weaponstifler to the rescue',\n",
       " 'zach woods is officially the mvp of silicon valleya conversation with the comedy mastermind about playing jared the heart of the hbo tech satires fifth season',\n",
       " 'ryan reynolds went on a south korean singing show disguised as a unicornoh and he sang “tomorrow” from the musical “annie”🦄🌈🎤',\n",
       " 'billie lourd honors those having a tough mothers day with photo of carrie fisherthis one goes out to anyone having a less than perfect mothers day today',\n",
       " 'pink asks yearold concertgoer to sing for her and is blown awaythe young aspiring singer was given the opportunity and she crushed it',\n",
       " 'pastor who thinks jews are going to hell speaks at jerusalem embassy openinganother evangelical christian leader speaking at the opening of the new american embassy once said hitler was a hunter helping jews return to israel',\n",
       " 'chilis hit by data breach credit and debit card information compromisedthe breach is believed to have occurred between march and april',\n",
       " 'trump called waffle house hero james shaw jr to thank him for disarming shootertrump applauded shaw for his “heroic actions” in a phone call monday according to the white house',\n",
       " 'fox news host trump fulfilled biblical prophecy by moving us embassy to jerusalemjeanine pirro also compared trump to king cyrus',\n",
       " 'keyless cars have killed more than dozen people since reportdrivers have succumbed to carbon monoxide poisoning after forgetting to turn off a vehicle in their garage',\n",
       " 'rare conjoined fawns have scientists doing a double take“we can’t even estimate the rarity of this one scientist said',\n",
       " 'at least killed dozens injured in indonesia church bombingssuicide bombers attacked three churches in surabaya indonesias secondlargest city on sunday morning',\n",
       " 'irans president says country could remain in nuclear deal without usthe us withdrawal from the accord was a “violation of morals” iranian president hassan rouhani said',\n",
       " 'lindsey graham trump officials owe mccain an apology for disgusting insult“i think most americans would like to see the trump administration do better in situations like this”',\n",
       " 'amy schumer goes fullon girl raunch on saturday night liveand she disses husband chris fischers marriage proposal',\n",
       " 'what do most americans make of the iran deal it depends how you askmuch of the us public appears not to have any deeply held convictions about the accord',\n",
       " 'what it was like attending the nra convention as part of the fake news mediathe gathering boasted record attendance amid the rise of a newly vocal guncontrol movement',\n",
       " 'possible autopilot use probed after tesla crashes at mphits not yet known if the autopilot was engaged the cars driver suffered a broken ankle',\n",
       " 'michael bloomberg slams epidemic of political lies as danger to democracyhow did we go from a president who could not tell a lie to politicians who cannot tell the truth',\n",
       " 'massive cookout thrown in park where cops were called on black family bbq“how black oakland responds to a white lady calling the cops on black folks bbqing',\n",
       " 'michael ches stepmom melissa mccarthy embarrasses him on weekend updatewho doesnt want melissa mccarthy to be their stepmom',\n",
       " 'handmaids tale meets sex and the city in funny terrifying snl spoofoh my god this so could be me and my friends you know with the way things are going',\n",
       " 'video shows security guard choking black teen accused of shoplifting in new york“i can’t breathe” the young man yells as security guards appear to hold him down by the neck',\n",
       " 'trump praises late mom on mothers day but skips mention of melania“so much of what i’ve done and so much of what i’ve become is because of my mother i miss her a lot” he said',\n",
       " 'trump promises to help chinese company that violated us sanctions on iranzte pleaded guilty last year to conspiring to violate us sanctions by illegally shipping us goods and technology to iran',\n",
       " 'sarah huckabee sanders berated staffers over mccain leakand they leaked that too',\n",
       " 'parkland dad has pointed message for oliver north nra’s new presidentwe’re not criminal civil terrorists fred guttenberg responded to north were people with a broken heart',\n",
       " 'john bolton trump sanctions on european companies possible over iranthe national security adviser believes the us can force european nations to abandon the historic iran nuclear accord',\n",
       " 'michelle obama shares adorable throwback pic in touching mothers day tributelittle michelle',\n",
       " 'tomi lahren claims lowskilled immigrants are not what this country is based onthe fox news pundit gave a dubious history lesson to defend white house chief of staff john kelly',\n",
       " 'stalking cheetahs give oblivious family a scare when they exit car at safari parkthese people were incredibly lucky says a park spokesman',\n",
       " 'der spiegel cover portrays trump as a finger flipping off europetime to join the resistance german newsmagazine says against america',\n",
       " 'italian tribunal lifts ban on silvio berlusconi from holding public officeit could pave the way for the yearold to run for prime minister in the next national election',\n",
       " 'north korea plans to dismantle nuclear test sites by end of maypresident donald trump plans to hold a summit with north korean leader kim jong un on june',\n",
       " 'knife attack in paris leaves dead several injuredthe islamic state claimed responsibility',\n",
       " 'what to watch on hulu that’s new this weekthe movie most worth watching has a lot to say about the times we live in',\n",
       " 'what to watch on amazon prime that’s new this weekthe one movie worth seeing stars salma hayek',\n",
       " 'the late show unveils spoof line of trumpthemed mothers day giftshappy magas day',\n",
       " '‘brooklyn ninenine’ finds new tv home stars and fans rejoicefox canceled the hit comedy on thursday',\n",
       " 'will smith shares inspiring tale of how he became the fresh prince of belairit involves unpaid taxes the irs and a drunk quincy jones',\n",
       " 'lgbtq groups call new oklahoma adoption law discriminatorymultiple equal rights groups are already considering legal action',\n",
       " 'mueller reportedly investigating foreignlinked donors to trumps inauguration fundthe special counsel is looking at contributors tied to russia qatar saudi arabia and united arab emirates abc news says',\n",
       " 'stephen colbert mocks proposal to hang trump and pence portraits at post officesthe comedian has a workaround',\n",
       " 'boston dynamics robot dog may be available for sale soonsuper cool or bone chilling',\n",
       " 'southern baptist leader apologizes for past hurtful comments about womenpaige pattersons remarks about women and abuse have been causing division in southern baptist circles',\n",
       " 'george soros progressive groups to spend millions to elect reformist prosecutorsif they succeed the liberal billionaire and political action committees could change how the law is enforced in america',\n",
       " 'incredible photos that show the world we need to protecta photographer visited some of the planets most pristine places to capture images of the natural world',\n",
       " 'avengers infinity war directors reveal who died and survived off screenthe russo brothers confirm whos safe and who bit the dust',\n",
       " 'how uber silences women after sexual assaultsjust by using the app you click away your rights now some victims are fighting for change',\n",
       " 'marvel introduces their first official chinese superheroesthe collaboration leaned heavily on artists and writers from china',\n",
       " 'the big bang theory pays sweetest tribute to stephen hawking in deleted scenethe unaired clip may bring tears to your eyes',\n",
       " 'bill maher shreds donald trump likens him to a mob boss“people call this presidency a ‘reality show its more like a scorsese movie',\n",
       " 'how amazon is holding seattle hostagethe city wants to tax large corporations to pay for homeless housing but jeff bezos isnt pleased',\n",
       " 'jim carrey taunts psycho mike pence with biting new portraittheyll see and theyll know',\n",
       " 'chadwick boseman lauds student protesters in howard commencement speechthe “black panther” star also shared how his time as a howard student prepared him for challenges he faced early in his career',\n",
       " 'want to understand straight incels talk to this gay oneeriks radicalization shows that the incel phenomenon has nothing to do with sex — duh — and everything with entitlement',\n",
       " 'gathering of military spouses puts the white in white housethe military is diverse but you wouldnt know it from this white house event honoring service moms and spouses',\n",
       " 'game show host prematurely congratulates contestant in mortifying failoh no you’ve just lost',\n",
       " 'women take to cannes red carpet to protest inequality in film“women are not a minority in the world yet the current state of the industry says otherwise” said cate blanchett',\n",
       " 'men charged with hate crimes in beating of gay couplea bystander was also beaten bloody in the attack which was caught on camera',\n",
       " 'trump administration rolls back protections for transgender prison inmatesan inmate’s sex assigned at birth will now be used to make the initial decision as to where transgender prisoners are housed',\n",
       " 'michael cohen reportedly paid to advise att on time warner mergerthe telecommunications giants billion merger is currently pending approval from the justice department',\n",
       " 'metoo in the statehouse at least men are gone but the harassment culture isn’tat least state lawmakers have resigned or been expelled from their legislatures since the metoo movement started seven',\n",
       " 'austin bars police department from selling its old guns to the publicthe sponsor of the measure says the city should not be contributing to gun violence in any way',\n",
       " 'masterclass parody on dubbing over movie swear words is falcon greatsomeone has to get these movies ready for tv',\n",
       " 'democrats say they dont regret making it easier to confirm judges“it wasn’t a mistake sen jeff merkley said',\n",
       " 'donald glover did what any fan would do after being cast in sologlover plays the iconic star wars character lando calrissian',\n",
       " 'seth meyers skewers the idea of donald trump winning the nobel peace prizebut this is still the same guy who wanted to ban muslims',\n",
       " 'chuck schumer turns melania trumps be best campaign against donald trumpbe best mr president',\n",
       " 'trailer for axed tremors reboot with kevin bacon offers glimpse of what could have beendamn a preview for the rejected tv series looks like scary fun',\n",
       " 'frightened rabbit singer scott hutchison dead at the frontmans body was found in scotland a day after he was reported missing',\n",
       " 'suspect in custody after shooting at california high school injuredthe victim is in stable condition after being shot in the arm',\n",
       " 'colbert names who has the official job of unqualified white house stafferheres the reason michael cohen didnt get a gig inside pennsylvania ave',\n",
       " 'trevor noah gives michael cohen a biting new breaking badthemed nicknamehe also likened trumps personal attorney to a nigerian prince scam artist',\n",
       " 'the moral of atlanta robbin season is sometimes you get to the top by snatching others down“y’all both black so y’all both can’t afford to fail',\n",
       " 'pose character finds community in new yorks ball scenemeet angel played by transgender actress indya moore',\n",
       " 'accused golden state killer faces four additional murder countsjoseph james deangelo has now been charged in a dozen homicides',\n",
       " 'jimmy kimmel roasts donald trump with spoof nobel peace prize ceremony videothis deserves an award of its own',\n",
       " 'sarah palin says mccains regrets about her are a perpetual gutpunchsen john mccain rariz reportedly wishes hed chosen joe lieberman as his running mate',\n",
       " 'killed in what may be australias worst mass shooting since “i can only describe it as a horrific situation” a police commissioner said',\n",
       " 'deadpool and david beckham hug out feud in deadpool teaserthe funny trailer featuring ryan reynolds and the soccer great gets fans laughing before superhero sequels opening',\n",
       " '‘the opposition’ gives trump a hot lawyer of his ownhes here to make a strong case for the president',\n",
       " 'dogs may help prepare you for babies but cats help prepare you for teenagersthe most profound “shower thoughts” on reddit from the last week',\n",
       " 'john mccains wife rebukes white house official who mocked him as dying anywaythe aide reportedly tossed out the cruel remark in response to the senators opposition to the cia director nominee',\n",
       " '‘rupaul’s drag race’ queens turn back time in ‘cher the rusical’the end result — “cher the unauthorized rusical” – still needs to go straight to broadway and win all the tonys',\n",
       " 'trump administration axes funding for nasa system that monitors greenhouse gasesone scientist calls the decision to cancel the program a grave mistake',\n",
       " 'police search suspected serial killers dumping groundmichigan cops say arthur ream bragged about murdering four to six people',\n",
       " 'kevin mchale i think there was zero surprise when i came outthe “glee” star said “people knew” he was gay before his viral ariana grande tweet',\n",
       " 'a pennsylvania house race embodies the fight for the future of the democratic party“this is a race that people around the country should probably be watching closely” one strategist said',\n",
       " 'hackers tried to breach a tennessee county server on election night reportinvestigators traced ip addresses linked to the attack to foreign countries',\n",
       " 'gay teacher suspended for showing photo of future wife sues texas districtparents complained with one saying she was promoting “the lgbtq agenda”',\n",
       " 'school district allegedly made lgbtq student read bible as punishmentthe district faces a hearing to determine if the district complied with state antidiscrimination laws',\n",
       " 'trump just launched the war on christmas in may and people are so not having itapparently its that time of year already',\n",
       " 'elle fanning makes her punkmusic debut in how to talk to girls at partiesshe stars as an alien in s england alongside alex sharp and nicole kidman',\n",
       " 'jake tapper rips retired gen tom mcinerney for insulting john mccainno one calls him songbird john except for crazy people and jerks — and i’m using my language carefully here” tapper said',\n",
       " 'fox cuts ties with guest who cited john mccain to defend torturetom mcinerney previously has promoted the birther conspiracy theory against president barack obama',\n",
       " 'trumps attempt to make an example of the immigrant caravan is backfiringimmigration prosecutions are normally openandshut cases but the president’s tweets are once again undermining him in court',\n",
       " 'celebrities reading weird texts from their moms is a mothers day treateasy on the emojis',\n",
       " 'stormy daniels has an actress doppelgängeri can’t tell if that’s a compliment or not',\n",
       " 'oldest known man in america says he smokes a dozen cigars a dayrichard overton a world war ii veteran is celebrating his th birthday',\n",
       " 'tweeters erupt over trump aides cruel taunt about john mccain dying anywayyoure a disgrace apologize to the entire mccain family then resign',\n",
       " 'mark hamill weds sheldon and amy on big bang theory fans geek outdont be surprised if more dogs are named bark hamill',\n",
       " 'epa hid scott pruitts dinner with climate denier accused of child sex abusethe epa knew vatican treasurer george pell was under investigation but went ahead with the dinner during pruitts trip to italy',\n",
       " 'meghan mccain takes a swipe at white house after aide mocks her fathers cancer“it doesn’t matter he’s dying anyway” kelly sadler said of sen john mccain who is at odds with the president over his cia nominee',\n",
       " 'we need to talk about white people calling the cops on people of colortoo often white people call the police on people of color when it is unwarranted ― and such calls can end in undue violence',\n",
       " 'woman calls police on black family for bbqing at a lake in oaklandtheir crime using the wrong type of grill in a barbecuedesignated zone',\n",
       " 'tim allens last man standing is coming back just one year after being canceledsome say he has the success of roseanne to thank',\n",
       " 'joe biden berates white house over joke about john mccains healthpeople have wondered when decency would hit rock bottom with this administration it happened yesterday the former vice president said',\n",
       " 'michael avenatti warns michael cohen i still have more documents to release“we’ve got emails we’ve got text messages we’ve got other financial information',\n",
       " 'fox friends host mocks ny times isis coverage unaware it beat fox to the storywhoops',\n",
       " 'congressional candidate says fk the nra in new tv adtheir progun policies have resulted in dead children dead mothers and dead fathers says democratic congressional candidate pat davis',\n",
       " 'tsa tells sikh man to remove turban finds out hes a canadian politician“ultimately i was allowed to fly but it was because of who i was and that should not be the case” said navdeep bains',\n",
       " 'john stamos shows off new baby to bob saget and lori loughlintheir expressions say it all',\n",
       " 'woman who sent texts to first date says love is an excessive thingin one text message jacqueline ades allegedly told her date shed like to bathe in his blood',\n",
       " 'a little extortionythis guy figured out what stormy daniels old lawyer actually does — and its not prettyhow sexscandal lawyer keith davidson works the hollywood tabloid racket and muscles journalists',\n",
       " 'katie porter survived domestic abuse only to have it used against her in her campaigna nasty primary race has made the congressional candidate tell the difficult story of escaping her violent exhusband',\n",
       " 'trumps plan on prescription drug prices looks nothing like what he promisedso much for an allout assault on big pharma',\n",
       " 'giuliani says cohen never spoke with trump about his bigdollar clientsthe president’s new lead lawyer sees this as proof trump is draining the swamp',\n",
       " 'the russian troll facebook ads barely targeted swing statesfewer than percent of the ads specifically targeted a state in contention',\n",
       " 'ted cruz staff usaid met with group that called apartheid a socalled injusticeleaders of afriforum an afrikaner rights group also posed for a picture with national security adviser john bolton',\n",
       " 'how to plan a family vacation according to travel expertsif youre overwhelmed start here',\n",
       " 'boston dynamics has created a running robot and its coming for yousoon we’ll have nowhere to hide',\n",
       " 'cornell student delivers thesis in underwear after professor questions her outfita group of students defended the professor writing that she was noting the importance of professionalism',\n",
       " 'the funniest tweets from women this weekon a scale of kanye to donald glover how are you feeling today',\n",
       " 'israel reportedly fires dozens of rockets into syriathe move comes after israel accused iranian forces in syria of firing rockets into the golan heights',\n",
       " 'israel launches airstrikes in syria after iranian attacksthe airstrikes were in response to iranian forces in syria who shelled israeli army outposts across the syrian frontier',\n",
       " 'righttodie advocate david goodall ends life listening to ode to joythe australian scientist and botanist died at an assisteddying clinic in switzerland',\n",
       " 'americans held by north korea return to the united stateswe thank god and all our families and friends who prayed for us and for our return',\n",
       " 'dozens dead after torrential rains cause dam to burst in kenyathe floodwaters swept away power lines homes and buildings including a primary school',\n",
       " 'spotify stops promoting r kellys music after sexual assault allegationsits unclear how the music streaming services new policy on “hate content and hateful conduct will affect other artists music',\n",
       " 'trump and kim jong un likely to meet next month in singaporethe president is expected to reveal details of the meeting with the north korean leader in three days',\n",
       " 'homeland security denies report that secretary drafted resignation letterthe new york times says trump berated kirstjen nielsens ability to secure the border',\n",
       " 'cecile richards on running for office in the future never say neverthere’s no reason to foreclose things the former planned parenthood president told refinery',\n",
       " 'aclu says kris kobach is still giving out incorrect information about voter registrationinformation on kobachs website misleadingly suggests that everyone in kansas needs to prove theyre a citizen when they register to vote',\n",
       " 'ryan murphy to donate all pose profits to trans queer groupsthe writerproducer vowed to ensure the shows inclusivity extends beyond diverse casting',\n",
       " 'rick and morty renewed for a whopping more episodesooh wee',\n",
       " 'ryan reynolds warns deadpool fans dont say a fking wordwade wilson isnt playing',\n",
       " 'nurse charged in death of extrump adviser hr mcmasters fatherchristann shyvin gainey was arrested after the yearold died of a head injury at a nursing home last month',\n",
       " 'trump is going to indiana to slam joe donnelly don’t expect the democrat to hit backthe vulnerable incumbent will criticize the gop tax law and mitch mcconnell instead',\n",
       " 'rick moranis to appear on netflix sctv documentarythe actor has kept out of the spotlight since the late ’s',\n",
       " 'facing challenge from the right gop lawmaker pulls support for immigration billrep martha mcsally of arizona is running in a senate primary against conservative favorites kelli ward and joe arpaio',\n",
       " 'john mccain urges senate to reject gina haspels nomination for ciai believe the senate should exercise its duty of advice and consent and reject this nomination the arizona republican said',\n",
       " 'months later rio cops are supposedly closing in on marielle franco’s killersthey say an investigation into the murder of the black queer rio city councilwoman is on the right path it may lead back to police',\n",
       " 'why queer eye star tan france doesnt give poorlydressed fans style adviceeven if it’s still “difficult” for him he doesn’t show it',\n",
       " 'the women are coming for eric schneidermans jobwomen are running for attorney general posts all over the country',\n",
       " 'man pleads guilty to bacon vandalism of tennessee islamic centercharles dwight stout iii admitted to vandalizing the islamic center of murfreesboro with graffiti and strips of bacon',\n",
       " 'mike pence to robert mueller on russia probe wrap it upwhy does mike pence want to kill this investigation” asked joe scarborough',\n",
       " 'are you ready for an older kevin on this is us justin hartley isthe actor speculates about an older version of his character and teases whats ahead in the romance department',\n",
       " 'net neutrality rules will end in june fcc saysthe us senate plans to vote next week on whether to reject the fccs repeal of the obamaera rules',\n",
       " 'democratic candidate for maryland governor dies of cardiac arrestkevin kamenetz was a twoterm baltimore county executive husband and father of two sons',\n",
       " 'officer puts man in chokehold outside a north carolina waffle housea yearolds violent arrest is once again prompting questions about the police',\n",
       " 'trevor noah cant get enough of don blankenships nutty concession speecheven in defeat this man was tv gold',\n",
       " '‘brooklyn ninenine’ has been canceled and twitter mournsthis is no laughing matter',\n",
       " 'the quiet struggle between chuck schumer and the lefta pending appointment marks a truce in an ongoing saga',\n",
       " 'gabby douglas is utterly unrecognizable on undercover bossthe olympic gymnast is transformed into a middleaged office manager',\n",
       " 'girls and accused of plotting to kill classmatethis is not something we commonly see a cop said',\n",
       " 'the curious case of the russian oligarch and national park service latrinesa crappy situation involving a putin crony trump sanctions and the bathrooms of a government building',\n",
       " 'watch rudy giuliani completely torpedo rudy giulianis trump arguments“you gotta do it i’m mean you don’t have a choice”',\n",
       " 'fox business guest defends torture it worked on john mccainthats why they call him songbird john',\n",
       " 'tom and abby from ‘queer eye’ remarried each otherredneck margaritas all around 💕',\n",
       " 'pakistan passes historic transgender rights billits not only unprecedented in pakistani history but its one of the most progressive laws in the whole world',\n",
       " 'phil mudd flips out over questions about cia torture we didnt do it america did itthe cnn analyst and former cia official also blamed congress and the doj for the agencys defunct torture program',\n",
       " 'here are those facebook ads that house dems say russia ran during the electionthe house released all of the ads on thursday',\n",
       " 'kim kardashian says tristan thompson blocked her after she defended khloethe reality tv star is however still rooting for the couple',\n",
       " 'kenan thompson says hell stay on snl for as long as possibleat years hes the longestrunning cast member',\n",
       " 'jennifer garner has mom problems in hilarious rap video on ellenwell take a full album please',\n",
       " 'dick cheney suggests restarting torture interrogation programcheneys comments come as lawmakers have scrutinized cia director nominee gina haspel for her role in overseeing the controversial program',\n",
       " 'greta gerwig loudly critiqued ‘i feel pretty’ and a moviegoer live tweeted itthe “ladybird” director seemed to have a blast watching the amy schumer flick in an almost empty theater',\n",
       " 'devin nunes gets meeting on secret russia probe source after threatening dojthe republican congressman has proposed impeaching two doj leaders and holding a third in contempt',\n",
       " 'queer eye star karamo brown engaged to director ian jordanhe popped the question surrounded by his queer eye family',\n",
       " 'jet just launched its own apple store with some incredible dealsif you’re on a time crunch to find a perfect mother’s day gift that’ll still arrive on time it’s your lucky day amazon',\n",
       " 'tom hardy is completely unrecognizable as al capone for new movietom hardy is an actor known for physical transformations be it sporting tribal tattoos for fx’s “taboo” developing a strapping',\n",
       " 'woman alleges rapper young lo raped her while she was trapped in chris browns homeprominent attorney gloria allred is representing the unidentified plaintiff',\n",
       " 'republicans fill court seat they denied to obama for yearsron johnson and mitch mcconnell did whatever it took to hold the lifetime seat open for a gop president to fill',\n",
       " 'sc man wanted white supremacists to kill black neighbor burn cross in his yard fbibrandon lecroy was indicted by a grand jury on charges of murder for hire',\n",
       " 'trump announces details of meeting with kim jong untrump will meet with kim jong un on june in singapore',\n",
       " 'samantha bee delivers blistering takedown of former ny ag eric schneidermaneric schneiderman you are trash and we do not need you',\n",
       " 'jim carrey’s scathing portrait of trump as the joker will give you nightmarestheres even a code hidden within the painting',\n",
       " 'michelle wolf renews hostilities with sarah huckabee sandersevery single person loved it',\n",
       " 'fans erupt over fate of elias koteas olinsky on chicago pdthe season finale was a shocker',\n",
       " 'people on the street apologize to their old teachers on jimmy kimmel livethey still deserve detention',\n",
       " 'stephen colbert does some porn star math for michael cohen and donald trumpthe late show host runs the numbers',\n",
       " 'this pollen bomb is every allergy sufferers worst nightmareachoo',\n",
       " 'jennifer lopez dances to least danceable songs on the tonight showso awkward so fun',\n",
       " 'white yale student calls cops on black schoolmate napping in dorm common room“i pay tuition like everybody else lolade siyonbola an african studies graduate student told police i’m not going to justify my existence here”',\n",
       " 'rudy giuliani quits law firm after wild week of interviewspartners at the law firm reportedly were displeased at giulianis suggestion that payoffs like michael cohens deal with stormy daniels were common practice',\n",
       " 'teddy geiger makes first public appearance since coming out as transgenderthe singersongwriter received much love on social media for walking the red carpet',\n",
       " 'ariana grande and mac miller reportedly break upthe reason may sound familiar',\n",
       " 'avengers leaks get support from a yearold interview with marvel directorsdid an old interview question hint at a future captain americarelated plot twist maybe',\n",
       " 'there’s no good excuse for the racist impact of michigan’s medicaid proposalthe plans architects say they didnt mean to disadvantage black cities but they had easy ways not to',\n",
       " 'here are all fcc complaints about the minutes interview with stormy daniels“well the kakahas hit the fan now”',\n",
       " 'americans jailed in n korea are home but trump may have made others situation worsefor americans behind bars in iran egypt turkey and elsewhere homecoming ceremonies appear to be a long way off',\n",
       " 'alex strangelove is a gay teen comedy that doesnt turn away from sexthe netflix movie finds a teen caught between a girlfriend and a boy crush',\n",
       " 'woman says she took home kittens only to find out they were bobcatsbut the finder has raised questions by changing her story about where the cats came from',\n",
       " 'video of bear eating ice cream at dairy queen leads to charges for zoo ownerswe made a mistake',\n",
       " 'iranian lawmakers mock trumps mental capacity burn us flag after us pulls out of nuke dealtrumps decision to withdraw the us from the iran nuclear deal did not receive a positive reception from iranian lawmakers',\n",
       " 'europeans scramble to save iran deal after trump withdraws“the deal is not dead there’s an american withdrawal from the deal but the deal is still there',\n",
       " 'north korea releases american political prisoners in advance of historic summitsecretary of state mike pompeo departed north korea with the three americans',\n",
       " 'establishment gop notches win in ohio primary for vacant house seatohio state sen troy balderson now will face a democrat in an aug special election',\n",
       " 'eric schneiderman praised me too movement days before abuse allegations emergedwnyc has released an interview conducted last week that host alec baldwin says is now difficult listening',\n",
       " 'trevor noah unloads on supposed advocate for women eric schneidermani thought i had heard it all but this guy',\n",
       " 'a year after comeys firing scope of mueller probe expands to lawyers shell companymillions of dollars flowed into a dummy corporation used by michael cohen to pay for a porn stars silence',\n",
       " 'trumpinspired businessman wins indiana’s gop senate primaryhe defeated two congressmen and will challenge democratic sen joe donnelly in november',\n",
       " 'gop rival says tammy baldwin is on ‘team terrorists’ for her silence on trump cia pickthe democratic senator would rather give terrorists hugs and safe spaces than take adequate action to protect america state sen leah vukmir wis said',\n",
       " 'this jobs program just might get people back to worka mix of enforcement and assistance gets people off unemployment benefits and back to work faster research suggests',\n",
       " 'jim parsons yes we still need more queer stories onscreenhe also opened up about his new role in the boys in the band on broadway',\n",
       " 'trump accuser wins democratic nomination for ohio legislaturerachel crooks says trump forcibly kissed her in the trump tower lobby in',\n",
       " 'mastermind waterboarded by cia has information to share about gina haspelkhalid sheikh mohammed is seeking permission to provide information to senators about the controversial cia director nominee',\n",
       " 'conservative senate democrat who backs trump’s agenda defeats progressive challengersen joe manchin of west virginia has voted with trump percent of the time',\n",
       " 'taylor swift mightve made up with katy perry but her kimye feud lives onthe shade was real at the opening night of her reputation tour',\n",
       " 'kim kardashian to make history with fashion council’s first influencer awardcongrats kim',\n",
       " 'nbc says it believes matt lauers accusers after monthslong investigationthe company says nbc leaders didnt know about their star anchors misconduct',\n",
       " 'russians had ability to change voter data but didn’t report saysthough hackers had access to voter registration data they did not appear to be able to change individual votes or vote totals',\n",
       " 'elizabeth warren’s pick wins ohios democratic gubernatorial primarydemocrat richard cordray will face republican mike dewine in november',\n",
       " 'kkk leader found guilty of firing gun at charlottesville rallyvideo captured him shooting at the feet of a black counterprotester',\n",
       " 'protesters decrying torture dragged from gina haspel senate hearingdemonstrators gathered inside and outside the building for the cia nominees confirmation hearing',\n",
       " 'att hired firm linked to michael cohen to get the inside scoop on trumpthe arrangement illustrates efforts by the telecom to work with an influential adviser to the new president as his administration took up major industry issues',\n",
       " 'the rnc is selling sickening donald trumpthemed merch ahead of mothers daydoes the back say turning back a century on womens rights',\n",
       " 'don blankenships defeat is a relief to the families of upper big branch minersfor the first time in years i feel like dancing',\n",
       " 'colbert shreds trump over broken promises what are you talking about“you literally just backed out of an american promise',\n",
       " 'new us ambassador to germany offends hosts just hours into his first dayrichard grenell a trump ally and former fox news commentator has a history of stirring controversy on social media',\n",
       " 'jordan peeles new nightmare is coming out next yearthe film us will hit theaters next march',\n",
       " 'the backstreet boys dressed as the spice girls are larger than lifethey even sang some of the spice girls best hits',\n",
       " 'seth meyers decodes teen slang reveals what ‘giuliani’ really meansthe former new york mayor probably wont like this definition',\n",
       " 'heres a look at orlandos interim pulse nightclub memoriala temporary monument to the victims of the mass shooting was unveiled tuesday',\n",
       " 'trevor noah turns donald trumps knives comment into reggae magichearing is believing',\n",
       " 'senators force a vote that may ultimately reverse fcc restore net neutralityif the effort makes it through the chamber tougher battles await',\n",
       " 'ny legislature has plan in place to consider replacements for eric schneidermana bipartisan committee will look at successors for the state attorney general who has resigned in disgrace its recommendations might not mean much though',\n",
       " 'more than former ambassadors write letter opposing gina haspel nominationtrumps pick for cia director oversaw a black site in thailand where at least one detainee was reportedly tortured',\n",
       " 'california authority says states new homes must be solar poweredthis will be the first state mandate of its kind',\n",
       " 'ny governor assigns investigation into eric schneiderman abuse allegationsa special prosecutor will look into claims that the former attorney general physically abused at least four women',\n",
       " 'how the refugee caravan became a scapegoat for trump’s border crackdownthere’s no horde of invading people using fraud to game the asylum system',\n",
       " 'pennsylvania becomes latest state to fund urban gun violence preventionjust seven states directly invest in programs designed to address shootings in cities but that movement may be growing',\n",
       " 'denver mayors son caught on tape berating cop as a faggotmayor michael b hancock said his sons response during a traffic stop was inexcusable',\n",
       " 'progressive prosecutors win primaries in north carolinaprogressives spent millions to challenge local prosecutors around the country who are maintaining the status quo',\n",
       " 'what did att and novartis get for the money they paid trumps lawyerthe most innocent explanation of the payments to michael cohens llc is still pretty sketchy',\n",
       " 'the hypocrisy of melania trumps online safety booklet pointed out page by pagethe daily show analyzed how president donald trumps tweets stacked up against his wifes goal of promoting safety online',\n",
       " 'the uninsured rate is worsening after years of obamacares gainstrumps sabotage of obamacare seems to be having predictable consequences',\n",
       " 'bernie sanders has a plan to revive labor unionsthe senator tells huffpost its time to ban righttowork laws and make it easier to unionize',\n",
       " 'jim carrey bestows scott pruitt with a savage nickname in latest paintingepa takes on a whole new meaning',\n",
       " 'when male allies become abusersa psychologist explains why men who advocate for womens rights can be abusive in their private lives',\n",
       " 'mormon church to end its centurylong relationship with the boy scoutscub scout and boy scout programs serve about mormon youth in the united states',\n",
       " 'our snack addiction is killing orangutansmeet the woman trying to save them',\n",
       " 'trumps pick for cia director wont say torture program was morally wronggina haspel pledged not to revive the spy agencys interrogation operation — but she wouldnt condemn it',\n",
       " 'anderson cooper burns moronic michael cohen over russia cash claimscnn host says it doesnt look good for trumps personal attorney',\n",
       " 'pinata maker apologizes for hanging black figures in the likeness of lynchings“it just brought back memories from slavery” a neighbor said',\n",
       " 'the caliphate of trump and a planet in ruinsextremists r us',\n",
       " 'a gay marriage opponent just ousted a gop incumbent in north carolinademocrats are targeting the seat and a former marine is their candidate',\n",
       " 'espn eliminates public editor role calling it outdatedas media distrust grows another outlet drops its liaison between the public and the newsroom',\n",
       " 'michael cohen was selling access to trump says group that paid into his shell companycorporations were looking to get closer to the new administration and trumps lawyer offered to help',\n",
       " 'mitch mcconnell mocks blankenship on twitter with a big cloud of cocainemcconnells official campaign account trolls west virginia gop primary loser',\n",
       " 'exconvict don blankenship loses to patrick morrisey in west virginia senate racerepublican morrisey will face sen joe manchin a conservative democrat who has voted for the presidents agenda percent of the time',\n",
       " 'ohio voters pass gerrymandering reform measurethe ohio plan had overwhelming bipartisan support in the state legislature when lawmakers approved it for the may ballot',\n",
       " 'trumps iran deal exit is a win for russiaits a striking example of the president again making a move condemned by us allies but likely to help vladimir putin',\n",
       " 'cynthia nixon wants new yorkers to vote for the homo not for the cuomonixon also quipped that cuomo should come out of the closet and admit hes a republican',\n",
       " 'ontario canada just issued its first nonbinary birth certificatethe new policy aims to “recognize and respect” the province’s trans and nonbinary community',\n",
       " 'child sexual predator roman polanski calls me too movement total hypocrisythe director argued that people are embracing me too chiefly out of fear',\n",
       " 'this is america producer reveals new details about childish gambinos viral videoour goal is to normalize blackness',\n",
       " 'terry crews black men aren’t allowed to be victims until they’re deadthe actor spoke to huffpost about being a sexual assault survivor and deprogramming toxic masculinity',\n",
       " 'donald glovers this is america through the eyes of a jim crow historianevery now and again a racial incident or an expression of art makes us pause and reflect but we soon return to dancing',\n",
       " 'fox news judicial analyst issues dark warning to trump over michael cohenmr president please be wary of all of this andrew napolitano said',\n",
       " 'black women bishops are making history in this predominantly white church“change has come because people of color will be at the table said bishopelect patricia a davenport',\n",
       " 'geena davis and th husband reza jarrahy are divorcingthe surgeon cited irreconcilable differences with the thelma louise star',\n",
       " 'pauley perrettes abby has heartwrenching farewell on ncisgoodbye goth genius',\n",
       " 'lethal weapon fires clayne crawford and his character gets shotyou cant fire me on my day off the actor cried on twitter',\n",
       " 'selena gomez pokes fun at her met gala spray tan mishapthe actress stepped out on the red carpet looking a bit orange',\n",
       " 'protest leader nikol pashinian elected prime minister of armenialast week a majority of lawmakers rejected his candidacy',\n",
       " 'kim jong un secretly met with xi jinping againpresident trump is set to meet with kim sometime in the next few weeks',\n",
       " 'netanyahus bombastic iran claims found a perfect audience in trumplast months iran lied presentation went over better than the bibi bomb',\n",
       " 'netanyahus chef blasted for serving japans prime minister dessert in a shoethe unconventional serving dish was criticized as offensive and in poor taste',\n",
       " 'world leaders condemn trump for withdrawing from iran nuclear dealfrance the uk and germany had attempted a lastditch push to get trump to change his mind in recent weeks',\n",
       " 'senate republicans shun don blankenship on day of west virginia primary“i just don’t see a scenario where that’s a positive projection of the gop brand sen thom tillis rnc said',\n",
       " 'new yorks harvey weinstein probe set to continue despite attorney generals exit“it’s not about eric schneiderman it is about a much larger movement to ensure accountability and that is beyond the power of eric schneiderman to impugn”',\n",
       " 'trump to announce whether us will break the iran nuclear dealus allies france germany and britain have all made overtures to persuade trump to stay in the pact',\n",
       " 'politicians call for schneiderman to resign over physical abuse allegationsin a new yorker article four women accused schneiderman of physical abuse including slapping and choking them',\n",
       " 'joe scarborough trumps legal strategy is like a monkey throwing poo against the wallit doesnt usually turn out well the msnbc host said of feces flinging',\n",
       " 'kirsten dunst and jesse plemons welcome baby boyits the first for the spiderman star and fiance jesse plemons',\n",
       " 'holy matrimony there was a proposal at the met gala chainz proposed to his lady love kesha ward again',\n",
       " 'nordstrom rack president apologizes after store accuses three black men of theftthe trio were met with police in the parking lot when they left the store after making a purchase',\n",
       " 'giuliani says trump lawyer michael cohen has no incriminating information about the presidentthe newest member of trump’s legal team in the russia probe says he feels bad for cohen and paul manafort because of the “storm trooper tactics” used against them',\n",
       " 'lena waithe stuns at met gala as a queer superhero“this is like my skin i’m proud to be in it” she said of her rainbow cape',\n",
       " 'r kelly accusers say they had to ask permission to use the bathroomand when they did the women said he demanded they call him daddy',\n",
       " 'trump reportedly tells macron hes pulling out of iran nuclear dealfrance the uk and germany have been working with the trump administration in recent weeks in an attempt to change the presidents mind',\n",
       " 'how the deportation crackdown is hurting immigrant victims of crimeimmigrants are less willing to report crimes or go to court because they fear they’ll be deported according to a survey',\n",
       " 'seth meyers says michael cohen tried to get him to apologize onair to trumpthe effort stemmed from meyers roasting of trump at the white house correspondents dinner',\n",
       " 'blessing you with the best met gala tweetscelebs did not disappoint with this years catholic imagination theme and neither did twitter',\n",
       " 'farm bill would cut food stamps is friendly to farmersthe gop bill would lower income limits for some snap recipients and raise them for certain agricultural subsidies',\n",
       " 'what to know about the iran nuclear deala guide to the international agreement that donald trump has plunged into crisis',\n",
       " 'derby day bet wins thrilled texas woman millionit was like a minilotto says the pick winner',\n",
       " 'democratic meddling in west virginia and other things to watch this election daynorth carolina west virginia indiana and ohio all have highprofile primary fights',\n",
       " 'cynthia erivos met gala nails featured a sistine chapel painting with black womencynthia erivo went to nicki minajs manicurist and the results are divine',\n",
       " 'keanu reeves and alex winter are coming back for ‘bill ted after yearsmost excellent news',\n",
       " 'solanges durag was the true mvp at the met galathe artists outfit was a reminder that black bodies are indeed heavenly',\n",
       " 'top house republican threatens to subpoena trump doj official over census citizenship request“he’s coming to talk at some point or another whether he wants to or not said rep trey gowdy rsc',\n",
       " 'jimmy kimmel tries so hard to make sense of rudys latest trump defense then gives uphe even brought out a chalkboard for help',\n",
       " 'the religious imagery stitched throughout the met galasome celebrities nods to the religious theme were obvious others needed a closer look',\n",
       " 'bob marleys granddaughter says cops racially profiled her while checking out of airbnba police sergeant on the scene denied even knowing what airbnb was',\n",
       " 'melania trump called out for antibullying campaign that ignores her husbands actionsthe first ladys new initiative seems to be missing something',\n",
       " 'trevor noah watching rudy giuliani is like smoking weed through the tvthe daily show host was baffled by giulianis many explanations for revealing the presidents actions in the stormy daniels case',\n",
       " 'janet jackson to receive icon award at billboard music awardsits about damn time',\n",
       " 'white house prepares to send congress billion spending cuts packagethe republican version of fiscal conservatism is to increase the deficit by hundreds of billions and then propose billion in cuts',\n",
       " 'this jared kushnerbacked bill could be s last shot at federal prison reformthe presidents soninlaw has been a driving force of the legislation which focuses on the reentry of federal prisoners many say it doesnt go far enough',\n",
       " 'george zimmerman accused of stalking detective working on trayvon martin filmzimmerman appeared to threaten to feed the investigator to an alligator',\n",
       " 'passengers lashing out at scott pruitt justify firstclass travel new epa memo saysthousands of newly released epa documents show the agency went to great lengths to shield the embattled administrator from encounters with the public',\n",
       " 'this trump country house district just became a key progressive battlegroundliz watson’s victory in southern indiana will test the appeal of liberal populism in november',\n",
       " 'mike pences brother wins primary race for vice presidents former house seatgreg pence a former marine with no previous political experience has campaigned on much the same agenda as his younger brother',\n",
       " 'marines investigating avowed white supremacist on active dutya yearold marine has been linked to violent assaults in the deadly charlottesville rally',\n",
       " 'trump to violate iran nuclear deal vows to reimpose sanctionsthe move puts the future of the international agreement in crisis',\n",
       " 'us olympic committee ignored sexual abuse complaints against taekwondo stars lawsuitover women have accused jean and steven lopez of sexual misconduct',\n",
       " 'blake lively brought her family to the met gala without you even noticingits all in the details',\n",
       " 'bill o’reilly offers to stand next to sarah sanders to handle ‘out of line’ reportersi will tell them exactly what i think of their behavior',\n",
       " 'catholic priest praised as best dressed dude at met gala for just living his liferev james martin a jesuit priest and author took the comments in stride',\n",
       " 'jimmy kimmel says hideandseek genius dog will heal our nationwe so want a pooch like that',\n",
       " 'bank of america appears to flip on firearm promise with loan to remingtonthe bank pledged in april to stop financing companies that sell militarystyle firearms to civilians remington made the bushmaster rifle used in the sandy hook school massacre',\n",
       " 'the gentleman caller presents queer icons as youve never seen them beforethe new play depicts tennessee williams and william inge as sexually charged and nonwhite rivals',\n",
       " 'eric schneiderman has always been a con manthe man liberals loved was a myth',\n",
       " 'christiane amanpour heading up new pbs show replacing charlie roseshes the latest woman to replace a man disgraced by sexual misconduct allegations',\n",
       " 'madonna teases new song at surprise met gala performancejust like a prayer indeed',\n",
       " 'iron man black widow captain america thor and hawkeye got matching tattoosthe hulk did not want to partake',\n",
       " 'michael cohen accepted from firm tied to russian oligarch reportsrobert mueller has reportedly interviewed the russian oligarch about the payments to trumps lawyer',\n",
       " 'stephen colbert hits rudy giuliani with a brutal fact checklate show offers up a lesson in fact vs opinion',\n",
       " 'katy perry sends olive branch to taylor swift and the world rejoicesnow they dont have bad blood',\n",
       " 'jada pinkett smith gets real about dating will smith while he was marriedthe girls trip star sat down with will smiths exwife for a candid conversation',\n",
       " 'whoops mark hamill just spilled the beans on a major cameo in han solo moviehe probably wasnt supposed to say that',\n",
       " 'shawn mendes sweetly attended to hailey baldwins gown at the met galathe musician made sure — multiple times — that his date’s gorgeous dress looked flawless on the red carpet 💕',\n",
       " 'orrin hatch is sorry he suggested trump should be allowed at john mccains funeral“i felt like i shouldn’t have said what i said” the senator said',\n",
       " 'seth meyers has perfect line to confront donald trumps liescall it a memory refresher',\n",
       " 'police hope to use dna to catch the zodiac killerwe could finally have answers to one of the greatest whodunits of all time a criminologist said',\n",
       " 'lili reinhart and cole sprouse finally make couple debut at met galariverdale prom',\n",
       " 'how sweetbitter captures the grit and glamour of the restaurant worldthe starz adaptation of stephanie danlers novel immerses us in the sexual racial and personal politics of the kitchen',\n",
       " 'mitch mcconnell bends the rules again to confirm trumps judgeshe is going around democratic sen tammy baldwin to put michael brennan into a lifetime court seat in her state',\n",
       " 'ryan zinke and the tale of two fishthe secretary’s push to reshape the interior department won’t cut the number of agencies that oversee fishladen streams',\n",
       " 'ny attorney general eric schneiderman resigns amid abuse allegationsin one instance the politician reportedly threatened a partner “if you ever left me i’d kill you”',\n",
       " '‘sanctuary cities’ are working in the trump era but at a surprising costfederal immigration officials say that in sanctuary cities they have little choice but to carry out enforcement activities in neighborhoods and other community locations even though it is not an efficient use of their time or resources',\n",
       " 'shepard smith you cant say trump pulled out of iran deal he made decision to violate it‘pulling out’ is a bit of a misnomer the fox news host said',\n",
       " 'stormy daniels finds a crunchy new way to chip away at trumporange you intrigued',\n",
       " 'these rainbow mountains in peru look like they’re straight out of a dr seuss booksometimes we can’t help but wonder if mother nature specifically designed some places just for instagram',\n",
       " ...]"
      ]
     },
     "execution_count": 45,
     "metadata": {},
     "output_type": "execute_result"
    }
   ],
   "source": [
    "texts"
   ]
  },
  {
   "cell_type": "code",
   "execution_count": 46,
   "metadata": {},
   "outputs": [
    {
     "data": {
      "image/png": "[encoded data removed]",
      "text/plain": [
       "<Figure size 1152x576 with 1 Axes>"
      ]
     },
     "metadata": {
      "needs_background": "light"
     },
     "output_type": "display_data"
    }
   ],
   "source": [
    "plt.figure(figsize=(16,8)) # tamaño del plot\n",
    "texts_lengths = [len(x.split()) for x in texts]\n",
    "texts_lengths = [x for x in texts_lengths if x < 50]\n",
    "plt.hist(texts_lengths, bins=25)\n",
    "plt.title(\"Histograma del número de palabras por frase\")\n",
    "plt.show()"
   ]
  },
  {
   "cell_type": "code",
   "execution_count": 47,
   "metadata": {},
   "outputs": [],
   "source": [
    "sentence_size = 48\n",
    "min_word_freq = 3"
   ]
  },
  {
   "cell_type": "code",
   "execution_count": 48,
   "metadata": {},
   "outputs": [
    {
     "name": "stdout",
     "output_type": "stream",
     "text": [
      "WARNING:tensorflow:From <ipython-input-48-1c35fd779a57>:1: VocabularyProcessor.__init__ (from tensorflow.contrib.learn.python.learn.preprocessing.text) is deprecated and will be removed in a future version.\n",
      "Instructions for updating:\n",
      "Please use tensorflow/transform or tf.data.\n",
      "WARNING:tensorflow:From /home/oscar/anaconda3/lib/python3.7/site-packages/tensorflow/contrib/learn/python/learn/preprocessing/text.py:154: CategoricalVocabulary.__init__ (from tensorflow.contrib.learn.python.learn.preprocessing.categorical_vocabulary) is deprecated and will be removed in a future version.\n",
      "Instructions for updating:\n",
      "Please use tensorflow/transform or tf.data.\n",
      "WARNING:tensorflow:From /home/oscar/anaconda3/lib/python3.7/site-packages/tensorflow/contrib/learn/python/learn/preprocessing/text.py:170: tokenizer (from tensorflow.contrib.learn.python.learn.preprocessing.text) is deprecated and will be removed in a future version.\n",
      "Instructions for updating:\n",
      "Please use tensorflow/transform or tf.data.\n"
     ]
    }
   ],
   "source": [
    "vocab_processor = learn.preprocessing.VocabularyProcessor(sentence_size, min_frequency=min_word_freq)\n",
    "vocab_processor.fit_transform(texts)\n",
    "transformed_texts = np.array([x for x in vocab_processor.transform(texts)])\n",
    "embedding_size = len(np.unique(transformed_texts))"
   ]
  },
  {
   "cell_type": "code",
   "execution_count": 49,
   "metadata": {},
   "outputs": [
    {
     "data": {
      "text/plain": [
       "41732"
      ]
     },
     "execution_count": 49,
     "metadata": {},
     "output_type": "execute_result"
    }
   ],
   "source": [
    "embedding_size"
   ]
  },
  {
   "cell_type": "code",
   "execution_count": 50,
   "metadata": {},
   "outputs": [
    {
     "data": {
      "text/plain": [
       "array([[   79,    72,  1210, ...,     0,     0,     0],\n",
       "       [   40,  1513,  2713, ...,     0,     0,     0],\n",
       "       [ 5744,  5063,  7453, ...,     0,     0,     0],\n",
       "       ...,\n",
       "       [ 4045,    73,  4914, ...,     0,     0,     0],\n",
       "       [29305,  1513,   991, ...,     0,     0,     0],\n",
       "       [15718,  4478,  3415, ...,     0,     0,     0]])"
      ]
     },
     "execution_count": 50,
     "metadata": {},
     "output_type": "execute_result"
    }
   ],
   "source": [
    "transformed_texts # texto como bag of words"
   ]
  },
  {
   "cell_type": "code",
   "execution_count": 51,
   "metadata": {},
   "outputs": [],
   "source": [
    "category_text = np.array(df_class_joint.category)"
   ]
  },
  {
   "cell_type": "code",
   "execution_count": 52,
   "metadata": {},
   "outputs": [
    {
     "data": {
      "text/plain": [
       "array(['CRIME', 'ENTERTAINMENT', 'ENTERTAINMENT', ..., 'SPORTS', 'SPORTS',\n",
       "       'SPORTS'], dtype=object)"
      ]
     },
     "execution_count": 52,
     "metadata": {},
     "output_type": "execute_result"
    }
   ],
   "source": [
    "category_text"
   ]
  },
  {
   "cell_type": "code",
   "execution_count": 53,
   "metadata": {},
   "outputs": [
    {
     "name": "stderr",
     "output_type": "stream",
     "text": [
      "/home/oscar/anaconda3/lib/python3.7/site-packages/sklearn/preprocessing/_encoders.py:368: FutureWarning: The handling of integer data will change in version 0.22. Currently, the categories are determined based on the range [0, max(values)], while in the future they will be determined based on the unique values.\n",
      "If you want the future behaviour and silence this warning, you can specify \"categories='auto'\".\n",
      "In case you used a LabelEncoder before this OneHotEncoder to convert the categories to integers, then you can now use the OneHotEncoder directly.\n",
      "  warnings.warn(msg, FutureWarning)\n"
     ]
    }
   ],
   "source": [
    "# integer encode\n",
    "label_encoder = LabelEncoder()\n",
    "integer_encoded = label_encoder.fit_transform(category_text)\n",
    "\n",
    "# binary encode\n",
    "onehot_encoder = OneHotEncoder(sparse=False)\n",
    "integer_encoded = integer_encoded.reshape(len(integer_encoded), 1)\n",
    "target = onehot_encoder.fit_transform(integer_encoded)"
   ]
  },
  {
   "cell_type": "code",
   "execution_count": 54,
   "metadata": {},
   "outputs": [
    {
     "data": {
      "text/plain": [
       "array([6])"
      ]
     },
     "execution_count": 54,
     "metadata": {},
     "output_type": "execute_result"
    }
   ],
   "source": [
    "integer_encoded[0]"
   ]
  },
  {
   "cell_type": "code",
   "execution_count": 55,
   "metadata": {},
   "outputs": [
    {
     "data": {
      "text/plain": [
       "array(['ARTS', 'ARTS & CULTURE', 'BLACK VOICES', 'BUSINESS', 'COLLEGE',\n",
       "       'COMEDY', 'CRIME', 'CULTURE & ARTS', 'DIVORCE', 'EDUCATION',\n",
       "       'ENTERTAINMENT', 'ENVIRONMENT', 'FIFTY', 'FOOD & DRINK',\n",
       "       'GOOD NEWS', 'GREEN', 'HEALTHY LIVING', 'HOME & LIVING', 'IMPACT',\n",
       "       'LATINO VOICES', 'MEDIA', 'MONEY', 'PARENTING', 'PARENTS',\n",
       "       'POLITICS', 'QUEER VOICES', 'RELIGION', 'SCIENCE', 'SPORTS',\n",
       "       'STYLE', 'STYLE & BEAUTY', 'TASTE', 'TECH', 'THE WORLDPOST',\n",
       "       'TRAVEL', 'WEDDINGS', 'WEIRD NEWS', 'WELLNESS', 'WOMEN',\n",
       "       'WORLD NEWS', 'WORLDPOST'], dtype=object)"
      ]
     },
     "execution_count": 55,
     "metadata": {},
     "output_type": "execute_result"
    }
   ],
   "source": [
    "label_encoder.classes_"
   ]
  },
  {
   "cell_type": "code",
   "execution_count": 56,
   "metadata": {},
   "outputs": [
    {
     "data": {
      "text/plain": [
       "array([0., 0., 0., 0., 0., 0., 1., 0., 0., 0., 0., 0., 0., 0., 0., 0., 0.,\n",
       "       0., 0., 0., 0., 0., 0., 0., 0., 0., 0., 0., 0., 0., 0., 0., 0., 0.,\n",
       "       0., 0., 0., 0., 0., 0., 0.])"
      ]
     },
     "execution_count": 56,
     "metadata": {},
     "output_type": "execute_result"
    }
   ],
   "source": [
    "target[0] # categorias como one hot"
   ]
  },
  {
   "cell_type": "markdown",
   "metadata": {},
   "source": [
    "### Partición de los datos"
   ]
  },
  {
   "cell_type": "code",
   "execution_count": 57,
   "metadata": {},
   "outputs": [
    {
     "ename": "KeyboardInterrupt",
     "evalue": "",
     "output_type": "error",
     "traceback": [
      "\u001b[0;31m---------------------------------------------------------------------------\u001b[0m",
      "\u001b[0;31mKeyboardInterrupt\u001b[0m                         Traceback (most recent call last)",
      "\u001b[0;32m<ipython-input-57-9a25c7282a70>\u001b[0m in \u001b[0;36m<module>\u001b[0;34m\u001b[0m\n\u001b[1;32m      3\u001b[0m \u001b[0;34m\u001b[0m\u001b[0m\n\u001b[1;32m      4\u001b[0m \u001b[0mtexts_train\u001b[0m \u001b[0;34m=\u001b[0m \u001b[0;34m[\u001b[0m\u001b[0mx\u001b[0m \u001b[0;32mfor\u001b[0m \u001b[0mix\u001b[0m\u001b[0;34m,\u001b[0m \u001b[0mx\u001b[0m \u001b[0;32min\u001b[0m \u001b[0menumerate\u001b[0m\u001b[0;34m(\u001b[0m\u001b[0mtexts\u001b[0m\u001b[0;34m)\u001b[0m \u001b[0;32mif\u001b[0m \u001b[0mix\u001b[0m \u001b[0;32min\u001b[0m \u001b[0mtrain_idx\u001b[0m\u001b[0;34m]\u001b[0m\u001b[0;34m\u001b[0m\u001b[0;34m\u001b[0m\u001b[0m\n\u001b[0;32m----> 5\u001b[0;31m \u001b[0mtexts_test\u001b[0m \u001b[0;34m=\u001b[0m \u001b[0;34m[\u001b[0m\u001b[0mx\u001b[0m \u001b[0;32mfor\u001b[0m \u001b[0mix\u001b[0m\u001b[0;34m,\u001b[0m \u001b[0mx\u001b[0m \u001b[0;32min\u001b[0m \u001b[0menumerate\u001b[0m\u001b[0;34m(\u001b[0m\u001b[0mtexts\u001b[0m\u001b[0;34m)\u001b[0m \u001b[0;32mif\u001b[0m \u001b[0mix\u001b[0m \u001b[0;32min\u001b[0m \u001b[0mtest_idx\u001b[0m\u001b[0;34m]\u001b[0m\u001b[0;34m\u001b[0m\u001b[0;34m\u001b[0m\u001b[0m\n\u001b[0m\u001b[1;32m      6\u001b[0m \u001b[0mtarget_train\u001b[0m \u001b[0;34m=\u001b[0m \u001b[0;34m[\u001b[0m\u001b[0mx\u001b[0m \u001b[0;32mfor\u001b[0m \u001b[0mix\u001b[0m\u001b[0;34m,\u001b[0m \u001b[0mx\u001b[0m \u001b[0;32min\u001b[0m \u001b[0menumerate\u001b[0m\u001b[0;34m(\u001b[0m\u001b[0mtarget\u001b[0m\u001b[0;34m)\u001b[0m \u001b[0;32mif\u001b[0m \u001b[0mix\u001b[0m \u001b[0;32min\u001b[0m \u001b[0mtrain_idx\u001b[0m \u001b[0;34m]\u001b[0m\u001b[0;34m\u001b[0m\u001b[0;34m\u001b[0m\u001b[0m\n\u001b[1;32m      7\u001b[0m \u001b[0mtarget_test\u001b[0m \u001b[0;34m=\u001b[0m \u001b[0;34m[\u001b[0m\u001b[0mx\u001b[0m \u001b[0;32mfor\u001b[0m \u001b[0mix\u001b[0m\u001b[0;34m,\u001b[0m \u001b[0mx\u001b[0m \u001b[0;32min\u001b[0m \u001b[0menumerate\u001b[0m\u001b[0;34m(\u001b[0m\u001b[0mtarget\u001b[0m\u001b[0;34m)\u001b[0m \u001b[0;32mif\u001b[0m \u001b[0mix\u001b[0m \u001b[0;32min\u001b[0m \u001b[0mtest_idx\u001b[0m\u001b[0;34m]\u001b[0m\u001b[0;34m\u001b[0m\u001b[0;34m\u001b[0m\u001b[0m\n",
      "\u001b[0;32m<ipython-input-57-9a25c7282a70>\u001b[0m in \u001b[0;36m<listcomp>\u001b[0;34m(.0)\u001b[0m\n\u001b[1;32m      3\u001b[0m \u001b[0;34m\u001b[0m\u001b[0m\n\u001b[1;32m      4\u001b[0m \u001b[0mtexts_train\u001b[0m \u001b[0;34m=\u001b[0m \u001b[0;34m[\u001b[0m\u001b[0mx\u001b[0m \u001b[0;32mfor\u001b[0m \u001b[0mix\u001b[0m\u001b[0;34m,\u001b[0m \u001b[0mx\u001b[0m \u001b[0;32min\u001b[0m \u001b[0menumerate\u001b[0m\u001b[0;34m(\u001b[0m\u001b[0mtexts\u001b[0m\u001b[0;34m)\u001b[0m \u001b[0;32mif\u001b[0m \u001b[0mix\u001b[0m \u001b[0;32min\u001b[0m \u001b[0mtrain_idx\u001b[0m\u001b[0;34m]\u001b[0m\u001b[0;34m\u001b[0m\u001b[0;34m\u001b[0m\u001b[0m\n\u001b[0;32m----> 5\u001b[0;31m \u001b[0mtexts_test\u001b[0m \u001b[0;34m=\u001b[0m \u001b[0;34m[\u001b[0m\u001b[0mx\u001b[0m \u001b[0;32mfor\u001b[0m \u001b[0mix\u001b[0m\u001b[0;34m,\u001b[0m \u001b[0mx\u001b[0m \u001b[0;32min\u001b[0m \u001b[0menumerate\u001b[0m\u001b[0;34m(\u001b[0m\u001b[0mtexts\u001b[0m\u001b[0;34m)\u001b[0m \u001b[0;32mif\u001b[0m \u001b[0mix\u001b[0m \u001b[0;32min\u001b[0m \u001b[0mtest_idx\u001b[0m\u001b[0;34m]\u001b[0m\u001b[0;34m\u001b[0m\u001b[0;34m\u001b[0m\u001b[0m\n\u001b[0m\u001b[1;32m      6\u001b[0m \u001b[0mtarget_train\u001b[0m \u001b[0;34m=\u001b[0m \u001b[0;34m[\u001b[0m\u001b[0mx\u001b[0m \u001b[0;32mfor\u001b[0m \u001b[0mix\u001b[0m\u001b[0;34m,\u001b[0m \u001b[0mx\u001b[0m \u001b[0;32min\u001b[0m \u001b[0menumerate\u001b[0m\u001b[0;34m(\u001b[0m\u001b[0mtarget\u001b[0m\u001b[0;34m)\u001b[0m \u001b[0;32mif\u001b[0m \u001b[0mix\u001b[0m \u001b[0;32min\u001b[0m \u001b[0mtrain_idx\u001b[0m \u001b[0;34m]\u001b[0m\u001b[0;34m\u001b[0m\u001b[0;34m\u001b[0m\u001b[0m\n\u001b[1;32m      7\u001b[0m \u001b[0mtarget_test\u001b[0m \u001b[0;34m=\u001b[0m \u001b[0;34m[\u001b[0m\u001b[0mx\u001b[0m \u001b[0;32mfor\u001b[0m \u001b[0mix\u001b[0m\u001b[0;34m,\u001b[0m \u001b[0mx\u001b[0m \u001b[0;32min\u001b[0m \u001b[0menumerate\u001b[0m\u001b[0;34m(\u001b[0m\u001b[0mtarget\u001b[0m\u001b[0;34m)\u001b[0m \u001b[0;32mif\u001b[0m \u001b[0mix\u001b[0m \u001b[0;32min\u001b[0m \u001b[0mtest_idx\u001b[0m\u001b[0;34m]\u001b[0m\u001b[0;34m\u001b[0m\u001b[0;34m\u001b[0m\u001b[0m\n",
      "\u001b[0;31mKeyboardInterrupt\u001b[0m: "
     ]
    }
   ],
   "source": [
    "train_idx = np.random.choice(len(texts), round(len(texts)*0.8), replace=False) # 80% train el resto test\n",
    "test_idx = np.array(list(set(range(len(texts)))-set(train_idx)))\n",
    "\n",
    "texts_train = [x for ix, x in enumerate(texts) if ix in train_idx]\n",
    "texts_test = [x for ix, x in enumerate(texts) if ix in test_idx]\n",
    "target_train = [x for ix, x in enumerate(target) if ix in train_idx ]\n",
    "target_test = [x for ix, x in enumerate(target) if ix in test_idx]"
   ]
  },
  {
   "cell_type": "markdown",
   "metadata": {},
   "source": [
    "## Modelo "
   ]
  },
  {
   "cell_type": "code",
   "execution_count": null,
   "metadata": {},
   "outputs": [],
   "source": []
  }
 ],
 "metadata": {
  "kernelspec": {
   "display_name": "Python 3",
   "language": "python",
   "name": "python3"
  },
  "language_info": {
   "codemirror_mode": {
    "name": "ipython",
    "version": 3
   },
   "file_extension": ".py",
   "mimetype": "text/x-python",
   "name": "python",
   "nbconvert_exporter": "python",
   "pygments_lexer": "ipython3",
   "version": "3.7.3"
  }
 },
 "nbformat": 4,
 "nbformat_minor": 2
}
